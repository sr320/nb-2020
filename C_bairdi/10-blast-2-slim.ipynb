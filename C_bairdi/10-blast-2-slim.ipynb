{
 "cells": [
  {
   "cell_type": "markdown",
   "metadata": {},
   "source": [
    "## A notebook to seamlessly take blast output to GO Slim list"
   ]
  },
  {
   "cell_type": "markdown",
   "metadata": {
    "collapsed": true
   },
   "source": [
    "This is a notebook meant to run in a working directory. Please set working directory as variable in next cell"
   ]
  },
  {
   "cell_type": "code",
   "execution_count": 7,
   "metadata": {
    "ExecuteTime": {
     "end_time": "2020-04-21T22:31:22.778441Z",
     "start_time": "2020-04-21T22:31:22.773996Z"
    }
   },
   "outputs": [],
   "source": [
    "wd=\"/Volumes/block/wd/042120\"\n"
   ]
  },
  {
   "cell_type": "code",
   "execution_count": 8,
   "metadata": {
    "ExecuteTime": {
     "end_time": "2020-04-21T22:31:22.788485Z",
     "start_time": "2020-04-21T22:31:22.782155Z"
    }
   },
   "outputs": [
    {
     "name": "stdout",
     "output_type": "stream",
     "text": [
      "/Volumes/block/wd/042120\n"
     ]
    }
   ],
   "source": [
    "cd $wd"
   ]
  },
  {
   "cell_type": "markdown",
   "metadata": {},
   "source": [
    "### In this directory you will need three files\n",
    "1) blastout file in format `-6`    \n",
    "2) Uniprot GO annotation file (340M) available here `http://owl.fish.washington.edu/halfshell/bu-alanine-wd/17-07-20/uniprot-SP-GO.sorted`    \n",
    "3) GOslim file available here `http://owl.fish.washington.edu/halfshell/bu-alanine-wd/17-07-20/GO-GOslim.sorted`"
   ]
  },
  {
   "cell_type": "code",
   "execution_count": 9,
   "metadata": {
    "ExecuteTime": {
     "end_time": "2020-04-21T22:31:24.510607Z",
     "start_time": "2020-04-21T22:31:22.791432Z"
    }
   },
   "outputs": [
    {
     "name": "stdout",
     "output_type": "stream",
     "text": [
      "  % Total    % Received % Xferd  Average Speed   Time    Time     Time  Current\n",
      "                                 Dload  Upload   Total   Spent    Left  Speed\n",
      "100 1997k  100 1997k    0     0  1274k      0  0:00:01  0:00:01 --:--:-- 1274k\n"
     ]
    }
   ],
   "source": [
    "!curl https://gannet.fish.washington.edu/Atumefaciens/20200408_cbai_diamond_blastx_megan/20200408.C_bairdi.megan.Trinity.blastx.outfmt6 \\\n",
    "-o 20200408.C_bairdi.megan.Trinity.blastx.outfmt6    "
   ]
  },
  {
   "cell_type": "code",
   "execution_count": 10,
   "metadata": {
    "ExecuteTime": {
     "end_time": "2020-04-21T22:35:32.429951Z",
     "start_time": "2020-04-21T22:31:24.521135Z"
    }
   },
   "outputs": [
    {
     "name": "stdout",
     "output_type": "stream",
     "text": [
      "  % Total    % Received % Xferd  Average Speed   Time    Time     Time  Current\n",
      "                                 Dload  Upload   Total   Spent    Left  Speed\n",
      "100  340M  100  340M    0     0  1406k      0  0:04:07  0:04:07 --:--:-- 1626k  15 53.8M    0     0  1574k      0  0:03:41  0:00:34  0:03:07 1846k0     0  1609k      0  0:03:36  0:00:44  0:02:52 1796k     0  0:03:44  0:01:33  0:02:11 1342k   45  154M    0     0  1550k      0  0:03:44  0:01:41  0:02:03 1728k  0     0  1549k      0  0:03:44  0:01:42  0:02:02 1702k    0  1564k      0  0:03:42  0:02:01  0:01:41 1620k 1542k      0  0:03:45  0:02:47  0:00:58 1523k0  274M    0     0  1422k      0  0:04:05  0:03:17  0:00:48  680k  1388k      0  0:04:10  0:03:52  0:00:18 1605k\n"
     ]
    }
   ],
   "source": [
    "!curl http://owl.fish.washington.edu/halfshell/bu-alanine-wd/17-07-20/uniprot-SP-GO.sorted -o uniprot-SP-GO.sorted"
   ]
  },
  {
   "cell_type": "code",
   "execution_count": 11,
   "metadata": {
    "ExecuteTime": {
     "end_time": "2020-04-21T22:35:34.405204Z",
     "start_time": "2020-04-21T22:35:32.434402Z"
    }
   },
   "outputs": [
    {
     "name": "stdout",
     "output_type": "stream",
     "text": [
      "  % Total    % Received % Xferd  Average Speed   Time    Time     Time  Current\n",
      "                                 Dload  Upload   Total   Spent    Left  Speed\n",
      "100 2314k  100 2314k    0     0  1283k      0  0:00:01  0:00:01 --:--:-- 1283k\n"
     ]
    }
   ],
   "source": [
    "!curl http://owl.fish.washington.edu/halfshell/bu-alanine-wd/17-07-20/GO-GOslim.sorted -o GO-GOslim.sorted"
   ]
  },
  {
   "cell_type": "code",
   "execution_count": 12,
   "metadata": {
    "ExecuteTime": {
     "end_time": "2020-04-21T22:35:34.547781Z",
     "start_time": "2020-04-21T22:35:34.412441Z"
    }
   },
   "outputs": [
    {
     "name": "stdout",
     "output_type": "stream",
     "text": [
      "20200408.C_bairdi.megan.Trinity.blastx.outfmt6\r\n",
      "GO-GOslim.sorted\r\n",
      "uniprot-SP-GO.sorted\r\n"
     ]
    }
   ],
   "source": [
    "#checking if files in directory\n",
    "!ls "
   ]
  },
  {
   "cell_type": "markdown",
   "metadata": {},
   "source": [
    "### Set blastout file as variable"
   ]
  },
  {
   "cell_type": "code",
   "execution_count": 13,
   "metadata": {
    "ExecuteTime": {
     "end_time": "2020-04-21T22:35:34.565912Z",
     "start_time": "2020-04-21T22:35:34.557581Z"
    }
   },
   "outputs": [],
   "source": [
    "blastout=\"20200408.C_bairdi.megan.Trinity.blastx.outfmt6\"\n"
   ]
  },
  {
   "cell_type": "markdown",
   "metadata": {},
   "source": [
    "# That should be the last thing you have to Type!"
   ]
  },
  {
   "cell_type": "markdown",
   "metadata": {},
   "source": []
  },
  {
   "cell_type": "code",
   "execution_count": 14,
   "metadata": {
    "ExecuteTime": {
     "end_time": "2020-04-21T22:35:34.720241Z",
     "start_time": "2020-04-21T22:35:34.569412Z"
    }
   },
   "outputs": [
    {
     "name": "stdout",
     "output_type": "stream",
     "text": [
      "TRINITY_DN21551_c1_g1_i1\tsp|Q5ZK63|TCP4_CHICK\t45.1\t71\t38\t1\t410\t201\t56\t126\t1.2e-12\t75.1\r\n",
      "TRINITY_DN21560_c0_g1_i1\tsp|Q56JU9|RS24_BOVIN\t74.2\t128\t33\t0\t68\t451\t4\t131\t2.4e-44\t179.9\r\n"
     ]
    }
   ],
   "source": [
    "!head -2 $blastout"
   ]
  },
  {
   "cell_type": "code",
   "execution_count": 15,
   "metadata": {
    "ExecuteTime": {
     "end_time": "2020-04-21T22:35:35.077299Z",
     "start_time": "2020-04-21T22:35:34.728245Z"
    }
   },
   "outputs": [],
   "source": [
    "#convert pipes to tab\n",
    "!tr '|' '\\t' < $blastout \\\n",
    "> _blast-sep.tab"
   ]
  },
  {
   "cell_type": "code",
   "execution_count": 16,
   "metadata": {
    "ExecuteTime": {
     "end_time": "2020-04-21T22:35:35.213137Z",
     "start_time": "2020-04-21T22:35:35.081494Z"
    },
    "scrolled": true
   },
   "outputs": [
    {
     "name": "stdout",
     "output_type": "stream",
     "text": [
      "TRINITY_DN21551_c1_g1_i1\tsp\tQ5ZK63\tTCP4_CHICK\t45.1\t71\t38\t1\t410\t201\t56\t126\t1.2e-12\t75.1\r\n",
      "TRINITY_DN21560_c0_g1_i1\tsp\tQ56JU9\tRS24_BOVIN\t74.2\t128\t33\t0\t68\t451\t4\t131\t2.4e-44\t179.9\r\n"
     ]
    }
   ],
   "source": [
    "!head -2 _blast-sep.tab"
   ]
  },
  {
   "cell_type": "code",
   "execution_count": 28,
   "metadata": {
    "ExecuteTime": {
     "end_time": "2020-04-22T15:13:20.788140Z",
     "start_time": "2020-04-22T15:13:20.121040Z"
    }
   },
   "outputs": [],
   "source": [
    "#reducing number of columns and sorting \n",
    "!awk -v OFS='\\t' '{print $3, $1, $13}' < _blast-sep.tab | sort \\\n",
    "> _blast-sort.tab"
   ]
  },
  {
   "cell_type": "code",
   "execution_count": 29,
   "metadata": {
    "ExecuteTime": {
     "end_time": "2020-04-22T15:13:21.800741Z",
     "start_time": "2020-04-22T15:13:21.665482Z"
    }
   },
   "outputs": [
    {
     "name": "stdout",
     "output_type": "stream",
     "text": [
      "A0A068FIK2\tTRINITY_DN6827_c0_g1_i1\t4.5e-30\r\n",
      "A0A087WPF7\tTRINITY_DN15151_c0_g1_i1\t3.2e-06\r\n"
     ]
    }
   ],
   "source": [
    "!head -2 _blast-sort.tab"
   ]
  },
  {
   "cell_type": "code",
   "execution_count": 27,
   "metadata": {
    "ExecuteTime": {
     "end_time": "2020-04-22T15:12:28.141490Z",
     "start_time": "2020-04-22T15:12:27.980813Z"
    }
   },
   "outputs": [
    {
     "name": "stdout",
     "output_type": "stream",
     "text": [
      "A0A023GPI8\tLECA_CANBL\treviewed\tLectin alpha chain (CboL) [Cleaved into: Lectin beta chain; Lectin gamma chain]\t\tCanavalia boliviana\t237\t\t\tmannose binding [GO:0005537]; metal ion binding [GO:0046872]\tmannose binding [GO:0005537]; metal ion binding [GO:0046872]\tGO:0005537; GO:0046872\r\n",
      "A0A023GPJ0\tCDII_ENTCC\treviewed\tImmunity protein CdiI\tcdiI ECL_04450.1\tEnterobacter cloacae subsp. cloacae (strain ATCC 13047 / DSM 30054 / NBRC 13535 / NCDC 279-56)\t145\t\t\t\t\t\r\n"
     ]
    }
   ],
   "source": [
    "!head -2 uniprot-SP-GO.sorted"
   ]
  },
  {
   "cell_type": "code",
   "execution_count": 30,
   "metadata": {
    "ExecuteTime": {
     "end_time": "2020-04-22T15:13:29.311073Z",
     "start_time": "2020-04-22T15:13:24.799255Z"
    },
    "scrolled": true
   },
   "outputs": [],
   "source": [
    "#joining blast with uniprot annoation file and reducing to three columns UniprotID, Query, All GO terms\n",
    "!join -t $'\\t' \\\n",
    "_blast-sort.tab \\\n",
    "uniprot-SP-GO.sorted \\\n",
    "| cut -f1,2,14 \\\n",
    "> _blast-annot.tab"
   ]
  },
  {
   "cell_type": "code",
   "execution_count": 31,
   "metadata": {
    "ExecuteTime": {
     "end_time": "2020-04-22T15:13:29.452922Z",
     "start_time": "2020-04-22T15:13:29.317442Z"
    }
   },
   "outputs": [
    {
     "name": "stdout",
     "output_type": "stream",
     "text": [
      "A0A068FIK2\tTRINITY_DN6827_c0_g1_i1\tGO:0003777; GO:0005524; GO:0005737; GO:0007018; GO:0008017; GO:0055028; GO:0071555\r\n",
      "A0A0F7YZI5\tTRINITY_DN7195_c0_g1_i1\tGO:0005179; GO:0005576\r\n"
     ]
    }
   ],
   "source": [
    "!head -2 _blast-annot.tab"
   ]
  },
  {
   "cell_type": "markdown",
   "metadata": {},
   "source": [
    "## The following is a script modidified from Sam"
   ]
  },
  {
   "cell_type": "code",
   "execution_count": 32,
   "metadata": {
    "ExecuteTime": {
     "end_time": "2020-04-22T15:18:02.387383Z",
     "start_time": "2020-04-22T15:13:51.355242Z"
    }
   },
   "outputs": [],
   "source": [
    "%%bash \n",
    "\n",
    "# This script was originally written to address a specific problem that Rhonda was having\n",
    "\n",
    "\n",
    "\n",
    "# input_file is the initial, \"problem\" file\n",
    "# file is an intermediate file that most of the program works upon\n",
    "# output_file is the final file produced by the script\n",
    "input_file=\"_blast-annot.tab\"\n",
    "file=\"_intermediate.file\"\n",
    "output_file=\"_blast-GO-unfolded.tab\"\n",
    "\n",
    "# sed command substitutes the \"; \" sequence to a tab and writes the new format to a new file.\n",
    "# This character sequence is how the GO terms are delimited in their field.\n",
    "sed $'s/; /\\t/g' \"$input_file\" > \"$file\"\n",
    "\n",
    "# Identify first field containing a GO term.\n",
    "# Search file with grep for \"GO:\" and pipe to awk.\n",
    "# Awk sets tab as field delimiter (-F'\\t'), runs a for loop that looks for \"GO:\" (~/GO:/), and then prints the field number).\n",
    "# Awk results are piped to sort, which sorts unique by number (-ug).\n",
    "# Sort results are piped to head to retrieve the lowest value (i.e. the top of the list; \"-n1\").\n",
    "begin_goterms=$(grep \"GO:\" \"$file\" | awk -F'\\t' '{for (i=1;i<=NF;i++) if($i ~/GO:/) print i}' | sort -ug | head -n1)\n",
    "\n",
    "# While loop to process each line of the input file.\n",
    "while read -r line\n",
    "\tdo\n",
    "\t\n",
    "\t# Send contents of the current line to awk.\n",
    "\t# Set the field separator as a tab (-F'\\t') and print the number of fields in that line.\n",
    "\t# Save the results of the echo/awk pipe (i.e. number of fields) to the variable \"max_field\".\n",
    "\tmax_field=$(echo \"$line\" | awk -F'\\t' '{print NF}')\n",
    "\n",
    "\t# Send contents of current line to cut.\n",
    "\t# Cut fields (i.e. retain those fields) 1-12.\n",
    "\t# Save the results of the echo/cut pipe (i.e. fields 1-12) to the variable \"fixed_fields\"\n",
    "\tfixed_fields=$(echo \"$line\" | cut -f1-2)\n",
    "\n",
    "\t# Since not all the lines contain the same number of fields (e.g. may not have GO terms),\n",
    "\t# evaluate the number of fields in each line to determine how to handle current line.\n",
    "\n",
    "\t# If the value in max_field is less than the field number where the GO terms begin,\n",
    "\t# then just print the current line (%s) followed by a newline (\\n).\n",
    "\tif (( \"$max_field\" < \"$begin_goterms\" ))\n",
    "\t\tthen printf \"%s\\n\" \"$line\"\n",
    "\t\t\telse\n",
    "\n",
    "\t\t\t# Send contents of current line (which contains GO terms) to cut.\n",
    "\t\t\t# Cut fields (i.e. retain those fields) 13 to whatever the last field is in the curent line.\n",
    "\t\t\t# Save the results of the echo/cut pipe (i.e. all the GO terms fields) to the variable \"goterms\".\n",
    "\t\t\tgoterms=$(echo \"$line\" | cut -f\"$begin_goterms\"-\"$max_field\")\n",
    "\t\t\t\n",
    "\t\t\t# Assign values in the variable \"goterms\" to a new indexed array (called \"array\"), \n",
    "\t\t\t# with tab delimiter (IFS=$'\\t')\n",
    "\t\t\tIFS=$'\\t' read -r -a array <<<\"$goterms\"\n",
    "\t\t\t\n",
    "\t\t\t# Iterate through each element of the array.\n",
    "\t\t\t# Print the first 12 fields (i.e. the fields stored in \"fixed_fields\") followed by a tab (%s\\t).\n",
    "\t\t\t# Print the current element in the array (i.e. the current GO term) followed by a new line (%s\\n).\n",
    "\t\t\tfor element in \"${!array[@]}\"\t\n",
    "\t\t\t\tdo printf \"%s\\t%s\\n\" \"$fixed_fields\" \"${array[$element]}\"\n",
    "\t\t\tdone\n",
    "\tfi\n",
    "\n",
    "# Send the input file into the while loop and send the output to a file named \"rhonda_fixed.txt\".\n",
    "done < \"$file\" > \"$output_file\""
   ]
  },
  {
   "cell_type": "code",
   "execution_count": 33,
   "metadata": {
    "ExecuteTime": {
     "end_time": "2020-04-22T15:18:02.519850Z",
     "start_time": "2020-04-22T15:18:02.390219Z"
    }
   },
   "outputs": [
    {
     "name": "stdout",
     "output_type": "stream",
     "text": [
      "A0A068FIK2\tTRINITY_DN6827_c0_g1_i1\tGO:0003777\r\n",
      "A0A068FIK2\tTRINITY_DN6827_c0_g1_i1\tGO:0005524\r\n",
      "A0A068FIK2\tTRINITY_DN6827_c0_g1_i1\tGO:0005737\r\n",
      "A0A068FIK2\tTRINITY_DN6827_c0_g1_i1\tGO:0007018\r\n",
      "A0A068FIK2\tTRINITY_DN6827_c0_g1_i1\tGO:0008017\r\n",
      "A0A068FIK2\tTRINITY_DN6827_c0_g1_i1\tGO:0055028\r\n",
      "A0A068FIK2\tTRINITY_DN6827_c0_g1_i1\tGO:0071555\r\n",
      "A0A0F7YZI5\tTRINITY_DN7195_c0_g1_i1\tGO:0005179\r\n",
      "A0A0F7YZI5\tTRINITY_DN7195_c0_g1_i1\tGO:0005576\r\n",
      "A0A0F7Z3J2\tTRINITY_DN25564_c0_g1_i1\tGO:0005179\r\n"
     ]
    }
   ],
   "source": [
    "!head _blast-GO-unfolded.tab"
   ]
  },
  {
   "cell_type": "code",
   "execution_count": 34,
   "metadata": {
    "ExecuteTime": {
     "end_time": "2020-04-22T15:18:06.249529Z",
     "start_time": "2020-04-22T15:18:02.526849Z"
    }
   },
   "outputs": [],
   "source": [
    "#gets rid of lines with no GOIDs\n",
    "!sort -k3 _blast-GO-unfolded.tab | grep \"GO:\" > _blast-GO-unfolded.sorted"
   ]
  },
  {
   "cell_type": "code",
   "execution_count": 35,
   "metadata": {
    "ExecuteTime": {
     "end_time": "2020-04-22T15:18:07.936905Z",
     "start_time": "2020-04-22T15:18:06.254536Z"
    }
   },
   "outputs": [],
   "source": [
    "#joining files to get GOslim for each query (with duplicate GOslim / query removed)\n",
    "!join -1 3 -2 1 -t $'\\t' \\\n",
    "_blast-GO-unfolded.sorted \\\n",
    "GO-GOslim.sorted \\\n",
    "| uniq | awk -F'\\t' -v OFS='\\t' '{print $3, $1, $5, $6}' \\\n",
    "> Blastquery-GOslim.tab"
   ]
  },
  {
   "cell_type": "code",
   "execution_count": 36,
   "metadata": {
    "ExecuteTime": {
     "end_time": "2020-04-22T15:18:08.078169Z",
     "start_time": "2020-04-22T15:18:07.945993Z"
    },
    "scrolled": true
   },
   "outputs": [
    {
     "name": "stdout",
     "output_type": "stream",
     "text": [
      "TRINITY_DN4563_c0_g1_i1\tGO:0000001\tcell organization and biogenesis\tP\r\n",
      "TRINITY_DN2020_c0_g1_i5\tGO:0000002\tcell organization and biogenesis\tP\r\n",
      "TRINITY_DN4388_c0_g1_i3\tGO:0000002\tcell organization and biogenesis\tP\r\n",
      "TRINITY_DN4388_c0_g1_i4\tGO:0000002\tcell organization and biogenesis\tP\r\n",
      "TRINITY_DN4985_c0_g1_i1\tGO:0000002\tcell organization and biogenesis\tP\r\n",
      "TRINITY_DN22531_c0_g1_i1\tGO:0000002\tcell organization and biogenesis\tP\r\n",
      "TRINITY_DN4468_c0_g2_i1\tGO:0000002\tcell organization and biogenesis\tP\r\n",
      "TRINITY_DN9608_c0_g1_i1\tGO:0000002\tcell organization and biogenesis\tP\r\n",
      "TRINITY_DN14285_c0_g1_i1\tGO:0000002\tcell organization and biogenesis\tP\r\n",
      "TRINITY_DN1568_c1_g1_i14\tGO:0000002\tcell organization and biogenesis\tP\r\n"
     ]
    }
   ],
   "source": [
    "!head Blastquery-GOslim.tab"
   ]
  },
  {
   "cell_type": "code",
   "execution_count": 50,
   "metadata": {
    "ExecuteTime": {
     "end_time": "2020-04-22T15:28:28.734095Z",
     "start_time": "2020-04-22T15:28:27.275061Z"
    }
   },
   "outputs": [
    {
     "name": "stdout",
     "output_type": "stream",
     "text": [
      "114708 P\r\n"
     ]
    }
   ],
   "source": [
    "!cat Blastquery-GOslim.tab | grep \"\tP\"  | awk -F $'\\t' '{print $4}' | sort | uniq -c"
   ]
  },
  {
   "cell_type": "code",
   "execution_count": 102,
   "metadata": {
    "ExecuteTime": {
     "end_time": "2020-04-22T15:48:41.548064Z",
     "start_time": "2020-04-22T15:48:39.784473Z"
    }
   },
   "outputs": [
    {
     "name": "stdout",
     "output_type": "stream",
     "text": [
      "8350 transport\r\n",
      "8282 protein metabolism\r\n",
      "6622 signal transduction\r\n",
      "5317 stress response\r\n",
      "4719 cell cycle and proliferation\r\n",
      "2887 DNA metabolism\r\n",
      "2093 death\r\n",
      "20063 developmental processes\r\n",
      "1701 cell-cell signaling\r\n",
      "16874 other biological processes\r\n",
      "14568 cell organization and biogenesis\r\n",
      "1426 cell adhesion\r\n",
      "11074 other metabolic processes\r\n",
      "10732 RNA metabolism\r\n"
     ]
    }
   ],
   "source": [
    "!cat Blastquery-GOslim.tab | grep \"\tP\" | awk -F $'\\t' '{print $3}' | sort | uniq -c | sort -r "
   ]
  },
  {
   "cell_type": "code",
   "execution_count": 52,
   "metadata": {
    "ExecuteTime": {
     "end_time": "2020-04-22T15:30:22.481147Z",
     "start_time": "2020-04-22T15:30:20.672252Z"
    }
   },
   "outputs": [],
   "source": [
    "!cat Blastquery-GOslim.tab | grep \"\tP\" | awk -F $'\\t' '{print $3}' | sort | uniq -c | sort -r > GOslim-P-pie.txt"
   ]
  },
  {
   "cell_type": "code",
   "execution_count": 63,
   "metadata": {
    "ExecuteTime": {
     "end_time": "2020-04-22T15:33:40.968923Z",
     "start_time": "2020-04-22T15:33:39.875967Z"
    }
   },
   "outputs": [],
   "source": [
    "import matplotlib.pyplot as plt\n",
    "import pandas as pd\n",
    "import seaborn as sns\n",
    "% matplotlib inline"
   ]
  },
  {
   "cell_type": "code",
   "execution_count": 112,
   "metadata": {
    "ExecuteTime": {
     "end_time": "2020-04-22T15:55:03.992192Z",
     "start_time": "2020-04-22T15:55:03.548800Z"
    }
   },
   "outputs": [],
   "source": [
    "!cat Blastquery-GOslim.tab | grep \"\tP\" > JP-Blastquery-GOslim.tab"
   ]
  },
  {
   "cell_type": "code",
   "execution_count": 113,
   "metadata": {
    "ExecuteTime": {
     "end_time": "2020-04-22T15:55:10.037391Z",
     "start_time": "2020-04-22T15:55:09.932842Z"
    }
   },
   "outputs": [],
   "source": [
    "jslim = read_table(\"JP-Blastquery-GOslim.tab\", # name of the data file\n",
    "            #sep=\",\", # what character separates each column?\n",
    "            # header=0, \n",
    "            usecols=[0,2, 3], names=['ID', 'GOterm', 'type'],       \n",
    "            na_values=[\"\", \" \"]) # what values should be considered \"blank\" values?"
   ]
  },
  {
   "cell_type": "code",
   "execution_count": 114,
   "metadata": {
    "ExecuteTime": {
     "end_time": "2020-04-22T15:55:11.550597Z",
     "start_time": "2020-04-22T15:55:11.538736Z"
    }
   },
   "outputs": [
    {
     "data": {
      "text/html": [
       "<div>\n",
       "<style>\n",
       "    .dataframe thead tr:only-child th {\n",
       "        text-align: right;\n",
       "    }\n",
       "\n",
       "    .dataframe thead th {\n",
       "        text-align: left;\n",
       "    }\n",
       "\n",
       "    .dataframe tbody tr th {\n",
       "        vertical-align: top;\n",
       "    }\n",
       "</style>\n",
       "<table border=\"1\" class=\"dataframe\">\n",
       "  <thead>\n",
       "    <tr style=\"text-align: right;\">\n",
       "      <th></th>\n",
       "      <th>ID</th>\n",
       "      <th>GOterm</th>\n",
       "      <th>type</th>\n",
       "    </tr>\n",
       "  </thead>\n",
       "  <tbody>\n",
       "    <tr>\n",
       "      <th>0</th>\n",
       "      <td>TRINITY_DN4563_c0_g1_i1</td>\n",
       "      <td>cell organization and biogenesis</td>\n",
       "      <td>P</td>\n",
       "    </tr>\n",
       "    <tr>\n",
       "      <th>1</th>\n",
       "      <td>TRINITY_DN2020_c0_g1_i5</td>\n",
       "      <td>cell organization and biogenesis</td>\n",
       "      <td>P</td>\n",
       "    </tr>\n",
       "    <tr>\n",
       "      <th>2</th>\n",
       "      <td>TRINITY_DN4388_c0_g1_i3</td>\n",
       "      <td>cell organization and biogenesis</td>\n",
       "      <td>P</td>\n",
       "    </tr>\n",
       "    <tr>\n",
       "      <th>3</th>\n",
       "      <td>TRINITY_DN4388_c0_g1_i4</td>\n",
       "      <td>cell organization and biogenesis</td>\n",
       "      <td>P</td>\n",
       "    </tr>\n",
       "    <tr>\n",
       "      <th>4</th>\n",
       "      <td>TRINITY_DN4985_c0_g1_i1</td>\n",
       "      <td>cell organization and biogenesis</td>\n",
       "      <td>P</td>\n",
       "    </tr>\n",
       "  </tbody>\n",
       "</table>\n",
       "</div>"
      ],
      "text/plain": [
       "                        ID                            GOterm type\n",
       "0  TRINITY_DN4563_c0_g1_i1  cell organization and biogenesis    P\n",
       "1  TRINITY_DN2020_c0_g1_i5  cell organization and biogenesis    P\n",
       "2  TRINITY_DN4388_c0_g1_i3  cell organization and biogenesis    P\n",
       "3  TRINITY_DN4388_c0_g1_i4  cell organization and biogenesis    P\n",
       "4  TRINITY_DN4985_c0_g1_i1  cell organization and biogenesis    P"
      ]
     },
     "execution_count": 114,
     "metadata": {},
     "output_type": "execute_result"
    }
   ],
   "source": [
    "jslim.head()"
   ]
  },
  {
   "cell_type": "code",
   "execution_count": 115,
   "metadata": {
    "ExecuteTime": {
     "end_time": "2020-04-22T15:55:13.419413Z",
     "start_time": "2020-04-22T15:55:13.243030Z"
    }
   },
   "outputs": [
    {
     "data": {
      "image/png": "[encoded data removed]",
      "text/plain": [
       "<Figure size 432x288 with 1 Axes>"
      ]
     },
     "metadata": {},
     "output_type": "display_data"
    }
   ],
   "source": [
    "jslim['GOterm'].value_counts().plot(kind='bar');"
   ]
  },
  {
   "cell_type": "code",
   "execution_count": 116,
   "metadata": {
    "ExecuteTime": {
     "end_time": "2020-04-22T15:55:21.653166Z",
     "start_time": "2020-04-22T15:55:21.475471Z"
    },
    "scrolled": true
   },
   "outputs": [
    {
     "data": {
      "text/plain": [
       "<matplotlib.axes._subplots.AxesSubplot at 0x1157063c8>"
      ]
     },
     "execution_count": 116,
     "metadata": {},
     "output_type": "execute_result"
    },
    {
     "data": {
      "image/png": "[encoded data removed]",
      "text/plain": [
       "<Figure size 432x288 with 1 Axes>"
      ]
     },
     "metadata": {},
     "output_type": "display_data"
    }
   ],
   "source": [
    "jslim = jslim.groupby(['GOterm'])['ID'].count()\n",
    "\n",
    "jslim.plot.bar()"
   ]
  },
  {
   "cell_type": "code",
   "execution_count": null,
   "metadata": {},
   "outputs": [],
   "source": []
  }
 ],
 "metadata": {
  "kernelspec": {
   "display_name": "Python 3",
   "language": "python",
   "name": "python3"
  },
  "language_info": {
   "codemirror_mode": {
    "name": "ipython",
    "version": 3
   },
   "file_extension": ".py",
   "mimetype": "text/x-python",
   "name": "python",
   "nbconvert_exporter": "python",
   "pygments_lexer": "ipython3",
   "version": "3.6.8"
  }
 },
 "nbformat": 4,
 "nbformat_minor": 1
}
