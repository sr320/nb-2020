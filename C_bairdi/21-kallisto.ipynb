{
 "cells": [
  {
   "cell_type": "code",
   "execution_count": 1,
   "metadata": {
    "ExecuteTime": {
     "end_time": "2020-04-15T15:35:21.070993Z",
     "start_time": "2020-04-15T15:35:20.909755Z"
    }
   },
   "outputs": [
    {
     "name": "stdout",
     "output_type": "stream",
     "text": [
      "kallisto 0.46.2\n",
      "\n",
      "Usage: kallisto <CMD> [arguments] ..\n",
      "\n",
      "Where <CMD> can be one of:\n",
      "\n",
      "    index         Builds a kallisto index \n",
      "    quant         Runs the quantification algorithm \n",
      "    bus           Generate BUS files for single-cell data \n",
      "    pseudo        Runs the pseudoalignment step \n",
      "    merge         Merges several batch runs \n",
      "    h5dump        Converts HDF5-formatted results to plaintext\n",
      "    inspect       Inspects and gives information about an index\n",
      "    version       Prints version information\n",
      "    cite          Prints citation information\n",
      "\n",
      "Running kallisto <CMD> without arguments prints usage information for <CMD>\n",
      "\n"
     ]
    }
   ],
   "source": [
    "!kallisto"
   ]
  },
  {
   "cell_type": "code",
   "execution_count": 1,
   "metadata": {
    "ExecuteTime": {
     "end_time": "2020-04-15T20:51:18.140019Z",
     "start_time": "2020-04-15T20:39:26.359072Z"
    }
   },
   "outputs": [
    {
     "name": "stdout",
     "output_type": "stream",
     "text": [
      "\n",
      "[quant] fragment length distribution will be estimated from the data\n",
      "[index] k-mer length: 31\n",
      "[index] number of targets: 40,435\n",
      "[index] number of k-mers: 18,736,521\n",
      "[index] number of equivalence classes: 77,895\n",
      "[quant] running in paired-end mode\n",
      "[quant] will process pair 1: /Volumes/block/c_bairdi/113_R1_001.fastp-trim.202003184225.fq.gz\n",
      "                             /Volumes/block/c_bairdi/113_R2_001.fastp-trim.202003184225.fq.gz\n",
      "[quant] finding pseudoalignments for the reads ... done\n",
      "[quant] processed 30,861,709 reads, 13,999,990 reads pseudoaligned\n",
      "[quant] estimated average fragment length: 120.224\n",
      "[   em] quantifying the abundances ... done\n",
      "[   em] the Expectation-Maximization algorithm ran for 1,280 rounds\n",
      "\n"
     ]
    }
   ],
   "source": [
    "!kallisto quant \\\n",
    "-i analyses/C_bairdi_transcriptome_01 \\\n",
    "-t 4 \\\n",
    "-o analyses/113_015_out \\\n",
    "/Volumes/block/c_bairdi/113_R1_001.fastp-trim.202003184225.fq.gz /Volumes/block/c_bairdi/113_R2_001.fastp-trim.202003184225.fq.gz\n"
   ]
  },
  {
   "cell_type": "code",
   "execution_count": 5,
   "metadata": {
    "ExecuteTime": {
     "end_time": "2020-04-15T20:51:18.140019Z",
     "start_time": "2020-04-15T20:39:26.359072Z"
    }
   },
   "outputs": [
    {
     "name": "stdout",
     "output_type": "stream",
     "text": [
      "\n",
      "[quant] fragment length distribution will be estimated from the data\n",
      "[index] k-mer length: 31\n",
      "[index] number of targets: 40,435\n",
      "[index] number of k-mers: 18,736,521\n",
      "[index] number of equivalence classes: 77,895\n",
      "[quant] running in paired-end mode\n",
      "[quant] will process pair 1: /Volumes/block/c_bairdi/118_R1_001.fastp-trim.202003184931.fq.gz\n",
      "                             /Volumes/block/c_bairdi/118_R2_001.fastp-trim.202003184931.fq.gz\n",
      "[quant] finding pseudoalignments for the reads ... done\n",
      "[quant] processed 28,556,288 reads, 13,889,662 reads pseudoaligned\n",
      "[quant] estimated average fragment length: 100.911\n",
      "[   em] quantifying the abundances ... done\n",
      "[   em] the Expectation-Maximization algorithm ran for 1,294 rounds\n",
      "\n"
     ]
    }
   ],
   "source": [
    "!kallisto quant \\\n",
    "-i analyses/C_bairdi_transcriptome_01 \\\n",
    "-t 4 \\\n",
    "-o analyses/118_015_out \\\n",
    "/Volumes/block/c_bairdi/118_R1_001.fastp-trim.202003184931.fq.gz /Volumes/block/c_bairdi/118_R2_001.fastp-trim.202003184931.fq.gz\n"
   ]
  },
  {
   "cell_type": "code",
   "execution_count": 6,
   "metadata": {
    "ExecuteTime": {
     "end_time": "2020-04-15T20:51:18.140019Z",
     "start_time": "2020-04-15T20:39:26.359072Z"
    }
   },
   "outputs": [
    {
     "name": "stdout",
     "output_type": "stream",
     "text": [
      "\n",
      "[quant] fragment length distribution will be estimated from the data\n",
      "[index] k-mer length: 31\n",
      "[index] number of targets: 40,435\n",
      "[index] number of k-mers: 18,736,521\n",
      "[index] number of equivalence classes: 77,895\n",
      "[quant] running in paired-end mode\n",
      "[quant] will process pair 1: /Volumes/block/c_bairdi/127_R1_001.fastp-trim.202003185538.fq.gz\n",
      "                             /Volumes/block/c_bairdi/127_R2_001.fastp-trim.202003185538.fq.gz\n",
      "[quant] finding pseudoalignments for the reads ... done\n",
      "[quant] processed 26,948,882 reads, 14,007,743 reads pseudoaligned\n",
      "[quant] estimated average fragment length: 118.488\n",
      "[   em] quantifying the abundances ... done\n",
      "[   em] the Expectation-Maximization algorithm ran for 1,247 rounds\n",
      "\n"
     ]
    }
   ],
   "source": [
    "!kallisto quant \\\n",
    "-i analyses/C_bairdi_transcriptome_01 \\\n",
    "-t 4 \\\n",
    "-o analyses/127_015_out \\\n",
    "/Volumes/block/c_bairdi/127_R1_001.fastp-trim.202003185538.fq.gz /Volumes/block/c_bairdi/127_R2_001.fastp-trim.202003185538.fq.gz\n"
   ]
  },
  {
   "cell_type": "code",
   "execution_count": 7,
   "metadata": {
    "ExecuteTime": {
     "end_time": "2020-04-15T20:51:18.140019Z",
     "start_time": "2020-04-15T20:39:26.359072Z"
    }
   },
   "outputs": [
    {
     "name": "stdout",
     "output_type": "stream",
     "text": [
      "\n",
      "[quant] fragment length distribution will be estimated from the data\n",
      "[index] k-mer length: 31\n",
      "[index] number of targets: 40,435\n",
      "[index] number of k-mers: 18,736,521\n",
      "[index] number of equivalence classes: 77,895\n",
      "[quant] running in paired-end mode\n",
      "[quant] will process pair 1: /Volumes/block/c_bairdi/132_R1_001.fastp-trim.202003180140.fq.gz\n",
      "                             /Volumes/block/c_bairdi/132_R2_001.fastp-trim.202003180140.fq.gz\n",
      "[quant] finding pseudoalignments for the reads ... done\n",
      "[quant] processed 26,962,537 reads, 16,374,907 reads pseudoaligned\n",
      "[quant] estimated average fragment length: 115.76\n",
      "[   em] quantifying the abundances ... done\n",
      "[   em] the Expectation-Maximization algorithm ran for 1,023 rounds\n",
      "\n"
     ]
    }
   ],
   "source": [
    "!kallisto quant \\\n",
    "-i analyses/C_bairdi_transcriptome_01 \\\n",
    "-t 4 \\\n",
    "-o analyses/132_015_out \\\n",
    "/Volumes/block/c_bairdi/132_R1_001.fastp-trim.202003180140.fq.gz /Volumes/block/c_bairdi/132_R2_001.fastp-trim.202003180140.fq.gz\n"
   ]
  },
  {
   "cell_type": "markdown",
   "metadata": {},
   "source": [
    "# Creating Matrices"
   ]
  },
  {
   "cell_type": "code",
   "execution_count": 20,
   "metadata": {
    "ExecuteTime": {
     "end_time": "2020-04-15T21:25:50.672177Z",
     "start_time": "2020-04-15T21:25:50.413518Z"
    }
   },
   "outputs": [
    {
     "name": "stdout",
     "output_type": "stream",
     "text": [
      "\n",
      "####################################################################################\n",
      "#\n",
      "# Usage:  /Applications/bioinfo/trinityrnaseq-v2.8.6/util/abundance_estimates_to_matrix.pl --est_method <method>  sample1.results sample2.results ...\n",
      "#\n",
      "#      or  /Applications/bioinfo/trinityrnaseq-v2.8.6/util/abundance_estimates_to_matrix.pl --est_method <method> --quant_files file.listing_target_files.txt\n",
      "#\n",
      "#      Note, if only a single input file is given, it's expected to contain the paths to all the target abundance estimation files.\n",
      "#\n",
      "# Required:\n",
      "#            \n",
      "#  --est_method <string>           RSEM|eXpress|kallisto|salmon  (needs to know what format to expect)\n",
      "#\n",
      "#  --gene_trans_map <string>           the gene-to-transcript mapping file. (if you don't want gene estimates, indicate 'none'.\n",
      "#\n",
      "#\n",
      "# Options:\n",
      "#\n",
      "#  --cross_sample_norm <string>         TMM|UpperQuartile|none   (default: TMM)\n",
      "#\n",
      "#  --name_sample_by_basedir             name sample column by dirname instead of filename\n",
      "#      --basedir_index <int>            default(-2)\n",
      "#\n",
      "#  --out_prefix <string>                default: value for --est_method\n",
      "#\n",
      "#  --quant_files <string>              file containing a list of all the target files.\n",
      "#\n",
      "######################################################################################\n",
      "\n",
      "\n"
     ]
    }
   ],
   "source": [
    "!perl /Applications/bioinfo/trinityrnaseq-v2.8.6/util/abundance_estimates_to_matrix.pl"
   ]
  },
  {
   "cell_type": "code",
   "execution_count": 23,
   "metadata": {
    "ExecuteTime": {
     "end_time": "2020-04-15T21:30:55.561625Z",
     "start_time": "2020-04-15T21:30:53.801013Z"
    }
   },
   "outputs": [
    {
     "name": "stdout",
     "output_type": "stream",
     "text": [
      "-reading file: /Users/sr320/Documents/GitHub/nb-2020/C_bairdi/analyses/329774_out/abundance.tsv\n",
      "-reading file: /Users/sr320/Documents/GitHub/nb-2020/C_bairdi/analyses/329775_out/abundance.tsv\n",
      "-reading file: /Users/sr320/Documents/GitHub/nb-2020/C_bairdi/analyses/329776_out/abundance.tsv\n",
      "-reading file: /Users/sr320/Documents/GitHub/nb-2020/C_bairdi/analyses/329777_out/abundance.tsv\n",
      "\n",
      "\n",
      "* Outputting combined matrix.\n",
      "\n",
      "/Applications/bioinfo/trinityrnaseq-v2.8.6/util/support_scripts/run_TMM_scale_matrix.pl --matrix analyses/kallisto-0315.isoform.TPM.not_cross_norm > analyses/kallisto-0315.isoform.TMM.EXPR.matrixCMD: R --no-save --no-restore --no-site-file --no-init-file -q < analyses/kallisto-0315.isoform.TPM.not_cross_norm.runTMM.R 1>&2 \n",
      "> library(edgeR)\n",
      "Error in library(edgeR) : there is no package called ‘edgeR’\n",
      "Execution halted\n",
      "Error, cmd: R --no-save --no-restore --no-site-file --no-init-file -q < analyses/kallisto-0315.isoform.TPM.not_cross_norm.runTMM.R 1>&2  died with ret (256)  at /Applications/bioinfo/trinityrnaseq-v2.8.6/util/support_scripts/run_TMM_scale_matrix.pl line 105.\n",
      "Error, CMD: /Applications/bioinfo/trinityrnaseq-v2.8.6/util/support_scripts/run_TMM_scale_matrix.pl --matrix analyses/kallisto-0315.isoform.TPM.not_cross_norm > analyses/kallisto-0315.isoform.TMM.EXPR.matrix died with ret 6400 at /Applications/bioinfo/trinityrnaseq-v2.8.6/util/abundance_estimates_to_matrix.pl line 385.\n"
     ]
    }
   ],
   "source": [
    "!perl /Applications/bioinfo/trinityrnaseq-v2.8.6/util/abundance_estimates_to_matrix.pl \\\n",
    "--est_method kallisto \\\n",
    "    --gene_trans_map none \\\n",
    "    --out_prefix analyses/kallisto-0315 \\\n",
    "    --name_sample_by_basedir \\\n",
    "     /Users/sr320/Documents/GitHub/nb-2020/C_bairdi/analyses/329774_out/abundance.tsv \\\n",
    "     /Users/sr320/Documents/GitHub/nb-2020/C_bairdi/analyses/329775_out/abundance.tsv \\\n",
    "     /Users/sr320/Documents/GitHub/nb-2020/C_bairdi/analyses/329776_out/abundance.tsv \\\n",
    "     /Users/sr320/Documents/GitHub/nb-2020/C_bairdi/analyses/329777_out/abundance.tsv   "
   ]
  },
  {
   "cell_type": "code",
   "execution_count": null,
   "metadata": {},
   "outputs": [],
   "source": []
  }
 ],
 "metadata": {
  "kernelspec": {
   "display_name": "Python 3",
   "language": "python",
   "name": "python3"
  },
  "language_info": {
   "codemirror_mode": {
    "name": "ipython",
    "version": 3
   },
   "file_extension": ".py",
   "mimetype": "text/x-python",
   "name": "python",
   "nbconvert_exporter": "python",
   "pygments_lexer": "ipython3",
   "version": "3.6.8"
  }
 },
 "nbformat": 4,
 "nbformat_minor": 2
}
