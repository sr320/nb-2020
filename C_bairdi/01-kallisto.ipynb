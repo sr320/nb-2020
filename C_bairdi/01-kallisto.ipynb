{
 "cells": [
  {
   "cell_type": "code",
   "execution_count": 1,
   "metadata": {
    "ExecuteTime": {
     "end_time": "2020-04-15T15:35:21.070993Z",
     "start_time": "2020-04-15T15:35:20.909755Z"
    }
   },
   "outputs": [
    {
     "name": "stdout",
     "output_type": "stream",
     "text": [
      "kallisto 0.46.2\r\n",
      "\r\n",
      "Usage: kallisto <CMD> [arguments] ..\r\n",
      "\r\n",
      "Where <CMD> can be one of:\r\n",
      "\r\n",
      "    index         Builds a kallisto index \r\n",
      "    quant         Runs the quantification algorithm \r\n",
      "    bus           Generate BUS files for single-cell data \r\n",
      "    pseudo        Runs the pseudoalignment step \r\n",
      "    merge         Merges several batch runs \r\n",
      "    h5dump        Converts HDF5-formatted results to plaintext\r\n",
      "    inspect       Inspects and gives information about an index\r\n",
      "    version       Prints version information\r\n",
      "    cite          Prints citation information\r\n",
      "\r\n",
      "Running kallisto <CMD> without arguments prints usage information for <CMD>\r\n",
      "\r\n"
     ]
    }
   ],
   "source": [
    "!kallisto"
   ]
  },
  {
   "cell_type": "code",
   "execution_count": 2,
   "metadata": {
    "ExecuteTime": {
     "end_time": "2020-04-15T15:35:33.265337Z",
     "start_time": "2020-04-15T15:35:33.131117Z"
    }
   },
   "outputs": [],
   "source": [
    "!mkdir data"
   ]
  },
  {
   "cell_type": "code",
   "execution_count": 3,
   "metadata": {
    "ExecuteTime": {
     "end_time": "2020-04-15T15:35:41.616488Z",
     "start_time": "2020-04-15T15:35:41.483873Z"
    }
   },
   "outputs": [],
   "source": [
    "!mkdir analyses"
   ]
  },
  {
   "cell_type": "code",
   "execution_count": 4,
   "metadata": {
    "ExecuteTime": {
     "end_time": "2020-04-15T15:38:14.935237Z",
     "start_time": "2020-04-15T15:37:58.497379Z"
    }
   },
   "outputs": [
    {
     "name": "stdout",
     "output_type": "stream",
     "text": [
      "  % Total    % Received % Xferd  Average Speed   Time    Time     Time  Current\n",
      "                                 Dload  Upload   Total   Spent    Left  Speed\n",
      "100 34.5M  100 34.5M    0     0  2173k      0  0:00:16  0:00:16 --:--:-- 2349k\n"
     ]
    }
   ],
   "source": [
    "!curl https://gannet.fish.washington.edu/Atumefaciens/20200330_cbai_trinity_megan_RNAseq/trinity_out_dir/20200408.C_bairdi.megan.Trinity.fasta \\\n",
    "-o data/20200408.C_bairdi.megan.Trinity.fasta"
   ]
  },
  {
   "cell_type": "code",
   "execution_count": 6,
   "metadata": {
    "ExecuteTime": {
     "end_time": "2020-04-15T15:44:44.402081Z",
     "start_time": "2020-04-15T15:43:51.701430Z"
    }
   },
   "outputs": [
    {
     "name": "stdout",
     "output_type": "stream",
     "text": [
      "\n",
      "[build] loading fasta file data/20200408.C_bairdi.megan.Trinity.fasta\n",
      "[build] k-mer length: 31\n",
      "[build] warning: clipped off poly-A tail (longer than 10)\n",
      "        from 130 target sequences\n",
      "[build] counting k-mers ... done.\n",
      "[build] building target de Bruijn graph ...  done \n",
      "[build] creating equivalence classes ...  done\n",
      "[build] target de Bruijn graph has 100478 contigs and contains 18736521 k-mers \n",
      "\n"
     ]
    }
   ],
   "source": [
    "!kallisto \\\n",
    "index -i analyses/C_bairdi_transcriptome_01 \\\n",
    "data/20200408.C_bairdi.megan.Trinity.fasta"
   ]
  },
  {
   "cell_type": "code",
   "execution_count": 12,
   "metadata": {
    "ExecuteTime": {
     "end_time": "2020-04-15T20:39:07.767301Z",
     "start_time": "2020-04-15T20:37:59.973631Z"
    }
   },
   "outputs": [
    {
     "name": "stdout",
     "output_type": "stream",
     "text": [
      "\n",
      "[quant] fragment length distribution will be estimated from the data\n",
      "[index] k-mer length: 31\n",
      "[index] number of targets: 40,435\n",
      "[index] number of k-mers: 18,736,521\n",
      "[index] number of equivalence classes: 77,895\n",
      "[quant] running in paired-end mode\n",
      "[quant] will process pair 1: /Volumes/block/c_bairdi/329774_S1_L001_R1_001.fastq.gz\n",
      "                             /Volumes/block/c_bairdi/329774_S1_L001_R2_001.fastq.gz\n",
      "[quant] will process pair 2: /Volumes/block/c_bairdi/329774_S1_L002_R1_001.fastq.gz\n",
      "                             /Volumes/block/c_bairdi/329774_S1_L002_R2_001.fastq.gz\n",
      "[quant] finding pseudoalignments for the reads ...^C\n"
     ]
    }
   ],
   "source": [
    "!kallisto quant \\\n",
    "-i analyses/C_bairdi_transcriptome_01 \\\n",
    "-t 4 \\\n",
    "-o analyses/329774_out \\\n",
    "/Volumes/block/c_bairdi/329774_S1_L001_R1_001.fastq.gz /Volumes/block/c_bairdi/329774_S1_L001_R2_001.fastq.gz \\\n",
    "/Volumes/block/c_bairdi/329774_S1_L002_R1_001.fastq.gz /Volumes/block/c_bairdi/329774_S1_L002_R2_001.fastq.gz\n"
   ]
  },
  {
   "cell_type": "code",
   "execution_count": null,
   "metadata": {},
   "outputs": [],
   "source": [
    "!kallisto quant \\\n",
    "-i analyses/C_bairdi_transcriptome_01 \\\n",
    "-t 4 \\\n",
    "-o analyses/329775_out \\\n",
    "/Volumes/block/c_bairdi/329775_S1_L001_R1_001.fastq.gz /Volumes/block/c_bairdi/329775_S1_L001_R2_001.fastq.gz \\\n",
    "/Volumes/block/c_bairdi/329775_S1_L002_R1_001.fastq.gz /Volumes/block/c_bairdi/329775_S1_L002_R2_001.fastq.gz"
   ]
  }
 ],
 "metadata": {
  "kernelspec": {
   "display_name": "Python 3",
   "language": "python",
   "name": "python3"
  },
  "language_info": {
   "codemirror_mode": {
    "name": "ipython",
    "version": 3
   },
   "file_extension": ".py",
   "mimetype": "text/x-python",
   "name": "python",
   "nbconvert_exporter": "python",
   "pygments_lexer": "ipython3",
   "version": "3.6.8"
  }
 },
 "nbformat": 4,
 "nbformat_minor": 1
}
