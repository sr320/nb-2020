{
 "cells": [
  {
   "cell_type": "code",
   "execution_count": 1,
   "metadata": {
    "ExecuteTime": {
     "end_time": "2020-04-15T15:35:21.070993Z",
     "start_time": "2020-04-15T15:35:20.909755Z"
    }
   },
   "outputs": [
    {
     "name": "stdout",
     "output_type": "stream",
     "text": [
      "kallisto 0.46.2\r\n",
      "\r\n",
      "Usage: kallisto <CMD> [arguments] ..\r\n",
      "\r\n",
      "Where <CMD> can be one of:\r\n",
      "\r\n",
      "    index         Builds a kallisto index \r\n",
      "    quant         Runs the quantification algorithm \r\n",
      "    bus           Generate BUS files for single-cell data \r\n",
      "    pseudo        Runs the pseudoalignment step \r\n",
      "    merge         Merges several batch runs \r\n",
      "    h5dump        Converts HDF5-formatted results to plaintext\r\n",
      "    inspect       Inspects and gives information about an index\r\n",
      "    version       Prints version information\r\n",
      "    cite          Prints citation information\r\n",
      "\r\n",
      "Running kallisto <CMD> without arguments prints usage information for <CMD>\r\n",
      "\r\n"
     ]
    }
   ],
   "source": [
    "!kallisto"
   ]
  },
  {
   "cell_type": "code",
   "execution_count": 2,
   "metadata": {
    "ExecuteTime": {
     "end_time": "2020-04-15T15:35:33.265337Z",
     "start_time": "2020-04-15T15:35:33.131117Z"
    }
   },
   "outputs": [],
   "source": [
    "!mkdir data"
   ]
  },
  {
   "cell_type": "code",
   "execution_count": 3,
   "metadata": {
    "ExecuteTime": {
     "end_time": "2020-04-15T15:35:41.616488Z",
     "start_time": "2020-04-15T15:35:41.483873Z"
    }
   },
   "outputs": [],
   "source": [
    "!mkdir analyses"
   ]
  },
  {
   "cell_type": "code",
   "execution_count": 4,
   "metadata": {
    "ExecuteTime": {
     "end_time": "2020-04-15T15:38:14.935237Z",
     "start_time": "2020-04-15T15:37:58.497379Z"
    }
   },
   "outputs": [
    {
     "name": "stdout",
     "output_type": "stream",
     "text": [
      "  % Total    % Received % Xferd  Average Speed   Time    Time     Time  Current\n",
      "                                 Dload  Upload   Total   Spent    Left  Speed\n",
      "100 34.5M  100 34.5M    0     0  2173k      0  0:00:16  0:00:16 --:--:-- 2349k\n"
     ]
    }
   ],
   "source": [
    "!curl https://gannet.fish.washington.edu/Atumefaciens/20200330_cbai_trinity_megan_RNAseq/trinity_out_dir/20200408.C_bairdi.megan.Trinity.fasta \\\n",
    "-o data/20200408.C_bairdi.megan.Trinity.fasta"
   ]
  },
  {
   "cell_type": "code",
   "execution_count": 6,
   "metadata": {
    "ExecuteTime": {
     "end_time": "2020-04-15T15:44:44.402081Z",
     "start_time": "2020-04-15T15:43:51.701430Z"
    }
   },
   "outputs": [
    {
     "name": "stdout",
     "output_type": "stream",
     "text": [
      "\n",
      "[build] loading fasta file data/20200408.C_bairdi.megan.Trinity.fasta\n",
      "[build] k-mer length: 31\n",
      "[build] warning: clipped off poly-A tail (longer than 10)\n",
      "        from 130 target sequences\n",
      "[build] counting k-mers ... done.\n",
      "[build] building target de Bruijn graph ...  done \n",
      "[build] creating equivalence classes ...  done\n",
      "[build] target de Bruijn graph has 100478 contigs and contains 18736521 k-mers \n",
      "\n"
     ]
    }
   ],
   "source": [
    "!kallisto \\\n",
    "index -i analyses/C_bairdi_transcriptome_01 \\\n",
    "data/20200408.C_bairdi.megan.Trinity.fasta"
   ]
  },
  {
   "cell_type": "code",
   "execution_count": 13,
   "metadata": {
    "ExecuteTime": {
     "end_time": "2020-04-15T20:51:18.140019Z",
     "start_time": "2020-04-15T20:39:26.359072Z"
    }
   },
   "outputs": [
    {
     "name": "stdout",
     "output_type": "stream",
     "text": [
      "\n",
      "[quant] fragment length distribution will be estimated from the data\n",
      "[index] k-mer length: 31\n",
      "[index] number of targets: 40,435\n",
      "[index] number of k-mers: 18,736,521\n",
      "[index] number of equivalence classes: 77,895\n",
      "[quant] running in paired-end mode\n",
      "[quant] will process pair 1: /Volumes/block/c_bairdi/329774_S1_L001_R1_001.fastq.gz\n",
      "                             /Volumes/block/c_bairdi/329774_S1_L001_R2_001.fastq.gz\n",
      "[quant] will process pair 2: /Volumes/block/c_bairdi/329774_S1_L002_R1_001.fastq.gz\n",
      "                             /Volumes/block/c_bairdi/329774_S1_L002_R2_001.fastq.gz\n",
      "[quant] finding pseudoalignments for the reads ... done\n",
      "[quant] processed 48,959,361 reads, 23,459,677 reads pseudoaligned\n",
      "[quant] estimated average fragment length: 222.148\n",
      "[   em] quantifying the abundances ... done\n",
      "[   em] the Expectation-Maximization algorithm ran for 972 rounds\n",
      "\n"
     ]
    }
   ],
   "source": [
    "!kallisto quant \\\n",
    "-i analyses/C_bairdi_transcriptome_01 \\\n",
    "-t 4 \\\n",
    "-o analyses/329774_out \\\n",
    "/Volumes/block/c_bairdi/329774_S1_L001_R1_001.fastq.gz /Volumes/block/c_bairdi/329774_S1_L001_R2_001.fastq.gz \\\n",
    "/Volumes/block/c_bairdi/329774_S1_L002_R1_001.fastq.gz /Volumes/block/c_bairdi/329774_S1_L002_R2_001.fastq.gz\n"
   ]
  },
  {
   "cell_type": "code",
   "execution_count": 17,
   "metadata": {
    "ExecuteTime": {
     "end_time": "2020-04-15T20:58:22.456925Z",
     "start_time": "2020-04-15T20:52:52.717881Z"
    }
   },
   "outputs": [
    {
     "name": "stdout",
     "output_type": "stream",
     "text": [
      "\n",
      "[quant] fragment length distribution will be estimated from the data\n",
      "[index] k-mer length: 31\n",
      "[index] number of targets: 40,435\n",
      "[index] number of k-mers: 18,736,521\n",
      "[index] number of equivalence classes: 77,895\n",
      "[quant] running in paired-end mode\n",
      "[quant] will process pair 1: /Volumes/block/c_bairdi/329775_S2_L001_R1_001.fastq.gz\n",
      "                             /Volumes/block/c_bairdi/329775_S2_L001_R2_001.fastq.gz\n",
      "[quant] will process pair 2: /Volumes/block/c_bairdi/329775_S2_L002_R1_001.fastq.gz\n",
      "                             /Volumes/block/c_bairdi/329775_S2_L002_R2_001.fastq.gz\n",
      "[quant] finding pseudoalignments for the reads ... done\n",
      "[quant] processed 41,484,504 reads, 26,357,120 reads pseudoaligned\n",
      "[quant] estimated average fragment length: 188.972\n",
      "[   em] quantifying the abundances ... done\n",
      "[   em] the Expectation-Maximization algorithm ran for 942 rounds\n",
      "\n"
     ]
    }
   ],
   "source": [
    "!kallisto quant \\\n",
    "-i analyses/C_bairdi_transcriptome_01 \\\n",
    "-t 4 \\\n",
    "-o analyses/329775_out \\\n",
    "/Volumes/block/c_bairdi/329775_S2_L001_R1_001.fastq.gz /Volumes/block/c_bairdi/329775_S2_L001_R2_001.fastq.gz \\\n",
    "/Volumes/block/c_bairdi/329775_S2_L002_R1_001.fastq.gz /Volumes/block/c_bairdi/329775_S2_L002_R2_001.fastq.gz"
   ]
  },
  {
   "cell_type": "code",
   "execution_count": 18,
   "metadata": {
    "ExecuteTime": {
     "end_time": "2020-04-15T21:05:09.430678Z",
     "start_time": "2020-04-15T20:58:22.463806Z"
    }
   },
   "outputs": [
    {
     "name": "stdout",
     "output_type": "stream",
     "text": [
      "\n",
      "[quant] fragment length distribution will be estimated from the data\n",
      "[index] k-mer length: 31\n",
      "[index] number of targets: 40,435\n",
      "[index] number of k-mers: 18,736,521\n",
      "[index] number of equivalence classes: 77,895\n",
      "[quant] running in paired-end mode\n",
      "[quant] will process pair 1: /Volumes/block/c_bairdi/329776_S3_L001_R1_001.fastq.gz\n",
      "                             /Volumes/block/c_bairdi/329776_S3_L001_R2_001.fastq.gz\n",
      "[quant] will process pair 2: /Volumes/block/c_bairdi/329776_S3_L002_R1_001.fastq.gz\n",
      "                             /Volumes/block/c_bairdi/329776_S3_L002_R2_001.fastq.gz\n",
      "[quant] finding pseudoalignments for the reads ... done\n",
      "[quant] processed 47,752,385 reads, 24,252,875 reads pseudoaligned\n",
      "[quant] estimated average fragment length: 227.564\n",
      "[   em] quantifying the abundances ... done\n",
      "[   em] the Expectation-Maximization algorithm ran for 1,315 rounds\n",
      "\n"
     ]
    }
   ],
   "source": [
    "!kallisto quant \\\n",
    "-i analyses/C_bairdi_transcriptome_01 \\\n",
    "-t 4 \\\n",
    "-o analyses/329776_out \\\n",
    "/Volumes/block/c_bairdi/329776_S3_L001_R1_001.fastq.gz /Volumes/block/c_bairdi/329776_S3_L001_R2_001.fastq.gz \\\n",
    "/Volumes/block/c_bairdi/329776_S3_L002_R1_001.fastq.gz /Volumes/block/c_bairdi/329776_S3_L002_R2_001.fastq.gz"
   ]
  },
  {
   "cell_type": "code",
   "execution_count": 19,
   "metadata": {
    "ExecuteTime": {
     "end_time": "2020-04-15T21:10:01.891867Z",
     "start_time": "2020-04-15T21:05:09.449350Z"
    }
   },
   "outputs": [
    {
     "name": "stdout",
     "output_type": "stream",
     "text": [
      "\n",
      "[quant] fragment length distribution will be estimated from the data\n",
      "[index] k-mer length: 31\n",
      "[index] number of targets: 40,435\n",
      "[index] number of k-mers: 18,736,521\n",
      "[index] number of equivalence classes: 77,895\n",
      "[quant] running in paired-end mode\n",
      "[quant] will process pair 1: /Volumes/block/c_bairdi/329777_S4_L001_R1_001.fastq.gz\n",
      "                             /Volumes/block/c_bairdi/329777_S4_L001_R2_001.fastq.gz\n",
      "[quant] will process pair 2: /Volumes/block/c_bairdi/329777_S4_L002_R1_001.fastq.gz\n",
      "                             /Volumes/block/c_bairdi/329777_S4_L002_R2_001.fastq.gz\n",
      "[quant] finding pseudoalignments for the reads ... done\n",
      "[quant] processed 47,188,500 reads, 29,084,150 reads pseudoaligned\n",
      "[quant] estimated average fragment length: 228.107\n",
      "[   em] quantifying the abundances ... done\n",
      "[   em] the Expectation-Maximization algorithm ran for 1,109 rounds\n",
      "\n"
     ]
    }
   ],
   "source": [
    "!kallisto quant \\\n",
    "-i analyses/C_bairdi_transcriptome_01 \\\n",
    "-t 4 \\\n",
    "-o analyses/329777_out \\\n",
    "/Volumes/block/c_bairdi/329777_S4_L001_R1_001.fastq.gz /Volumes/block/c_bairdi/329777_S4_L001_R2_001.fastq.gz \\\n",
    "/Volumes/block/c_bairdi/329777_S4_L002_R1_001.fastq.gz /Volumes/block/c_bairdi/329777_S4_L002_R2_001.fastq.gz"
   ]
  },
  {
   "cell_type": "markdown",
   "metadata": {},
   "source": [
    "# Creating Matrices"
   ]
  },
  {
   "cell_type": "code",
   "execution_count": 20,
   "metadata": {
    "ExecuteTime": {
     "end_time": "2020-04-15T21:25:50.672177Z",
     "start_time": "2020-04-15T21:25:50.413518Z"
    }
   },
   "outputs": [
    {
     "name": "stdout",
     "output_type": "stream",
     "text": [
      "\r\n",
      "####################################################################################\r\n",
      "#\r\n",
      "# Usage:  /Applications/bioinfo/trinityrnaseq-v2.8.6/util/abundance_estimates_to_matrix.pl --est_method <method>  sample1.results sample2.results ...\r\n",
      "#\r\n",
      "#      or  /Applications/bioinfo/trinityrnaseq-v2.8.6/util/abundance_estimates_to_matrix.pl --est_method <method> --quant_files file.listing_target_files.txt\r\n",
      "#\r\n",
      "#      Note, if only a single input file is given, it's expected to contain the paths to all the target abundance estimation files.\r\n",
      "#\r\n",
      "# Required:\r\n",
      "#            \r\n",
      "#  --est_method <string>           RSEM|eXpress|kallisto|salmon  (needs to know what format to expect)\r\n",
      "#\r\n",
      "#  --gene_trans_map <string>           the gene-to-transcript mapping file. (if you don't want gene estimates, indicate 'none'.\r\n",
      "#\r\n",
      "#\r\n",
      "# Options:\r\n",
      "#\r\n",
      "#  --cross_sample_norm <string>         TMM|UpperQuartile|none   (default: TMM)\r\n",
      "#\r\n",
      "#  --name_sample_by_basedir             name sample column by dirname instead of filename\r\n",
      "#      --basedir_index <int>            default(-2)\r\n",
      "#\r\n",
      "#  --out_prefix <string>                default: value for --est_method\r\n",
      "#\r\n",
      "#  --quant_files <string>              file containing a list of all the target files.\r\n",
      "#\r\n",
      "######################################################################################\r\n",
      "\r\n",
      "\r\n"
     ]
    }
   ],
   "source": [
    "!perl /Applications/bioinfo/trinityrnaseq-v2.8.6/util/abundance_estimates_to_matrix.pl"
   ]
  },
  {
   "cell_type": "code",
   "execution_count": 23,
   "metadata": {
    "ExecuteTime": {
     "end_time": "2020-04-15T21:30:55.561625Z",
     "start_time": "2020-04-15T21:30:53.801013Z"
    }
   },
   "outputs": [
    {
     "name": "stdout",
     "output_type": "stream",
     "text": [
      "-reading file: /Users/sr320/Documents/GitHub/nb-2020/C_bairdi/analyses/329774_out/abundance.tsv\n",
      "-reading file: /Users/sr320/Documents/GitHub/nb-2020/C_bairdi/analyses/329775_out/abundance.tsv\n",
      "-reading file: /Users/sr320/Documents/GitHub/nb-2020/C_bairdi/analyses/329776_out/abundance.tsv\n",
      "-reading file: /Users/sr320/Documents/GitHub/nb-2020/C_bairdi/analyses/329777_out/abundance.tsv\n",
      "\n",
      "\n",
      "* Outputting combined matrix.\n",
      "\n",
      "/Applications/bioinfo/trinityrnaseq-v2.8.6/util/support_scripts/run_TMM_scale_matrix.pl --matrix analyses/kallisto-0315.isoform.TPM.not_cross_norm > analyses/kallisto-0315.isoform.TMM.EXPR.matrixCMD: R --no-save --no-restore --no-site-file --no-init-file -q < analyses/kallisto-0315.isoform.TPM.not_cross_norm.runTMM.R 1>&2 \n",
      "> library(edgeR)\n",
      "Error in library(edgeR) : there is no package called ‘edgeR’\n",
      "Execution halted\n",
      "Error, cmd: R --no-save --no-restore --no-site-file --no-init-file -q < analyses/kallisto-0315.isoform.TPM.not_cross_norm.runTMM.R 1>&2  died with ret (256)  at /Applications/bioinfo/trinityrnaseq-v2.8.6/util/support_scripts/run_TMM_scale_matrix.pl line 105.\n",
      "Error, CMD: /Applications/bioinfo/trinityrnaseq-v2.8.6/util/support_scripts/run_TMM_scale_matrix.pl --matrix analyses/kallisto-0315.isoform.TPM.not_cross_norm > analyses/kallisto-0315.isoform.TMM.EXPR.matrix died with ret 6400 at /Applications/bioinfo/trinityrnaseq-v2.8.6/util/abundance_estimates_to_matrix.pl line 385.\n"
     ]
    }
   ],
   "source": [
    "!perl /Applications/bioinfo/trinityrnaseq-v2.8.6/util/abundance_estimates_to_matrix.pl \\\n",
    "--est_method kallisto \\\n",
    "    --gene_trans_map none \\\n",
    "    --out_prefix analyses/kallisto-0315 \\\n",
    "    --name_sample_by_basedir \\\n",
    "     /Users/sr320/Documents/GitHub/nb-2020/C_bairdi/analyses/329774_out/abundance.tsv \\\n",
    "     /Users/sr320/Documents/GitHub/nb-2020/C_bairdi/analyses/329775_out/abundance.tsv \\\n",
    "     /Users/sr320/Documents/GitHub/nb-2020/C_bairdi/analyses/329776_out/abundance.tsv \\\n",
    "     /Users/sr320/Documents/GitHub/nb-2020/C_bairdi/analyses/329777_out/abundance.tsv   "
   ]
  },
  {
   "cell_type": "code",
   "execution_count": null,
   "metadata": {},
   "outputs": [],
   "source": []
  }
 ],
 "metadata": {
  "kernelspec": {
   "display_name": "Python 3",
   "language": "python",
   "name": "python3"
  },
  "language_info": {
   "codemirror_mode": {
    "name": "ipython",
    "version": 3
   },
   "file_extension": ".py",
   "mimetype": "text/x-python",
   "name": "python",
   "nbconvert_exporter": "python",
   "pygments_lexer": "ipython3",
   "version": "3.6.8"
  }
 },
 "nbformat": 4,
 "nbformat_minor": 1
}
