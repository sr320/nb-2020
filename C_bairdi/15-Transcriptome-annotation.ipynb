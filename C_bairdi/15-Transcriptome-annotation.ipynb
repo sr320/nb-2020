{
 "cells": [
  {
   "cell_type": "markdown",
   "metadata": {},
   "source": [
    "# Taxa 2864 Proteins"
   ]
  },
  {
   "cell_type": "code",
   "execution_count": null,
   "metadata": {},
   "outputs": [],
   "source": [
    " 80870 v1.5 contigs ...  3588 hits at evalue 1e-20 (5%)"
   ]
  },
  {
   "cell_type": "code",
   "execution_count": 11,
   "metadata": {
    "ExecuteTime": {
     "end_time": "2020-05-01T14:48:10.539391Z",
     "start_time": "2020-05-01T14:48:10.483187Z"
    }
   },
   "outputs": [
    {
     "data": {
      "text/plain": [
       "0.04436750340051935"
      ]
     },
     "execution_count": 11,
     "metadata": {},
     "output_type": "execute_result"
    }
   ],
   "source": [
    "3588/80870\n"
   ]
  },
  {
   "cell_type": "code",
   "execution_count": 1,
   "metadata": {
    "ExecuteTime": {
     "end_time": "2020-05-01T14:44:28.503075Z",
     "start_time": "2020-05-01T14:44:28.449691Z"
    }
   },
   "outputs": [
    {
     "ename": "SyntaxError",
     "evalue": "invalid syntax (<ipython-input-1-1d29cf8d452e>, line 26)",
     "output_type": "error",
     "traceback": [
      "\u001b[0;36m  File \u001b[0;32m\"<ipython-input-1-1d29cf8d452e>\"\u001b[0;36m, line \u001b[0;32m26\u001b[0m\n\u001b[0;31m    gscratch(/srlab/programs/ncbi-blast-2.6.0+/bin/blastx, -query, /gscratch/srlab/sr320/data/crab/cbai_transcriptome_v1.5.fasta, -db, /gscratch/srlab/sr320/blastdb/uniprot-taxonomy_2864, -evalue, 1e-20, -outfmt, 6, -out, /gscratch/scrubbed/sr320/043020-Cb-2864c/cb15_blastx_2864.tab, -max_target_seqs, 1, -max_hsps, 1, -num_threads, 28)\u001b[0m\n\u001b[0m             ^\u001b[0m\n\u001b[0;31mSyntaxError\u001b[0m\u001b[0;31m:\u001b[0m invalid syntax\n"
     ]
    }
   ],
   "source": [
    "#!/bin/bash\n",
    "## Job Name\n",
    "#SBATCH --job-name=2864c\n",
    "## Allocation Definition\n",
    "#SBATCH --account=coenv\n",
    "#SBATCH --partition=coenv\n",
    "## Resources\n",
    "## Nodes\n",
    "#SBATCH --nodes=1\n",
    "## Walltime (days-hours:minutes:seconds format)\n",
    "#SBATCH --time=3-00:00:00\n",
    "## Memory per node\n",
    "#SBATCH --mem=10G\n",
    "##turn on e-mail notification\n",
    "#SBATCH --mail-type=ALL\n",
    "#SBATCH --mail-user=sr320@uw.edu\n",
    "## Specify the working directory for this job\n",
    "#SBATCH --chdir=/gscratch/scrubbed/sr320/043020-Cb-2864c\n",
    "\n",
    "\n",
    "\n",
    "source /gscratch/srlab/programs/scripts/paths.sh\n",
    "\n",
    "\n",
    "\n",
    "/gscratch/srlab/programs/ncbi-blast-2.6.0+/bin/blastx \\\n",
    "-query /gscratch/srlab/sr320/data/crab/cbai_transcriptome_v1.5.fasta \\\n",
    "-db /gscratch/srlab/sr320/blastdb/uniprot-taxonomy_2864 \\\n",
    "-evalue 1e-20 \\\n",
    "-outfmt 6 \\\n",
    "-out /gscratch/scrubbed/sr320/043020-Cb-2864c/cb15_blastx_2864.tab \\\n",
    "-max_target_seqs 1 \\\n",
    "-max_hsps 1 \\\n",
    "-num_threads 28"
   ]
  },
  {
   "cell_type": "code",
   "execution_count": 4,
   "metadata": {
    "ExecuteTime": {
     "end_time": "2020-05-01T14:45:22.428594Z",
     "start_time": "2020-05-01T14:45:22.413071Z"
    }
   },
   "outputs": [
    {
     "name": "stdout",
     "output_type": "stream",
     "text": [
      "/Users/sr320/Documents/GitHub/nb-2020/C_bairdi/analyses\n"
     ]
    }
   ],
   "source": [
    "cd analyses/\n"
   ]
  },
  {
   "cell_type": "code",
   "execution_count": 7,
   "metadata": {
    "ExecuteTime": {
     "end_time": "2020-05-01T14:45:49.694321Z",
     "start_time": "2020-05-01T14:45:49.569241Z"
    }
   },
   "outputs": [
    {
     "name": "stdout",
     "output_type": "stream",
     "text": [
      "\u001b[34m329774_out\u001b[m\u001b[m/\r\n",
      "\u001b[34m329775_out\u001b[m\u001b[m/\r\n",
      "\u001b[34m329776_out\u001b[m\u001b[m/\r\n",
      "\u001b[34m329777_out\u001b[m\u001b[m/\r\n",
      "C_bairdi_transcriptome_01\r\n",
      "Cbaird_v15_lva.tab\r\n",
      "Cbaird_v15_tax2864.tab\r\n",
      "cb15_blastx_2864.tab\r\n",
      "cb15_blastx_lva-mox.tab\r\n",
      "kallisto-0315.isoform.TMM.EXPR.matrix\r\n",
      "kallisto-0315.isoform.TPM.not_cross_norm\r\n",
      "kallisto-0315.isoform.TPM.not_cross_norm.runTMM.R\r\n",
      "kallisto-0315.isoform.counts.matrix\r\n"
     ]
    }
   ],
   "source": [
    "ls"
   ]
  },
  {
   "cell_type": "code",
   "execution_count": 6,
   "metadata": {
    "ExecuteTime": {
     "end_time": "2020-05-01T14:45:46.851427Z",
     "start_time": "2020-05-01T14:45:45.529435Z"
    }
   },
   "outputs": [
    {
     "name": "stdout",
     "output_type": "stream",
     "text": [
      "--2020-05-01 07:45:45--  https://gannet.fish.washington.edu/seashell/bu-mox/scrubbed/043020-Cb-2864c/cb15_blastx_2864.tab\n",
      "Resolving gannet.fish.washington.edu (gannet.fish.washington.edu)... 128.95.149.52\n",
      "Connecting to gannet.fish.washington.edu (gannet.fish.washington.edu)|128.95.149.52|:443... connected.\n",
      "HTTP request sent, awaiting response... 200 OK\n",
      "Length: 511535 (500K)\n",
      "Saving to: ‘cb15_blastx_2864.tab’\n",
      "\n",
      "cb15_blastx_2864.ta 100%[===================>] 499.55K   601KB/s    in 0.8s    \n",
      "\n",
      "2020-05-01 07:45:46 (601 KB/s) - ‘cb15_blastx_2864.tab’ saved [511535/511535]\n",
      "\n"
     ]
    }
   ],
   "source": [
    "!wget https://gannet.fish.washington.edu/seashell/bu-mox/scrubbed/043020-Cb-2864c/cb15_blastx_2864.tab"
   ]
  },
  {
   "cell_type": "code",
   "execution_count": 9,
   "metadata": {
    "ExecuteTime": {
     "end_time": "2020-05-01T14:46:07.075831Z",
     "start_time": "2020-05-01T14:46:06.939523Z"
    }
   },
   "outputs": [
    {
     "name": "stdout",
     "output_type": "stream",
     "text": [
      "TRINITY_DN21563_c0_g1_i1\ttr|A0A1Q9DWU3|A0A1Q9DWU3_SYMMI\t31.872\t593\t306\t10\t462\t2183\t1082\t1595\t5.30e-85\t298\r\n",
      "TRINITY_DN21561_c0_g1_i1\ttr|A0A1Q9D1S6|A0A1Q9D1S6_SYMMI\t60.410\t293\t107\t5\t1153\t299\t79\t370\t2.22e-110\t336\r\n",
      "TRINITY_DN21553_c0_g1_i1\ttr|A0A1Q9E897|A0A1Q9E897_SYMMI\t47.740\t354\t177\t5\t100\t1146\t7\t357\t6.04e-96\t296\r\n",
      "TRINITY_DN21568_c1_g1_i1\ttr|A0A1Q9C266|A0A1Q9C266_SYMMI\t59.601\t401\t151\t4\t1868\t675\t15\t407\t2.35e-168\t490\r\n",
      "TRINITY_DN21548_c0_g1_i1\ttr|A0A1Q9EXU1|A0A1Q9EXU1_SYMMI\t31.061\t264\t168\t6\t1162\t404\t5\t265\t8.87e-24\t102\r\n",
      "TRINITY_DN21543_c0_g1_i1\ttr|A0A1Q9C7P7|A0A1Q9C7P7_SYMMI\t49.730\t185\t28\t4\t1095\t691\t122\t291\t1.41e-42\t151\r\n",
      "TRINITY_DN21538_c0_g1_i1\ttr|A0A1Q9CZA7|A0A1Q9CZA7_SYMMI\t59.557\t858\t327\t5\t2820\t265\t10\t853\t0.0\t1021\r\n",
      "TRINITY_DN21567_c4_g1_i1\ttr|A0A1Q9D7D4|A0A1Q9D7D4_SYMMI\t63.592\t206\t75\t0\t55\t672\t1\t206\t1.79e-95\t280\r\n",
      "TRINITY_DN5656_c0_g1_i3\ttr|A7YXV4|A7YXV4_KARVE\t42.051\t195\t107\t3\t128\t709\t26\t215\t7.75e-48\t162\r\n",
      "TRINITY_DN5656_c0_g1_i2\ttr|A7YXV4|A7YXV4_KARVE\t42.051\t195\t107\t3\t128\t709\t26\t215\t4.74e-49\t162\r\n"
     ]
    }
   ],
   "source": [
    "!head Cbaird_v15_tax2864.tab"
   ]
  },
  {
   "cell_type": "code",
   "execution_count": 10,
   "metadata": {
    "ExecuteTime": {
     "end_time": "2020-05-01T14:46:27.189611Z",
     "start_time": "2020-05-01T14:46:27.036644Z"
    }
   },
   "outputs": [
    {
     "name": "stdout",
     "output_type": "stream",
     "text": [
      "    3588 Cbaird_v15_tax2864.tab\r\n"
     ]
    }
   ],
   "source": [
    "!wc -l Cbaird_v15_tax2864.tab"
   ]
  },
  {
   "cell_type": "code",
   "execution_count": null,
   "metadata": {},
   "outputs": [],
   "source": []
  }
 ],
 "metadata": {
  "kernelspec": {
   "display_name": "Python 3",
   "language": "python",
   "name": "python3"
  },
  "language_info": {
   "codemirror_mode": {
    "name": "ipython",
    "version": 3
   },
   "file_extension": ".py",
   "mimetype": "text/x-python",
   "name": "python",
   "nbconvert_exporter": "python",
   "pygments_lexer": "ipython3",
   "version": "3.6.8"
  }
 },
 "nbformat": 4,
 "nbformat_minor": 2
}
