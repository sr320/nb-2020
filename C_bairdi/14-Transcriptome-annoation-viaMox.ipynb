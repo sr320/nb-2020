{
 "cells": [
  {
   "cell_type": "markdown",
   "metadata": {},
   "source": [
    "# Lva proteins"
   ]
  },
  {
   "cell_type": "markdown",
   "metadata": {},
   "source": [
    " 80870 v1.5 contigs ...  24367 hits at evalue 1e-20 (30%)"
   ]
  },
  {
   "cell_type": "code",
   "execution_count": 14,
   "metadata": {
    "ExecuteTime": {
     "end_time": "2020-05-01T14:42:54.823341Z",
     "start_time": "2020-05-01T14:42:54.742787Z"
    }
   },
   "outputs": [
    {
     "data": {
      "text/plain": [
       "0.30131074564115246"
      ]
     },
     "execution_count": 14,
     "metadata": {},
     "output_type": "execute_result"
    }
   ],
   "source": [
    "24367/80870\n"
   ]
  },
  {
   "cell_type": "code",
   "execution_count": 1,
   "metadata": {
    "ExecuteTime": {
     "end_time": "2020-05-01T00:32:55.537255Z",
     "start_time": "2020-05-01T00:32:55.488405Z"
    }
   },
   "outputs": [
    {
     "data": {
      "text/plain": [
       "'/Users/sr320/Documents/GitHub/nb-2020/C_bairdi'"
      ]
     },
     "execution_count": 1,
     "metadata": {},
     "output_type": "execute_result"
    }
   ],
   "source": [
    "pwd"
   ]
  },
  {
   "cell_type": "code",
   "execution_count": null,
   "metadata": {},
   "outputs": [],
   "source": [
    "#!/bin/bash\n",
    "## Job Name\n",
    "#SBATCH --job-name=blastx-05\n",
    "## Allocation Definition\n",
    "#SBATCH --account=coenv\n",
    "#SBATCH --partition=coenv\n",
    "## Resources\n",
    "## Nodes\n",
    "#SBATCH --nodes=1\n",
    "## Walltime (days-hours:minutes:seconds format)\n",
    "#SBATCH --time=3-00:00:00\n",
    "## Memory per node\n",
    "#SBATCH --mem=100G\n",
    "##turn on e-mail notification\n",
    "#SBATCH --mail-type=ALL\n",
    "#SBATCH --mail-user=sr320@uw.edu\n",
    "## Specify the working directory for this job\n",
    "#SBATCH --chdir=/gscratch/scrubbed/sr320/043020-Cb-blast\n",
    "\n",
    "\n",
    "\n",
    "source /gscratch/srlab/programs/scripts/paths.sh\n",
    "\n",
    "\n",
    "/gscratch/srlab/programs/ncbi-blast-2.6.0+/bin/makeblastdb \\\n",
    "-in /gscratch/srlab/sr320/data/crab/lva.proteins.fa \\\n",
    "-dbtype prot \\\n",
    "-out /gscratch/srlab/sr320/data/crab/lva.proteins\n",
    "\n",
    "\n",
    "\n",
    "/gscratch/srlab/programs/ncbi-blast-2.6.0+/bin/blastx \\\n",
    "-query /gscratch/srlab/sr320/data/crab/cbai_transcriptome_v1.5.fasta \\\n",
    "-db /gscratch/srlab/sr320/data/crab/lva.proteins \\\n",
    "-evalue 1e-20 \\\n",
    "-outfmt 6 \\\n",
    "-out /gscratch/scrubbed/sr320/043020-Cb-blast/cb15_blastx_lva.tab \\\n",
    "-max_target_seqs 1 \\\n",
    "-max_hsps 1 \\\n",
    "-num_threads 28"
   ]
  },
  {
   "cell_type": "code",
   "execution_count": 2,
   "metadata": {
    "ExecuteTime": {
     "end_time": "2020-05-01T00:33:19.460859Z",
     "start_time": "2020-05-01T00:33:17.904890Z"
    }
   },
   "outputs": [
    {
     "name": "stdout",
     "output_type": "stream",
     "text": [
      "  % Total    % Received % Xferd  Average Speed   Time    Time     Time  Current\n",
      "                                 Dload  Upload   Total   Spent    Left  Speed\n",
      "100 1981k  100 1981k    0     0  1425k      0  0:00:01  0:00:01 --:--:-- 1424k\n"
     ]
    }
   ],
   "source": [
    "!curl https://gannet.fish.washington.edu/seashell/bu-mox/scrubbed/043020-Cb-blast/cb15_blastx_lva.tab -o analyses/cb15_blastx_lva-mox.tab"
   ]
  },
  {
   "cell_type": "code",
   "execution_count": 3,
   "metadata": {
    "ExecuteTime": {
     "end_time": "2020-05-01T00:33:24.243495Z",
     "start_time": "2020-05-01T00:33:24.111617Z"
    }
   },
   "outputs": [
    {
     "name": "stdout",
     "output_type": "stream",
     "text": [
      "\u001b[34m329774_out\u001b[m\u001b[m/\r\n",
      "\u001b[34m329775_out\u001b[m\u001b[m/\r\n",
      "\u001b[34m329776_out\u001b[m\u001b[m/\r\n",
      "\u001b[34m329777_out\u001b[m\u001b[m/\r\n",
      "C_bairdi_transcriptome_01\r\n",
      "Cbaird_v15_lva.tab\r\n",
      "Cbaird_v15_tax2864.tab\r\n",
      "cb15_blastx_lva-mox.tab\r\n",
      "kallisto-0315.isoform.TMM.EXPR.matrix\r\n",
      "kallisto-0315.isoform.TPM.not_cross_norm\r\n",
      "kallisto-0315.isoform.TPM.not_cross_norm.runTMM.R\r\n",
      "kallisto-0315.isoform.counts.matrix\r\n"
     ]
    }
   ],
   "source": [
    "ls analyses/"
   ]
  },
  {
   "cell_type": "code",
   "execution_count": 4,
   "metadata": {
    "ExecuteTime": {
     "end_time": "2020-05-01T00:33:48.892745Z",
     "start_time": "2020-05-01T00:33:48.749977Z"
    }
   },
   "outputs": [
    {
     "name": "stdout",
     "output_type": "stream",
     "text": [
      "   24367 analyses/cb15_blastx_lva-mox.tab\r\n"
     ]
    }
   ],
   "source": [
    "!wc -l analyses/cb15_blastx_lva-mox.tab"
   ]
  },
  {
   "cell_type": "code",
   "execution_count": 6,
   "metadata": {
    "ExecuteTime": {
     "end_time": "2020-05-01T00:35:13.443956Z",
     "start_time": "2020-05-01T00:35:13.013566Z"
    }
   },
   "outputs": [
    {
     "name": "stdout",
     "output_type": "stream",
     "text": [
      "--2020-04-30 17:35:13--  https://owl.fish.washington.edu/halfshell/genomic-databank/cbai_transcriptome_v1.5.fasta\n",
      "Resolving owl.fish.washington.edu (owl.fish.washington.edu)... 128.95.149.83\n",
      "Connecting to owl.fish.washington.edu (owl.fish.washington.edu)|128.95.149.83|:443... connected.\n",
      "ERROR: cannot verify owl.fish.washington.edu's certificate, issued by ‘CN=InCommon RSA Server CA,OU=InCommon,O=Internet2,L=Ann Arbor,ST=MI,C=US’:\n",
      "  Unable to locally verify the issuer's authority.\n",
      "To connect to owl.fish.washington.edu insecurely, use `--no-check-certificate'.\n"
     ]
    }
   ],
   "source": [
    "cd data/\n"
   ]
  },
  {
   "cell_type": "code",
   "execution_count": 7,
   "metadata": {
    "ExecuteTime": {
     "end_time": "2020-05-01T00:35:49.123208Z",
     "start_time": "2020-05-01T00:35:33.054321Z"
    }
   },
   "outputs": [
    {
     "name": "stdout",
     "output_type": "stream",
     "text": [
      "--2020-04-30 17:35:33--  https://owl.fish.washington.edu/halfshell/genomic-databank/cbai_transcriptome_v1.5.fasta\n",
      "Resolving owl.fish.washington.edu (owl.fish.washington.edu)... 128.95.149.83\n",
      "Connecting to owl.fish.washington.edu (owl.fish.washington.edu)|128.95.149.83|:443... connected.\n",
      "WARNING: cannot verify owl.fish.washington.edu's certificate, issued by ‘CN=InCommon RSA Server CA,OU=InCommon,O=Internet2,L=Ann Arbor,ST=MI,C=US’:\n",
      "  Unable to locally verify the issuer's authority.\n",
      "HTTP request sent, awaiting response... 200 OK\n",
      "Length: 36207467 (35M)\n",
      "Saving to: ‘cbai_transcriptome_v1.5.fasta’\n",
      "\n",
      "cbai_transcriptome_ 100%[===================>]  34.53M  2.37MB/s    in 16s     \n",
      "\n",
      "2020-04-30 17:35:49 (2.20 MB/s) - ‘cbai_transcriptome_v1.5.fasta’ saved [36207467/36207467]\n",
      "\n"
     ]
    }
   ],
   "source": [
    "!wget --no-check-certificate https://owl.fish.washington.edu/halfshell/genomic-databank/cbai_transcriptome_v1.5.fasta"
   ]
  },
  {
   "cell_type": "code",
   "execution_count": 9,
   "metadata": {
    "ExecuteTime": {
     "end_time": "2020-05-01T00:35:59.022863Z",
     "start_time": "2020-05-01T00:35:58.833975Z"
    }
   },
   "outputs": [
    {
     "name": "stdout",
     "output_type": "stream",
     "text": [
      "   80870 cbai_transcriptome_v1.5.fasta\r\n"
     ]
    }
   ],
   "source": [
    "!wc -l cbai_transcriptome_v1.5.fasta"
   ]
  },
  {
   "cell_type": "code",
   "execution_count": 10,
   "metadata": {
    "ExecuteTime": {
     "end_time": "2020-05-01T00:36:13.942067Z",
     "start_time": "2020-05-01T00:36:13.806177Z"
    }
   },
   "outputs": [
    {
     "name": "stdout",
     "output_type": "stream",
     "text": [
      "01-kallisto.ipynb                       14-Transcriptome-annoation-viaMox.ipynb\r\n",
      "10-blast-2-slim.ipynb                   \u001b[34manalyses\u001b[m\u001b[m\r\n",
      "11-fasta2pie.ipynb                      cbai_transcriptome_v1.5.fasta\r\n",
      "12-Transcriptome-annotation.ipynb       \u001b[34mdata\u001b[m\u001b[m\r\n",
      "13-Transcriptome-annotation.ipynb\r\n"
     ]
    }
   ],
   "source": [
    "!ls"
   ]
  },
  {
   "cell_type": "code",
   "execution_count": 11,
   "metadata": {
    "ExecuteTime": {
     "end_time": "2020-05-01T00:36:23.128290Z",
     "start_time": "2020-05-01T00:36:23.119397Z"
    }
   },
   "outputs": [
    {
     "data": {
      "text/plain": [
       "'/Users/sr320/Documents/GitHub/nb-2020/C_bairdi'"
      ]
     },
     "execution_count": 11,
     "metadata": {},
     "output_type": "execute_result"
    }
   ],
   "source": [
    "pwd"
   ]
  },
  {
   "cell_type": "code",
   "execution_count": 13,
   "metadata": {
    "ExecuteTime": {
     "end_time": "2020-05-01T00:37:23.933151Z",
     "start_time": "2020-05-01T00:37:23.749740Z"
    }
   },
   "outputs": [
    {
     "name": "stdout",
     "output_type": "stream",
     "text": [
      "   80870 data/20200408.C_bairdi.megan.Trinity.fasta\r\n"
     ]
    }
   ],
   "source": [
    "!wc -l data/20200408.C_bairdi.megan.Trinity.fasta"
   ]
  },
  {
   "cell_type": "code",
   "execution_count": null,
   "metadata": {},
   "outputs": [],
   "source": []
  }
 ],
 "metadata": {
  "kernelspec": {
   "display_name": "Python 3",
   "language": "python",
   "name": "python3"
  },
  "language_info": {
   "codemirror_mode": {
    "name": "ipython",
    "version": 3
   },
   "file_extension": ".py",
   "mimetype": "text/x-python",
   "name": "python",
   "nbconvert_exporter": "python",
   "pygments_lexer": "ipython3",
   "version": "3.6.8"
  }
 },
 "nbformat": 4,
 "nbformat_minor": 2
}
