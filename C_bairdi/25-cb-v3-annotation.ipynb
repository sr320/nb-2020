{
 "cells": [
  {
   "cell_type": "markdown",
   "metadata": {},
   "source": [
    "## Transcriptome Annotation"
   ]
  },
  {
   "cell_type": "code",
   "execution_count": 3,
   "metadata": {},
   "outputs": [
    {
     "name": "stdout",
     "output_type": "stream",
     "text": [
      ">TRINITY_DN5604_c0_g2_i1\n",
      "GAGAGAAAAACCGACAGGAGGAATTTCTTTGTTAACAACAAAAACTAATATATTTCGCATACCTGACAGACATGGTGACAGCGCCTCTGATGTTCGCCGAATTAAAGAGGACGGCAGCTGAGTTCCGCACCAAGTTCCGCCCTAAGGATCTCTCCAACTGGGAAGTCCAGGCACATGAAGTCCAGGCACGTAAGGGTAATATTCCCCAGAATCGTGTCGCCGATCAATACGCCATTCTCATGGACATTCCCATCGAACAGAAACGGGATTTCGTAGCTTCATGCGTGAAAAATCCGGAGCTGGACCGCGCGATGGGCTGCTTTGTGGGCTTGGCCGTCGCCGACTCCCTGGGCCATTTTTTTGAATTCCTCCCCGCTTGTAATGGCAAGTCCAAGGAGCATTATTATGACCGCAAAACAGACACAATTGTGAATGGATCGAATGTTTTCGAGCTGAAGCGCGGCCAATGGACCGATGACTGCTCGATGGCGCTGTGCATGGCAGACTCGCTGCTATTGACTGAGGGCAATTACGATGGAAGCGACTTGCGTATTCGATTTGCGAATTGGTGGTATCGGGGGTACAACAACGCTTTTCGAGTCGAAAACAGAGAAAAAGGGACGACCTTGCTTTCCGTGGGATTGGGCGGCAACATTTCGCGATCACTTTATAGCATGAATAGCGGGGAAAAGCCTCTGCCCCGGTTTGAGAGAGATACAGAAGACGCGGGAAACGGATCGATCATGCGCCTGGCGGCAGTACCACTCAGATTCCGTAATACCGTTGAAGCCCTGGAGGTGGCGAGCGAACAATCGTACTCCACGCATCCAGGTGTCAAAGCGGCCGACGCCTGCCGCTTCCTCGCATTTGTCGTTCACGCTGCGCTCAACAGCTCTGGCAAAGAGACGGCTAAGGAAATGCTGGATCGTGCCGCCGCGGATTTCGTGAAGAAATGCGAATGCTCAGGCGATCTCGCACGAATGATTGCGGCTAAAGAACCGACTACGTCGTTGGAAGTGTGCTGGAATTGGCGTGACGATATCGTGGACGTCGAAGGAGCCATAAGCAATAGAGGTGCCAAGTACAATGATTACCCCGTCATTCCTGACTATTTCGGCTCTTTTTGCTTCGATGGACTCGCCCTGGCGCTCCATTCGGTCTATAACACGACATCTTTCGACGAGTGCATTGAGCGGTGCATCAACTACCTGGGCGACGCCGATTCGACGGGAGCAGTCGCAGGTCAAATAGCTGGTGCTTTTTACGGCTATAGTGCCATTCCTCAAAAGTGGCGCGACGATTTGGTTCTCTGGGATGAGTGGGATATTCCAACCAAAGCAGCCCTGCTCTACCTCGAATCGAATCCCTAGTTACAGTATTATAAAAAATAGATAGATATGTTTTCCAAAGAAGAAAACAAAAACTAATATGGTTGAAGCAAAAACCAGATAAAGAGAACTCTTTTCTATTCGTGGCCATTCGTTCTTGTTCTGTGGAATTATCAACACACGCATGTAAATTCCTGTACATATATATATTACCCTGCTTACAGAATGCCGGGGCTATATATTTGAAATGTGTATTTGCTTAGTCTATTTCCATAGACGCCCAACGGTGATATTAGAAGCAAAGTGGTATAACGTTAAAACACATCGCGTTTTTTGTCAAACTTGTTTTTGTTTTGAGCGTTATTTTGAGTGATTATGGACATTTTTGATGTTTTTGTATATACTACCAAAAAGTAAAAAAAGTCAAAGAAGTCCTATATCGCTTTACAGGAATCATTTTATCACCTTTAGTCGTTTAGGATATTGTATAGAAACTGGTGCCGCATTCCTCCCGTGGCCCACATTACCACATTAGATGATCAGTGTGCTATATAGTTTCCTACCAAACGCCCATTCCAGAAGACCCCCGCCAGTTTTTATGTTTTTCCATGTAAACTCGCCATAGTCCTTCTCGTGGGCATTAAGTATATTTTTTTTTGGGATCGTGATGGAAGCTACGGTGCTCTTATGTTGCACAATTTTTTCTAGAGTTCCGTTTTGTTGATGGCTGCGATAAGACATTTGTCGAATTCAGCCGACTTGTACCGAGCGCGACGACGGACATATTGTAGAATGAGTTCGTAGGTACTCCGTAAAAAATCACGTGGTATATTCGAACAGTTTTTTGTACAGTGTCTGTTTTTTTTTGTTTCTGCGCGTTTTCACCGTACTACCTGCGATTAAGGAGGAGTTTGTACTATGCACGCGCGCGTAGAATGCGGGTGGGGGGAGTCTGCTGCGATGCGGCCTTTTTAGCAGTACAAACTACGTGTGTGTG\n"
     ]
    }
   ],
   "source": [
    "!head -2 data/cbai_transcriptome_v3.1.fasta"
   ]
  },
  {
   "cell_type": "code",
   "execution_count": 6,
   "metadata": {},
   "outputs": [
    {
     "name": "stdout",
     "output_type": "stream",
     "text": [
      "78649\n"
     ]
    }
   ],
   "source": [
    "!fgrep -c \">\" data/cbai_transcriptome_v3.1.fasta"
   ]
  },
  {
   "cell_type": "code",
   "execution_count": 2,
   "metadata": {},
   "outputs": [
    {
     "name": "stdout",
     "output_type": "stream",
     "text": [
      "/Users/sr320/Documents/GitHub/nb-2020/C_bairdi/data\n"
     ]
    }
   ],
   "source": [
    "cd data/"
   ]
  },
  {
   "cell_type": "code",
   "execution_count": 8,
   "metadata": {},
   "outputs": [
    {
     "name": "stdout",
     "output_type": "stream",
     "text": [
      "  % Total    % Received % Xferd  Average Speed   Time    Time     Time  Current\n",
      "                                 Dload  Upload   Total   Spent    Left  Speed\n",
      "100 4262k  100 4262k    0     0  3581k      0  0:00:01  0:00:01 --:--:-- 3581k\n"
     ]
    }
   ],
   "source": [
    "!curl -O https://raw.githubusercontent.com/RobertsLab/paper-tanner-crab/master/analyses/BLAST-to-GOslim/_blast-sep.tab"
   ]
  },
  {
   "cell_type": "code",
   "execution_count": 9,
   "metadata": {},
   "outputs": [
    {
     "name": "stdout",
     "output_type": "stream",
     "text": [
      "20200408.C_bairdi.megan.Trinity.fasta  cbai_transcriptome_v3.1.fasta.zip\n",
      "_blast-sep.tab                         \u001b[31mlva.proteins.fa\u001b[m\u001b[m*\n",
      "cbai_transcriptome_v1.5.fasta          lva.proteins.phr\n",
      "cbai_transcriptome_v2.0.fasta          lva.proteins.pin\n",
      "cbai_transcriptome_v3.0.fasta          lva.proteins.psq\n",
      "cbai_transcriptome_v3.1.fasta\n"
     ]
    }
   ],
   "source": [
    "ls "
   ]
  },
  {
   "cell_type": "code",
   "execution_count": 10,
   "metadata": {},
   "outputs": [
    {
     "name": "stdout",
     "output_type": "stream",
     "text": [
      "TRINITY_DN100026_c0_g1_i1\tsp\tP60322\tNANO2_MOUSE\t79.3\t29\t6\t0\t319\t233\t88\t116\t4.1e-08\t58.9\n",
      "TRINITY_DN100027_c0_g1_i1\tsp\tQ27597\tNCPR_DROME\t48.4\t62\t32\t0\t547\t362\t460\t521\t2.2e-11\t70.5\n",
      "TRINITY_DN100045_c0_g1_i1\tsp\tQ01484\tANK2_HUMAN\t70.4\t135\t40\t0\t1\t405\t1234\t1368\t2.4e-50\t199.5\n",
      "TRINITY_DN10007_c0_g1_i1\tsp\tQ9LMM1\tC86A4_ARATH\t35.0\t489\t282\t10\t498\t1865\t19\t504\t4.8e-75\t284.6\n",
      "TRINITY_DN10007_c0_g1_i10\tsp\tQ9LMM1\tC86A4_ARATH\t35.0\t489\t282\t10\t498\t1865\t19\t504\t4.4e-75\t284.6\n",
      "TRINITY_DN10007_c0_g1_i12\tsp\tQ9LMM1\tC86A4_ARATH\t35.0\t489\t282\t10\t498\t1865\t19\t504\t5.0e-75\t284.6\n",
      "TRINITY_DN10007_c0_g1_i14\tsp\tQ9LMM1\tC86A4_ARATH\t35.0\t489\t282\t10\t498\t1865\t19\t504\t4.8e-75\t284.6\n",
      "TRINITY_DN10007_c0_g1_i2\tsp\tQ9LMM1\tC86A4_ARATH\t37.2\t444\t247\t9\t621\t1865\t64\t504\t2.9e-74\t282.0\n",
      "TRINITY_DN10007_c0_g1_i3\tsp\tQ9LMM1\tC86A4_ARATH\t35.2\t489\t281\t10\t498\t1865\t19\t504\t1.5e-75\t286.2\n",
      "TRINITY_DN10007_c0_g1_i7\tsp\tQ9LMM1\tC86A4_ARATH\t35.0\t489\t282\t10\t498\t1865\t19\t504\t5.2e-75\t284.6\n"
     ]
    }
   ],
   "source": [
    "!head _blast-sep.tab"
   ]
  },
  {
   "cell_type": "code",
   "execution_count": 11,
   "metadata": {},
   "outputs": [
    {
     "name": "stdout",
     "output_type": "stream",
     "text": [
      "   48551 _blast-sep.tab\n"
     ]
    }
   ],
   "source": [
    "!wc -l _blast-sep.tab"
   ]
  },
  {
   "cell_type": "code",
   "execution_count": 12,
   "metadata": {},
   "outputs": [],
   "source": [
    "mv _blast-sep.tab cbai_v3.1-blast.tab"
   ]
  },
  {
   "cell_type": "code",
   "execution_count": 14,
   "metadata": {},
   "outputs": [
    {
     "name": "stdout",
     "output_type": "stream",
     "text": [
      "TRINITY_DN100026_c0_g1_i1\tsp\tP60322\tNANO2_MOUSE\t79.3\t29\t6\t0\t319\t233\t88\t116\t4.1e-08\t58.9\n",
      "TRINITY_DN100027_c0_g1_i1\tsp\tQ27597\tNCPR_DROME\t48.4\t62\t32\t0\t547\t362\t460\t521\t2.2e-11\t70.5\n",
      "TRINITY_DN100045_c0_g1_i1\tsp\tQ01484\tANK2_HUMAN\t70.4\t135\t40\t0\t1\t405\t1234\t1368\t2.4e-50\t199.5\n",
      "TRINITY_DN10007_c0_g1_i1\tsp\tQ9LMM1\tC86A4_ARATH\t35.0\t489\t282\t10\t498\t1865\t19\t504\t4.8e-75\t284.6\n",
      "TRINITY_DN10007_c0_g1_i10\tsp\tQ9LMM1\tC86A4_ARATH\t35.0\t489\t282\t10\t498\t1865\t19\t504\t4.4e-75\t284.6\n",
      "TRINITY_DN10007_c0_g1_i12\tsp\tQ9LMM1\tC86A4_ARATH\t35.0\t489\t282\t10\t498\t1865\t19\t504\t5.0e-75\t284.6\n",
      "TRINITY_DN10007_c0_g1_i14\tsp\tQ9LMM1\tC86A4_ARATH\t35.0\t489\t282\t10\t498\t1865\t19\t504\t4.8e-75\t284.6\n",
      "TRINITY_DN10007_c0_g1_i2\tsp\tQ9LMM1\tC86A4_ARATH\t37.2\t444\t247\t9\t621\t1865\t64\t504\t2.9e-74\t282.0\n",
      "TRINITY_DN10007_c0_g1_i3\tsp\tQ9LMM1\tC86A4_ARATH\t35.2\t489\t281\t10\t498\t1865\t19\t504\t1.5e-75\t286.2\n",
      "TRINITY_DN10007_c0_g1_i7\tsp\tQ9LMM1\tC86A4_ARATH\t35.0\t489\t282\t10\t498\t1865\t19\t504\t5.2e-75\t284.6\n"
     ]
    }
   ],
   "source": [
    "!head cbai_v3.1-blast.tab"
   ]
  },
  {
   "cell_type": "code",
   "execution_count": 26,
   "metadata": {},
   "outputs": [],
   "source": [
    "!sort -k 3,3 cbai_v3.1-blast.tab > cbai_v3.1-blast.sorted"
   ]
  },
  {
   "cell_type": "code",
   "execution_count": 27,
   "metadata": {},
   "outputs": [
    {
     "name": "stdout",
     "output_type": "stream",
     "text": [
      "TRINITY_DN5521_c0_g1_i1\tsp\tA0A087WPF7\tAUTS2_MOUSE\t36.5\t233\t113\t7\t728\t1348\t471\t694\t7.9e-06\t54.7\n",
      "TRINITY_DN97262_c0_g1_i1\tsp\tA0A0B4J2F2\tSIK1B_HUMAN\t66.7\t45\t15\t0\t197\t331\t21\t65\t3.6e-10\t65.9\n",
      "TRINITY_DN115719_c0_g1_i1\tsp\tA0A0F7YZI5\tCTHB5_CONVC\t41.7\t132\t65\t4\t233\t601\t5\t133\t8.9e-20\t99.8\n",
      "TRINITY_DN15420_c4_g1_i1\tsp\tA0A0G2JV04\tGGA3_RAT\t34.0\t773\t428\t16\t150\t2405\t8\t719\t6.0e-94\t347.1\n",
      "TRINITY_DN4191_c0_g1_i1\tsp\tA0A0G2JZ79\tSIR1_RAT\t42.2\t282\t104\t7\t451\t1119\t202\t483\t9.3e-44\t181.0\n",
      "TRINITY_DN133_c15_g1_i1\tsp\tA0A0G2K309\tORNT1_RAT\t64.2\t123\t44\t0\t81\t449\t11\t133\t3.3e-37\t156.0\n",
      "TRINITY_DN13415_c0_g1_i1\tsp\tA0A0P6JG37\tASAH1_HETGA\t46.1\t369\t190\t5\t596\t1687\t31\t395\t2.0e-96\t354.8\n",
      "TRINITY_DN98549_c0_g1_i1\tsp\tA0A0R4I9Y1\tR213B_DANRE\t33.2\t259\t141\t8\t2\t709\t2712\t2961\t3.4e-28\t126.7\n",
      "TRINITY_DN100235_c0_g1_i1\tsp\tA0A0R4IBK5\tR213A_DANRE\t39.2\t74\t45\t0\t49\t270\t2759\t2832\t2.4e-09\t62.8\n",
      "TRINITY_DN112285_c0_g1_i1\tsp\tA0A0R4IBK5\tR213A_DANRE\t38.0\t129\t80\t0\t46\t432\t3100\t3228\t3.3e-17\t89.7\n"
     ]
    }
   ],
   "source": [
    "!head cbai_v3.1-blast.sorted"
   ]
  },
  {
   "cell_type": "code",
   "execution_count": 21,
   "metadata": {},
   "outputs": [
    {
     "name": "stdout",
     "output_type": "stream",
     "text": [
      "A0A087WPF7\n",
      "A0A0B4J2F2\n",
      "A0A0F7YZI5\n",
      "A0A0G2JV04\n",
      "A0A0G2JZ79\n",
      "A0A0G2K309\n",
      "A0A0P6JG37\n",
      "A0A0R4I9Y1\n",
      "A0A0R4IBK5\n",
      "A0A0R4IES7\n"
     ]
    }
   ],
   "source": [
    "!cut -f 3 cbai_v3.1-blast.tab | sort | uniq | head"
   ]
  },
  {
   "cell_type": "code",
   "execution_count": 19,
   "metadata": {},
   "outputs": [],
   "source": [
    "!cut -f 3 cbai_v3.1-blast.tab | pbcopy"
   ]
  },
  {
   "cell_type": "code",
   "execution_count": null,
   "metadata": {},
   "outputs": [],
   "source": [
    "https://d.pr/i/UYqiLm"
   ]
  },
  {
   "cell_type": "code",
   "execution_count": 22,
   "metadata": {},
   "outputs": [],
   "source": [
    "!cut -f 3 cbai_v3.1-blast.tab | sort | uniq > ../analyses/v3.1_UPacc.txt"
   ]
  },
  {
   "cell_type": "code",
   "execution_count": 24,
   "metadata": {},
   "outputs": [
    {
     "name": "stdout",
     "output_type": "stream",
     "text": [
      "Entry\tEntry name\tStatus\tProtein names\tGene names\tOrganism\tLength\tGene ontology (biological process)\tGene ontology (cellular component)\tGene ontology (molecular function)\tGene ontology (GO)\tGene ontology IDs\n",
      "A0A087WPF7\tAUTS2_MOUSE\treviewed\tAutism susceptibility gene 2 protein homolog\tAuts2 Kiaa0442\tMus musculus (Mouse)\t1261\tactin cytoskeleton reorganization [GO:0031532]; axon extension [GO:0048675]; dendrite extension [GO:0097484]; innate vocalization behavior [GO:0098582]; neuron migration [GO:0001764]; positive regulation of histone H3-K4 methylation [GO:0051571]; positive regulation of histone H4-K16 acetylation [GO:2000620]; positive regulation of lamellipodium assembly [GO:0010592]; positive regulation of Rac protein signal transduction [GO:0035022]; positive regulation of transcription by RNA polymerase II [GO:0045944]; righting reflex [GO:0060013]\tcytoplasm [GO:0005737]; cytoskeleton [GO:0005856]; growth cone [GO:0030426]; nucleus [GO:0005634]\tchromatin binding [GO:0003682]\tcytoplasm [GO:0005737]; cytoskeleton [GO:0005856]; growth cone [GO:0030426]; nucleus [GO:0005634]; chromatin binding [GO:0003682]; actin cytoskeleton reorganization [GO:0031532]; axon extension [GO:0048675]; dendrite extension [GO:0097484]; innate vocalization behavior [GO:0098582]; neuron migration [GO:0001764]; positive regulation of histone H3-K4 methylation [GO:0051571]; positive regulation of histone H4-K16 acetylation [GO:2000620]; positive regulation of lamellipodium assembly [GO:0010592]; positive regulation of Rac protein signal transduction [GO:0035022]; positive regulation of transcription by RNA polymerase II [GO:0045944]; righting reflex [GO:0060013]\tGO:0001764; GO:0003682; GO:0005634; GO:0005737; GO:0005856; GO:0010592; GO:0030426; GO:0031532; GO:0035022; GO:0045944; GO:0048675; GO:0051571; GO:0060013; GO:0097484; GO:0098582; GO:2000620\n"
     ]
    }
   ],
   "source": [
    "!head -2 v3.1_SP-annotations.tab"
   ]
  },
  {
   "cell_type": "code",
   "execution_count": 4,
   "metadata": {},
   "outputs": [
    {
     "data": {
      "text/plain": [
       "'/Users/sr320/Documents/GitHub/nb-2020/C_bairdi/data'"
      ]
     },
     "execution_count": 4,
     "metadata": {},
     "output_type": "execute_result"
    }
   ],
   "source": [
    "pwd"
   ]
  },
  {
   "cell_type": "code",
   "execution_count": 3,
   "metadata": {},
   "outputs": [
    {
     "name": "stdout",
     "output_type": "stream",
     "text": [
      "join: _blast-sort.tab: No such file or directory\n"
     ]
    }
   ],
   "source": [
    "!join -t $'\\t' \\\n",
    "_blast-sort.tab \\\n",
    "uniprot-SP-GO.sorted \\\n",
    "| cut -f1,2,14 \\\n",
    "> _blast-annot.tab"
   ]
  },
  {
   "cell_type": "code",
   "execution_count": null,
   "metadata": {},
   "outputs": [],
   "source": []
  }
 ],
 "metadata": {
  "kernelspec": {
   "display_name": "Python 3",
   "language": "python",
   "name": "python3"
  },
  "language_info": {
   "codemirror_mode": {
    "name": "ipython",
    "version": 3
   },
   "file_extension": ".py",
   "mimetype": "text/x-python",
   "name": "python",
   "nbconvert_exporter": "python",
   "pygments_lexer": "ipython3",
   "version": "3.6.8"
  }
 },
 "nbformat": 4,
 "nbformat_minor": 2
}
