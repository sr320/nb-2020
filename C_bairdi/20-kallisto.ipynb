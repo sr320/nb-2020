{
 "cells": [
  {
   "cell_type": "code",
   "execution_count": 1,
   "metadata": {
    "ExecuteTime": {
     "end_time": "2020-04-15T15:35:21.070993Z",
     "start_time": "2020-04-15T15:35:20.909755Z"
    }
   },
   "outputs": [
    {
     "name": "stdout",
     "output_type": "stream",
     "text": [
      "kallisto 0.46.2\n",
      "\n",
      "Usage: kallisto <CMD> [arguments] ..\n",
      "\n",
      "Where <CMD> can be one of:\n",
      "\n",
      "    index         Builds a kallisto index \n",
      "    quant         Runs the quantification algorithm \n",
      "    bus           Generate BUS files for single-cell data \n",
      "    pseudo        Runs the pseudoalignment step \n",
      "    merge         Merges several batch runs \n",
      "    h5dump        Converts HDF5-formatted results to plaintext\n",
      "    inspect       Inspects and gives information about an index\n",
      "    version       Prints version information\n",
      "    cite          Prints citation information\n",
      "\n",
      "Running kallisto <CMD> without arguments prints usage information for <CMD>\n",
      "\n"
     ]
    }
   ],
   "source": [
    "!kallisto"
   ]
  },
  {
   "cell_type": "code",
   "execution_count": 7,
   "metadata": {},
   "outputs": [
    {
     "name": "stdout",
     "output_type": "stream",
     "text": [
      "--2020-05-15 10:30:44--  https://owl.fish.washington.edu/halfshell/genomic-databank/cbai_transcriptome_v2.0.fasta\n",
      "Resolving owl.fish.washington.edu (owl.fish.washington.edu)... 128.95.149.83\n",
      "Connecting to owl.fish.washington.edu (owl.fish.washington.edu)|128.95.149.83|:443... connected.\n",
      "WARNING: cannot verify owl.fish.washington.edu's certificate, issued by ‘CN=InCommon RSA Server CA,OU=InCommon,O=Internet2,L=Ann Arbor,ST=MI,C=US’:\n",
      "  Unable to locally verify the issuer's authority.\n",
      "HTTP request sent, awaiting response... 200 OK\n",
      "Length: 947577859 (904M)\n",
      "Saving to: ‘cbai_transcriptome_v2.0.fasta’\n",
      "\n",
      "cbai_transcriptome_ 100%[===================>] 903.68M  2.32MB/s    in 7m 21s  \n",
      "\n",
      "2020-05-15 10:38:05 (2.05 MB/s) - ‘cbai_transcriptome_v2.0.fasta’ saved [947577859/947577859]\n",
      "\n"
     ]
    }
   ],
   "source": [
    "!wget --no-check-certificate https://owl.fish.washington.edu/halfshell/genomic-databank/cbai_transcriptome_v2.0.fasta"
   ]
  },
  {
   "cell_type": "code",
   "execution_count": 10,
   "metadata": {
    "ExecuteTime": {
     "end_time": "2020-04-15T15:44:44.402081Z",
     "start_time": "2020-04-15T15:43:51.701430Z"
    }
   },
   "outputs": [
    {
     "name": "stdout",
     "output_type": "stream",
     "text": [
      "\n",
      "[build] loading fasta file data/cbai_transcriptome_v2.0.fasta\n",
      "[build] k-mer length: 31\n",
      "[build] warning: clipped off poly-A tail (longer than 10)\n",
      "        from 18390 target sequences\n",
      "[build] counting k-mers ... done.\n",
      "[build] building target de Bruijn graph ... "
     ]
    }
   ],
   "source": [
    "!kallisto \\\n",
    "index -i analyses/C_bairdi_transcriptome_020 \\\n",
    "data/cbai_transcriptome_v2.0.fasta"
   ]
  },
  {
   "cell_type": "code",
   "execution_count": 15,
   "metadata": {
    "ExecuteTime": {
     "end_time": "2020-04-15T20:51:18.140019Z",
     "start_time": "2020-04-15T20:39:26.359072Z"
    }
   },
   "outputs": [
    {
     "name": "stdout",
     "output_type": "stream",
     "text": [
      "\n",
      "Error: kallisto index file not found analyses/C_bairdi_transcriptome_020\n",
      "\n",
      "Usage: kallisto quant [arguments] FASTQ-files\n",
      "\n",
      "Required arguments:\n",
      "-i, --index=STRING            Filename for the kallisto index to be used for\n",
      "                              quantification\n",
      "-o, --output-dir=STRING       Directory to write output to\n",
      "\n",
      "Optional arguments:\n",
      "    --bias                    Perform sequence based bias correction\n",
      "-b, --bootstrap-samples=INT   Number of bootstrap samples (default: 0)\n",
      "    --seed=INT                Seed for the bootstrap sampling (default: 42)\n",
      "    --plaintext               Output plaintext instead of HDF5\n",
      "    --fusion                  Search for fusions for Pizzly\n",
      "    --single                  Quantify single-end reads\n",
      "    --single-overhang         Include reads where unobserved rest of fragment is\n",
      "                              predicted to lie outside a transcript\n",
      "    --fr-stranded             Strand specific reads, first read forward\n",
      "    --rf-stranded             Strand specific reads, first read reverse\n",
      "-l, --fragment-length=DOUBLE  Estimated average fragment length\n",
      "-s, --sd=DOUBLE               Estimated standard deviation of fragment length\n",
      "                              (default: -l, -s values are estimated from paired\n",
      "                               end data, but are required when using --single)\n",
      "-t, --threads=INT             Number of threads to use (default: 1)\n",
      "    --pseudobam               Save pseudoalignments to transcriptome to BAM file\n",
      "    --genomebam               Project pseudoalignments to genome sorted BAM file\n",
      "-g, --gtf                     GTF file for transcriptome information\n",
      "                              (required for --genomebam)\n",
      "-c, --chromosomes             Tab separated file with chromosome names and lengths\n",
      "                              (optional for --genomebam, but recommended)\n",
      "    --verbose                 Print out progress information every 1M proccessed reads\n"
     ]
    }
   ],
   "source": [
    "!kallisto quant \\\n",
    "-i analyses/C_bairdi_transcriptome_020 \\\n",
    "-t 4 \\\n",
    "-o analyses/113_020_out \\\n",
    "/Volumes/block/c_bairdi/113_R1_001.fastp-trim.202003184225.fq.gz /Volumes/block/c_bairdi/113_R2_001.fastp-trim.202003184225.fq.gz\n"
   ]
  },
  {
   "cell_type": "code",
   "execution_count": 16,
   "metadata": {
    "ExecuteTime": {
     "end_time": "2020-04-15T20:51:18.140019Z",
     "start_time": "2020-04-15T20:39:26.359072Z"
    }
   },
   "outputs": [
    {
     "name": "stdout",
     "output_type": "stream",
     "text": [
      "\n",
      "Error: kallisto index file not found analyses/C_bairdi_transcriptome_020\n",
      "\n",
      "Usage: kallisto quant [arguments] FASTQ-files\n",
      "\n",
      "Required arguments:\n",
      "-i, --index=STRING            Filename for the kallisto index to be used for\n",
      "                              quantification\n",
      "-o, --output-dir=STRING       Directory to write output to\n",
      "\n",
      "Optional arguments:\n",
      "    --bias                    Perform sequence based bias correction\n",
      "-b, --bootstrap-samples=INT   Number of bootstrap samples (default: 0)\n",
      "    --seed=INT                Seed for the bootstrap sampling (default: 42)\n",
      "    --plaintext               Output plaintext instead of HDF5\n",
      "    --fusion                  Search for fusions for Pizzly\n",
      "    --single                  Quantify single-end reads\n",
      "    --single-overhang         Include reads where unobserved rest of fragment is\n",
      "                              predicted to lie outside a transcript\n",
      "    --fr-stranded             Strand specific reads, first read forward\n",
      "    --rf-stranded             Strand specific reads, first read reverse\n",
      "-l, --fragment-length=DOUBLE  Estimated average fragment length\n",
      "-s, --sd=DOUBLE               Estimated standard deviation of fragment length\n",
      "                              (default: -l, -s values are estimated from paired\n",
      "                               end data, but are required when using --single)\n",
      "-t, --threads=INT             Number of threads to use (default: 1)\n",
      "    --pseudobam               Save pseudoalignments to transcriptome to BAM file\n",
      "    --genomebam               Project pseudoalignments to genome sorted BAM file\n",
      "-g, --gtf                     GTF file for transcriptome information\n",
      "                              (required for --genomebam)\n",
      "-c, --chromosomes             Tab separated file with chromosome names and lengths\n",
      "                              (optional for --genomebam, but recommended)\n",
      "    --verbose                 Print out progress information every 1M proccessed reads\n"
     ]
    }
   ],
   "source": [
    "!kallisto quant \\\n",
    "-i analyses/C_bairdi_transcriptome_020 \\\n",
    "-t 4 \\\n",
    "-o analyses/118_020_out \\\n",
    "/Volumes/block/c_bairdi/118_R1_001.fastp-trim.202003184931.fq.gz /Volumes/block/c_bairdi/118_R2_001.fastp-trim.202003184931.fq.gz\n"
   ]
  },
  {
   "cell_type": "code",
   "execution_count": 17,
   "metadata": {
    "ExecuteTime": {
     "end_time": "2020-04-15T20:51:18.140019Z",
     "start_time": "2020-04-15T20:39:26.359072Z"
    }
   },
   "outputs": [
    {
     "name": "stdout",
     "output_type": "stream",
     "text": [
      "\n",
      "Error: kallisto index file not found analyses/C_bairdi_transcriptome_020\n",
      "\n",
      "Usage: kallisto quant [arguments] FASTQ-files\n",
      "\n",
      "Required arguments:\n",
      "-i, --index=STRING            Filename for the kallisto index to be used for\n",
      "                              quantification\n",
      "-o, --output-dir=STRING       Directory to write output to\n",
      "\n",
      "Optional arguments:\n",
      "    --bias                    Perform sequence based bias correction\n",
      "-b, --bootstrap-samples=INT   Number of bootstrap samples (default: 0)\n",
      "    --seed=INT                Seed for the bootstrap sampling (default: 42)\n",
      "    --plaintext               Output plaintext instead of HDF5\n",
      "    --fusion                  Search for fusions for Pizzly\n",
      "    --single                  Quantify single-end reads\n",
      "    --single-overhang         Include reads where unobserved rest of fragment is\n",
      "                              predicted to lie outside a transcript\n",
      "    --fr-stranded             Strand specific reads, first read forward\n",
      "    --rf-stranded             Strand specific reads, first read reverse\n",
      "-l, --fragment-length=DOUBLE  Estimated average fragment length\n",
      "-s, --sd=DOUBLE               Estimated standard deviation of fragment length\n",
      "                              (default: -l, -s values are estimated from paired\n",
      "                               end data, but are required when using --single)\n",
      "-t, --threads=INT             Number of threads to use (default: 1)\n",
      "    --pseudobam               Save pseudoalignments to transcriptome to BAM file\n",
      "    --genomebam               Project pseudoalignments to genome sorted BAM file\n",
      "-g, --gtf                     GTF file for transcriptome information\n",
      "                              (required for --genomebam)\n",
      "-c, --chromosomes             Tab separated file with chromosome names and lengths\n",
      "                              (optional for --genomebam, but recommended)\n",
      "    --verbose                 Print out progress information every 1M proccessed reads\n"
     ]
    }
   ],
   "source": [
    "!kallisto quant \\\n",
    "-i analyses/C_bairdi_transcriptome_020 \\\n",
    "-t 4 \\\n",
    "-o analyses/127_020_out \\\n",
    "/Volumes/block/c_bairdi/127_R1_001.fastp-trim.202003185538.fq.gz /Volumes/block/c_bairdi/127_R2_001.fastp-trim.202003185538.fq.gz\n"
   ]
  },
  {
   "cell_type": "code",
   "execution_count": 18,
   "metadata": {
    "ExecuteTime": {
     "end_time": "2020-04-15T20:51:18.140019Z",
     "start_time": "2020-04-15T20:39:26.359072Z"
    }
   },
   "outputs": [
    {
     "name": "stdout",
     "output_type": "stream",
     "text": [
      "\n",
      "Error: kallisto index file not found analyses/C_bairdi_transcriptome_020\n",
      "\n",
      "Usage: kallisto quant [arguments] FASTQ-files\n",
      "\n",
      "Required arguments:\n",
      "-i, --index=STRING            Filename for the kallisto index to be used for\n",
      "                              quantification\n",
      "-o, --output-dir=STRING       Directory to write output to\n",
      "\n",
      "Optional arguments:\n",
      "    --bias                    Perform sequence based bias correction\n",
      "-b, --bootstrap-samples=INT   Number of bootstrap samples (default: 0)\n",
      "    --seed=INT                Seed for the bootstrap sampling (default: 42)\n",
      "    --plaintext               Output plaintext instead of HDF5\n",
      "    --fusion                  Search for fusions for Pizzly\n",
      "    --single                  Quantify single-end reads\n",
      "    --single-overhang         Include reads where unobserved rest of fragment is\n",
      "                              predicted to lie outside a transcript\n",
      "    --fr-stranded             Strand specific reads, first read forward\n",
      "    --rf-stranded             Strand specific reads, first read reverse\n",
      "-l, --fragment-length=DOUBLE  Estimated average fragment length\n",
      "-s, --sd=DOUBLE               Estimated standard deviation of fragment length\n",
      "                              (default: -l, -s values are estimated from paired\n",
      "                               end data, but are required when using --single)\n",
      "-t, --threads=INT             Number of threads to use (default: 1)\n",
      "    --pseudobam               Save pseudoalignments to transcriptome to BAM file\n",
      "    --genomebam               Project pseudoalignments to genome sorted BAM file\n",
      "-g, --gtf                     GTF file for transcriptome information\n",
      "                              (required for --genomebam)\n",
      "-c, --chromosomes             Tab separated file with chromosome names and lengths\n",
      "                              (optional for --genomebam, but recommended)\n",
      "    --verbose                 Print out progress information every 1M proccessed reads\n"
     ]
    }
   ],
   "source": [
    "!kallisto quant \\\n",
    "-i analyses/C_bairdi_transcriptome_020 \\\n",
    "-t 4 \\\n",
    "-o analyses/132_020_out \\\n",
    "/Volumes/block/c_bairdi/132_R1_001.fastp-trim.202003180140.fq.gz /Volumes/block/c_bairdi/132_R2_001.fastp-trim.202003180140.fq.gz\n"
   ]
  },
  {
   "cell_type": "markdown",
   "metadata": {},
   "source": [
    "# Creating Matrices"
   ]
  },
  {
   "cell_type": "code",
   "execution_count": 20,
   "metadata": {
    "ExecuteTime": {
     "end_time": "2020-04-15T21:25:50.672177Z",
     "start_time": "2020-04-15T21:25:50.413518Z"
    }
   },
   "outputs": [
    {
     "name": "stdout",
     "output_type": "stream",
     "text": [
      "\n",
      "####################################################################################\n",
      "#\n",
      "# Usage:  /Applications/bioinfo/trinityrnaseq-v2.8.6/util/abundance_estimates_to_matrix.pl --est_method <method>  sample1.results sample2.results ...\n",
      "#\n",
      "#      or  /Applications/bioinfo/trinityrnaseq-v2.8.6/util/abundance_estimates_to_matrix.pl --est_method <method> --quant_files file.listing_target_files.txt\n",
      "#\n",
      "#      Note, if only a single input file is given, it's expected to contain the paths to all the target abundance estimation files.\n",
      "#\n",
      "# Required:\n",
      "#            \n",
      "#  --est_method <string>           RSEM|eXpress|kallisto|salmon  (needs to know what format to expect)\n",
      "#\n",
      "#  --gene_trans_map <string>           the gene-to-transcript mapping file. (if you don't want gene estimates, indicate 'none'.\n",
      "#\n",
      "#\n",
      "# Options:\n",
      "#\n",
      "#  --cross_sample_norm <string>         TMM|UpperQuartile|none   (default: TMM)\n",
      "#\n",
      "#  --name_sample_by_basedir             name sample column by dirname instead of filename\n",
      "#      --basedir_index <int>            default(-2)\n",
      "#\n",
      "#  --out_prefix <string>                default: value for --est_method\n",
      "#\n",
      "#  --quant_files <string>              file containing a list of all the target files.\n",
      "#\n",
      "######################################################################################\n",
      "\n",
      "\n"
     ]
    }
   ],
   "source": [
    "!perl /Applications/bioinfo/trinityrnaseq-v2.8.6/util/abundance_estimates_to_matrix.pl"
   ]
  },
  {
   "cell_type": "code",
   "execution_count": 23,
   "metadata": {
    "ExecuteTime": {
     "end_time": "2020-04-15T21:30:55.561625Z",
     "start_time": "2020-04-15T21:30:53.801013Z"
    }
   },
   "outputs": [
    {
     "name": "stdout",
     "output_type": "stream",
     "text": [
      "-reading file: /Users/sr320/Documents/GitHub/nb-2020/C_bairdi/analyses/329774_out/abundance.tsv\n",
      "-reading file: /Users/sr320/Documents/GitHub/nb-2020/C_bairdi/analyses/329775_out/abundance.tsv\n",
      "-reading file: /Users/sr320/Documents/GitHub/nb-2020/C_bairdi/analyses/329776_out/abundance.tsv\n",
      "-reading file: /Users/sr320/Documents/GitHub/nb-2020/C_bairdi/analyses/329777_out/abundance.tsv\n",
      "\n",
      "\n",
      "* Outputting combined matrix.\n",
      "\n",
      "/Applications/bioinfo/trinityrnaseq-v2.8.6/util/support_scripts/run_TMM_scale_matrix.pl --matrix analyses/kallisto-0315.isoform.TPM.not_cross_norm > analyses/kallisto-0315.isoform.TMM.EXPR.matrixCMD: R --no-save --no-restore --no-site-file --no-init-file -q < analyses/kallisto-0315.isoform.TPM.not_cross_norm.runTMM.R 1>&2 \n",
      "> library(edgeR)\n",
      "Error in library(edgeR) : there is no package called ‘edgeR’\n",
      "Execution halted\n",
      "Error, cmd: R --no-save --no-restore --no-site-file --no-init-file -q < analyses/kallisto-0315.isoform.TPM.not_cross_norm.runTMM.R 1>&2  died with ret (256)  at /Applications/bioinfo/trinityrnaseq-v2.8.6/util/support_scripts/run_TMM_scale_matrix.pl line 105.\n",
      "Error, CMD: /Applications/bioinfo/trinityrnaseq-v2.8.6/util/support_scripts/run_TMM_scale_matrix.pl --matrix analyses/kallisto-0315.isoform.TPM.not_cross_norm > analyses/kallisto-0315.isoform.TMM.EXPR.matrix died with ret 6400 at /Applications/bioinfo/trinityrnaseq-v2.8.6/util/abundance_estimates_to_matrix.pl line 385.\n"
     ]
    }
   ],
   "source": [
    "!perl /Applications/bioinfo/trinityrnaseq-v2.8.6/util/abundance_estimates_to_matrix.pl \\\n",
    "--est_method kallisto \\\n",
    "    --gene_trans_map none \\\n",
    "    --out_prefix analyses/kallisto-0315 \\\n",
    "    --name_sample_by_basedir \\\n",
    "     /Users/sr320/Documents/GitHub/nb-2020/C_bairdi/analyses/329774_out/abundance.tsv \\\n",
    "     /Users/sr320/Documents/GitHub/nb-2020/C_bairdi/analyses/329775_out/abundance.tsv \\\n",
    "     /Users/sr320/Documents/GitHub/nb-2020/C_bairdi/analyses/329776_out/abundance.tsv \\\n",
    "     /Users/sr320/Documents/GitHub/nb-2020/C_bairdi/analyses/329777_out/abundance.tsv   "
   ]
  },
  {
   "cell_type": "code",
   "execution_count": null,
   "metadata": {},
   "outputs": [],
   "source": []
  }
 ],
 "metadata": {
  "kernelspec": {
   "display_name": "Python 3",
   "language": "python",
   "name": "python3"
  },
  "language_info": {
   "codemirror_mode": {
    "name": "ipython",
    "version": 3
   },
   "file_extension": ".py",
   "mimetype": "text/x-python",
   "name": "python",
   "nbconvert_exporter": "python",
   "pygments_lexer": "ipython3",
   "version": "3.6.8"
  }
 },
 "nbformat": 4,
 "nbformat_minor": 2
}
