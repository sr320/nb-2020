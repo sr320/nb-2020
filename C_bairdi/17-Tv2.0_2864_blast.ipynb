{
 "cells": [
  {
   "cell_type": "code",
   "execution_count": null,
   "metadata": {},
   "outputs": [],
   "source": [
    "Transcriptome v 2.0 blast 2864"
   ]
  },
  {
   "cell_type": "markdown",
   "metadata": {},
   "source": [
    " fgrep \">\" -c cbai_transcriptome_v2.0.fasta \n",
    "1412254\n",
    "\n",
    "\n"
   ]
  },
  {
   "cell_type": "code",
   "execution_count": null,
   "metadata": {},
   "outputs": [],
   "source": [
    "#!/bin/bash\n",
    "## Job Name\n",
    "#SBATCH --job-name=blastx-05\n",
    "## Allocation Definition\n",
    "#SBATCH --account=coenv\n",
    "#SBATCH --partition=coenv\n",
    "## Resources\n",
    "## Nodes\n",
    "#SBATCH --nodes=1\n",
    "## Walltime (days-hours:minutes:seconds format)\n",
    "#SBATCH --time=3-00:00:00\n",
    "## Memory per node\n",
    "#SBATCH --mem=100G\n",
    "##turn on e-mail notification\n",
    "#SBATCH --mail-type=ALL\n",
    "#SBATCH --mail-user=sr320@uw.edu\n",
    "## Specify the working directory for this job\n",
    "#SBATCH --chdir=/gscratch/scrubbed/sr320/051520-v2-2864\n",
    "\n",
    "\n",
    "\n",
    "source /gscratch/srlab/programs/scripts/paths.sh\n",
    "\n",
    "\n",
    "\n",
    "/gscratch/srlab/programs/ncbi-blast-2.6.0+/bin/blastx \\\n",
    "-query /gscratch/srlab/sr320/data/crab/cbai_transcriptome_v2.0.fasta \\\n",
    "-db /gscratch/srlab/sr320/blastdb/uniprot-taxonomy_2864 \\\n",
    "-evalue 1e-20 \\\n",
    "-outfmt 6 \\\n",
    "-out /gscratch/scrubbed/sr320/051520-v2-2864/cb20_blastx_2864.tab \\\n",
    "-max_target_seqs 1 \\\n",
    "-max_hsps 1 \\\n",
    "-num_threads 28"
   ]
  }
 ],
 "metadata": {
  "kernelspec": {
   "display_name": "Python 3",
   "language": "python",
   "name": "python3"
  },
  "language_info": {
   "codemirror_mode": {
    "name": "ipython",
    "version": 3
   },
   "file_extension": ".py",
   "mimetype": "text/x-python",
   "name": "python",
   "nbconvert_exporter": "python",
   "pygments_lexer": "ipython3",
   "version": "3.6.8"
  }
 },
 "nbformat": 4,
 "nbformat_minor": 2
}
