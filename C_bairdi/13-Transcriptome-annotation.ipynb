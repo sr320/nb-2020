{
 "cells": [
  {
   "cell_type": "code",
   "execution_count": 1,
   "metadata": {
    "ExecuteTime": {
     "end_time": "2020-04-30T23:12:22.607237Z",
     "start_time": "2020-04-30T23:12:22.376751Z"
    }
   },
   "outputs": [
    {
     "name": "stdout",
     "output_type": "stream",
     "text": [
      "USAGE\r\n",
      "  makeblastdb [-h] [-help] [-in input_file] [-input_type type]\r\n",
      "    -dbtype molecule_type [-title database_title] [-parse_seqids]\r\n",
      "    [-hash_index] [-mask_data mask_data_files] [-mask_id mask_algo_ids]\r\n",
      "    [-mask_desc mask_algo_descriptions] [-gi_mask]\r\n",
      "    [-gi_mask_name gi_based_mask_names] [-out database_name]\r\n",
      "    [-max_file_sz number_of_bytes] [-logfile File_Name] [-taxid TaxID]\r\n",
      "    [-taxid_map TaxIDMapFile] [-version]\r\n",
      "\r\n",
      "DESCRIPTION\r\n",
      "   Application to create BLAST databases, version 2.7.1+\r\n",
      "\r\n",
      "Use '-help' to print detailed descriptions of command line arguments\r\n",
      "========================================================================\r\n",
      "\r\n",
      "Error: Argument \"dbtype\". Mandatory value is missing:  `String, `nucl', `prot''\r\n",
      "Error:  (CArgException::eNoArg) Argument \"dbtype\". Mandatory value is missing:  `String, `nucl', `prot''\r\n"
     ]
    }
   ],
   "source": [
    "!makeblastdb"
   ]
  },
  {
   "cell_type": "code",
   "execution_count": 6,
   "metadata": {
    "ExecuteTime": {
     "end_time": "2020-04-30T23:15:36.991251Z",
     "start_time": "2020-04-30T23:15:36.843221Z"
    }
   },
   "outputs": [
    {
     "name": "stdout",
     "output_type": "stream",
     "text": [
      "RVTLSLTSHGLDLLPPLGGGLFRSIRSLALRSLTSAISSLLSLSLALSVYLSLSLSLPVS\r\n",
      "PLPSSSFSRPMTGALVPHASLFRGPPGSHPGPLARPHAVISLFIVPRRTLSEVFLEFCRS\r\n",
      "SFPLYISLFRSLAGPVLTNSVRTLASELASPLSGTKPLASCLLCSHPTLRLSDLPLATHE\r\n",
      "FSRPSISQSLVVALSLSLSSSPLFTSPSSPSSLVSLLSLSSRALFSSLVSHLSSLLSAHR\r\n",
      "SQSALALKGSRRLSLSLSLSTSSLVSRSLSIVLFSLSIFLCLRRPILLCCYSLLPSRLHV\r\n",
      "SSLFSSSLARLSLSSSSFVISLSLRPLNLVYLLSPSLLYAVLGKIMKKEVCLDV*\r\n",
      ">IOCAS.LVAN04854 EVM\u001c",
      "LVAN04854   LVANscaffold_998:39100-39764(+)\r\n",
      "MLGEEEDQEAPMLVGESDDDEEAPDLVEVGNAVRVPVTILTGYLGAGKTTLLNYILTQEH\r\n",
      "NKKIAVILNEFGEGSSMEKSLNISQDGDLFEEWLELRNGCLCCSVK*\r\n",
      ">IOCAS.LVAN04860 EVM\u001c",
      "LVAN04860   LVANscaffold_998:320983-327047(-)\r\n",
      "MTNTNPPQPPLHALPPHPNPLTPSLPFPNPPQPQPPLPPPSPPFAPTPLALLPLPQPPSP\r\n",
      "QPPSRPPSLSRNRAAERAAAEFARAAGYGLYNPYAFPWANPALLPPSLPSFLTSPSPFTL\r\n",
      "SLTSPSPFTLLLNQPSPLPSSLTSPPPFPPAGGGSHKDSPTQLSPSDLHSSSSQSTNEVR\r\n",
      "FRRNRTTFTADQLDELEKEFEKTHYPDLPTRERLAEKTLLSEARVQTGQMEAPPAAKRAP\r\n",
      "PLLLLRRPSPPLPEDDLALLRGRVEPRHAPLPDPPVPVPRVSPPGGASVVVRQPAEPRGL\r\n",
      "CLPHQPLQRLLHHHHHHHLGAGRRFHPWRPVGGAGAALPAAGLDLSAAPLPWGAPSPALT\r\n",
      "PSPTSAFTRIGRRPQPLHAAPAAPRPSPPQPAHLDLSPPGRLSSRRRRPCCQPACSRCPS\r\n",
      "TQASHSGVTSLSRPSTSPAPTPDLSVKRRRTESEEKEEAKEEERSAEQTEEEEAKPEKME\r\n",
      "DA*\r\n",
      ">IOCAS.LVAN04855 EVM\u001c",
      "LVAN04855   LVANscaffold_998:44366-55179(-)\r\n",
      "MDRGGGGPQRATLQASAAAPPSVPRLPRSRSVLRPWCPYVRPYVPPRTSDPPHCSAMRTR\r\n",
      "IWLTATLLALAMEVVWGDPLGGGSSGRNPAKPRASAQIYPLADREGNSLYALPPKLTGEM\r\n",
      "IQSLARTRHWRPYQAIGTSYDVARKPGQSSHRGRRDATSSPCTDGKVFRRGVCQCPYLSE\r\n",
      "WDEEQGACACTYGTYRDSRGNCHPYL*\r\n",
      ">IOCAS.LVAN04858 EVM\u001c",
      "LVAN04858   LVANscaffold_998:231314-235599(-)\r\n",
      "MSVRRLHSSPRAREHNAFSLIYLSSRVMKTDRLLAVDECPSFSRGKLMFSLFFFSFICCL\r\n",
      "ARPLLPTLALEFSFSALFESFLLSRSLISLACLVTSHPLAFSFSVLSSLSSSHSLLSLLP\r\n",
      "IISLISLVSLSLSQIDLSLDLLIYLLSLSLPLSPPLSLSLSSLSLVSPLSLVSPILPSRI\r\n",
      "SLARFLLTNYPGSPLLLPFRFYFDLLIDTSPPLLPLSFPSSHFPSSPRLPSFFPNFFYSS\r\n",
      "FLSLSPSLSRLLGFFSFWPLSPIPASFPFLPFPLTFFLPVLFAFLSLFLSSPIVPPGLSS\r\n",
      "SSLSRLISSTPLSLSLSRSISQSLSLSLSPTRFLSFPFSLKGMQVPLLCTPLLVVVLSSH\r\n",
      "GSIIFFDASSPLAVPLICSCLILALLITYLIRITIWVFALYELFLVAFLPFVS*\r\n",
      ">IOCAS.LVAN04859 EVM\u001c",
      "LVAN04859   LVANscaffold_998:280991-302022(+)\r\n",
      "MLIPEVGGQPTAFSVPSTSSAGSWQPPTMTALPPALPYYAPGSREMYSPARPLGPPATDR\r\n",
      "RRVVSRRRRRAHGGHTVPSSHRRAAAAAARHYDLAQHVLSQHTAAMAKLLGTIRPPGMIG\r\n",
      "GSKPKVATPQVVNKIEQYKRENPTIFAWEIREKLISESVCTNSTAPSVSSINRILRNRAA\r\n",
      "ERAAADFARAAGYGLYNPYAAAASMPWANPAAAAAAAAASSPIWSAAGVPHPGIPSAAYS\r\n",
      "PSAAAAQAALGLHPAHADKLSLAPSVQPHLDHRPEDVDCSESRGEGSSSDCGDDRPPTAS\r\n",
      "SAPPTPASPTSSSTPAPTSKSKISFSVESRLLASPPPSSAHQGPTPASPAHPTPTNPGQP\r\n",
      "NQPTPEVGPLVARAVPGWRYPRYHPWLHNLTRSHPCLEQPVIGEEHSRRVVARTSSCVQE\r\n",
      "ENGTPPAPHSEEHSRTKTTPAKRTTRIEHLNQTSPKSIENGHHRTDRRQSYIEGFVLVMI\r\n",
      "LFLIGQHNGVGGANCAFLLIG*\r\n",
      ">IOCAS.LVAN04856 EVM\u001c",
      "LVAN04856   LVANscaffold_998:70709-83890(+)\r\n",
      "MRGLRVWLIGRVIDMASVNLTTVSALFNPLERTINSSAEVIQTERCRVDLDKILDLHAYD\r\n",
      "SFTADSYERTLHSRFVEDLPHLDQKVRTVTVEVEGSMTEDAVDNLVEALLWERTVTSSTG\r\n",
      "SQVNIYRMKGILSVVGEKTPVMLQAVQELYETEPAGSWPDGCTRSCKLVLIGWFLLCH*\r\n",
      ">IOCAS.LVAN04852 EVM\u001c",
      "LVAN04852   LVANscaffold_998:17158-18018(+)\r\n",
      "MRIIDIACWEVLNVEGEWAYNGKSAPRDGSKICVHITNECCSCEIELLESRYLVCEAEET\r\n",
      "VVFGEAVSAFDRSLELALSVMNDDETALINIKLPRKYVDDEADNDDITFTCQLGLKIIEN\r\n",
      "AKLIFEHSPEEKMARAIRYKNLGVGLYKEGSFSKQVSAFFMFSQSVKWLVTINTEEAQSS\r\n",
      "LAEIKAIKMHCYNNLGLYHLRNHQYRLAVAATVTVLNEDPENIKALYRRSVANTELQNYE\r\n",
      "KAEEDIQAALLLDPNNTLIKKQVEILKKRQKMLSHKYAEAMKKYFA*\r\n",
      ">IOCAS.LVAN04866 EVM\u001c",
      "LVAN04866   LVANscaffold_999:91088-91866(+)\r\n",
      "MHRRSTELPYWSATTPEVTKEVPETKKEEVEKAPVEEAEEAKTEEKAANGDKTEETNGDA\r\n",
      "TEDAEEAKAEETEEAKAEETNGVEKEADEEAAKTNGHSEETNGVANGDSEKRAAEESEAT\r\n",
      "EATSPTKKAKVQEETTEAAAETTA*\r\n",
      ">IOCAS.LVAN04868 EVM\u001c",
      "LVAN04868   LVANscaffold_999:261264-264625(-)\r\n",
      "MFSCSELNHGGEQRVGVCAVLRLTRARHRTKLYPVECAAAPLRGERANRHVRKPVDRKRS\r\n",
      "SPEIKADTRAVIRAGRRVRCHSPSAPERYYMKPTSLRARGQRQAGLGHAGRGGREGGRRR\r\n",
      "GRWRGREEREGSGRWREGGRRRRRRGEMERGEGRERKRKRERGEWKMKRGGGGGEGGGGE\r\n",
      "GEGEEGKRERGVEDGERGKEEEREWVKEGKERGSRERAKEREREEKRERGEWEMEGGGGG\r\n",
      "GEGGTKKRGEGVEDGEGEGGGEEWGEEGKGEEGVGEGEGRGRGRDRERGEWEMEGGGRRK\r\n",
      "ERIATSFAAIKKPPQRRGSMFSHPKLPSASESFSSQSSAVISTVTLPASARVAQLKPLLG\r\n",
      "TGFLRLGNTPPSSLYPEIPLLPPRRNTPASSLYP*\r\n",
      ">IOCAS.LVAN04865 EVM\u001c",
      "LVAN04865   LVANscaffold_999:88586-89954(+)\r\n",
      "MPVLSKQFRFWPIATGNNEFADGTFGIAFHNVGVGLQNQRFHVATRIPPLTFLPLPPPFL\r\n",
      "CLSSSSHSKCLRLDSTLAPSSFSPPLGFYFSYLIFHGLLGTVSLPPSPILGSISTLSHDL\r\n",
      "KTSPPCSPSFFSPTLLLLFSPTFSLHPCPLLFLSHPSPLFFSPPPFSLPPCSPFLRPLFP\r\n",
      "SPPFSLPPYSLLFVSHLIPLLFVSHPYSPSFLSPHLTPPFVSTLLPSFSPTPPPTLPLPL\r\n",
      "SHLKLLLLSPLPSPVSDLPTNISHISDLRSALSFTSISPHLPVSPLPHLVYFSHPPLFLS\r\n",
      "HPHFVTFPSHLVYFPLPISASPLRFASLSSPSPTTIADLHSPFHFGVFPPLTIPLFQLVF\r\n",
      "SPFILHLPRASFSLPHLFSIPLDAHGCWSQRVST*\r\n",
      ">IOCAS.LVAN04869 EVM\u001c",
      "LVAN04869   LVANscaffold_999:378573-383330(-)\r\n",
      "MAGGEGVGVGAANSAAVCPVCGNNQPNLTQHLSRHSKEEIIRAVTNESTLPELSSRRPPG\r\n",
      "RPRRPSYPLPAVANVALISPRPTTSQTPVLLTGNQSHEPSLGAPLGSIPQAASTPHPPPV\r\n",
      "QTVRLGSLGPMMQPPRNAVPLAAAPLQHGTAGSSYLLIGNNMFPAGSVIPNNIQLWNNGV\r\n",
      "SYLIPSSGGLMLAATPPTNQTLLVQPPTSTAQATPIKLQPPTPVSVPGTPNLVGGIYSGI\r\n",
      "PRRPSRQHIPDPVLLVEEPCSQPTQDGIVAGDGSCRQDMVPNPVVMTGERNPLKLPEDEP\r\n",
      "PETQEQPNPKTTIHIGKNISISLPKDLVGKKDRLKEIINQDASSIHIDPNVPSPAHNITI\r\n",
      "ENGLDDSFSQHESASPYSIPVDEPMEVIFEDRGSDNRATSGANTMSPNNSNSAELTSREE\r\n",
      "QVAFQRDGSELIIGLATSSSVMEEIRMKRNRRNEVVDSSVSMDVCNSPRTSSSISQVNQT\r\n",
      "SGSGNQTRQVNRNEDQDGVMCCEDDQPLSFLASDRTLNTLLGDSALQEMVYVEEQVLGAV\r\n",
      "EEVFAGDTPSLPGTSSSHNMNGTSTPKTARKGNHSYIGVYQEEQCGNAAAENSHREKNQD\r\n",
      "IKCKIEPQPGSSSQNCSSSARRGAPSYVNQLPQSQPVARPPDHMGNKVEAASHEQEEELV\r\n",
      "DDPSLVEDFGNENIFQDEQMFERELSNQHTEEVMSLKASETLADSDSERTTPHEELQDFM\r\n",
      "FYDRSCMFAGEPGPANLSPRTYPSIDSSAFHALTPALITHLDHAVQIDSGQTSSLGGLVG\r\n",
      "EQSEEGVVELTSTETTMHLASDDCCSVLPSDGMSITQLFPSNHHHDTSVVATATSSVTVS\r\n",
      "HSNSIMATSAATSQVTFADLVEDSKMHSKMLVVESSCTTINRQLSPVPSTSGLQGANNQE\r\n",
      "TTKEDEDTHHVQRPWRSLVPLGG*\r\n",
      ">IOCAS.LVAN04867 EVM\u001c",
      "LVAN04867   LVANscaffold_999:218279-220006(+)\r\n",
      "MSLFSLSYMSVSLSYMSLFSLSLLHVPFSLSLSYMSLFSLSSPTCPFFVLSLSYMSFFRS\r\n",
      "LSPTCPFFRLSTCFSLSLLHVPFSLSLFSLSLSYMSLFSFSVISLLHVLFSFLSLLQVPF\r\n",
      "SLSLSYMFFRCLSPTCPFFRCLSPTCPFFSFSLSYKSLFSLSLSYISFFRCLSPTCPFFS\r\n",
      "KLSLSYMSLFFVVSLSYMSLFSSCISLTSPFFRCLSPTCPFFRCLSPTCPFFSFSLSYMS\r\n",
      "FFSPLSYMSLFSLSLSYMSLFFVLSLIHVLFFRCLSPTCPFFRLSPLHVLFSFSLSYMSF\r\n",
      "FGVSLLHVLFSSLSLHVPFFVVSLLHVLFFGVSLPTCPFFSLSLSPTCPFFVVLSPTCPF\r\n",
      "FRCLSPTCPFFRSLSYMSLFRCLSVLCLSPTCPFFVVSLLHVPFFVVSLLHVPFFVLSLL\r\n",
      "HVPFFVVSLLHVPFFRFSPTCPFFRSLSPTCPFFVLFSYNIPFFRCLSPNMSLFRCLSPT\r\n",
      "FPFFRSLSPTCPFFLSLLSLFSLSLSYMSLFFSRSLSLSLFMSLSLSYIPFFVLSLLLPT\r\n",
      "CPFFPFSLSYMSILSLYVPFFLLSLSSMSRFSSPA*\r\n"
     ]
    }
   ],
   "source": [
    "!tail -100 data/lva.proteins.fa"
   ]
  },
  {
   "cell_type": "code",
   "execution_count": 7,
   "metadata": {
    "ExecuteTime": {
     "end_time": "2020-04-30T23:17:05.328150Z",
     "start_time": "2020-04-30T23:17:03.548972Z"
    }
   },
   "outputs": [
    {
     "name": "stdout",
     "output_type": "stream",
     "text": [
      "\n",
      "\n",
      "Building a new DB, current time: 04/30/2020 16:17:03\n",
      "New DB name:   /Users/sr320/Documents/GitHub/nb-2020/C_bairdi/data/lva.proteins\n",
      "New DB title:  data/lva.proteins.fa\n",
      "Sequence type: Protein\n",
      "Keep MBits: T\n",
      "Maximum file size: 1000000000B\n",
      "Adding sequences from FASTA; added 25572 sequences in 1.55681 seconds.\n"
     ]
    }
   ],
   "source": [
    "!makeblastdb \\\n",
    "-in data/lva.proteins.fa \\\n",
    "-dbtype prot \\\n",
    "-out data/lva.proteins"
   ]
  },
  {
   "cell_type": "code",
   "execution_count": null,
   "metadata": {
    "ExecuteTime": {
     "start_time": "2020-04-30T23:18:15.359Z"
    }
   },
   "outputs": [],
   "source": [
    "!blastx \\\n",
    "-query data/20200408.C_bairdi.megan.Trinity.fasta \\\n",
    "-db data/lva.proteins \\\n",
    "-num_threads 1 \\\n",
    "-evalue 1E-20 \\\n",
    "-outfmt 6 \\\n",
    "-max_target_seqs 1 \\\n",
    "-out analyses/Cbaird_v15_lva.tab"
   ]
  },
  {
   "cell_type": "code",
   "execution_count": null,
   "metadata": {},
   "outputs": [],
   "source": [
    "#!/bin/bash\n",
    "## Job Name\n",
    "#SBATCH --job-name=blastx-05\n",
    "## Allocation Definition\n",
    "#SBATCH --account=coenv\n",
    "#SBATCH --partition=coenv\n",
    "## Resources\n",
    "## Nodes\n",
    "#SBATCH --nodes=1\n",
    "## Walltime (days-hours:minutes:seconds format)\n",
    "#SBATCH --time=3-00:00:00\n",
    "## Memory per node\n",
    "#SBATCH --mem=100G\n",
    "##turn on e-mail notification\n",
    "#SBATCH --mail-type=ALL\n",
    "#SBATCH --mail-user=sr320@uw.edu\n",
    "## Specify the working directory for this job\n",
    "#SBATCH --chdir=/gscratch/scrubbed/sr320/043020-Cb-blast\n",
    "\n",
    "\n",
    "\n",
    "source /gscratch/srlab/programs/scripts/paths.sh\n",
    "\n",
    "\n",
    "/gscratch/srlab/programs/ncbi-blast-2.6.0+/bin/makeblastdb \\\n",
    "-in /gscratch/srlab/sr320/data/crab/lva.proteins.fa \\\n",
    "-dbtype prot \\\n",
    "-out /gscratch/srlab/sr320/data/crab/lva.proteins\n",
    "\n",
    "\n",
    "\n",
    "/gscratch/srlab/programs/ncbi-blast-2.6.0+/bin/blastx \\\n",
    "-query /gscratch/srlab/sr320/data/crab/cbai_transcriptome_v1.5.fasta \\\n",
    "-db /gscratch/srlab/sr320/data/crab/lva.proteins \\\n",
    "-evalue 1e-20 \\\n",
    "-outfmt 6 \\\n",
    "-out /gscratch/scrubbed/sr320/043020-Cb-blast/cb15_blastx_lva.tab \\\n",
    "-max_target_seqs 1 \\\n",
    "-max_hsps 1 \\\n",
    "-num_threads 28"
   ]
  },
  {
   "cell_type": "code",
   "execution_count": null,
   "metadata": {},
   "outputs": [],
   "source": [
    "#!/bin/bash\n",
    "## Job Name\n",
    "#SBATCH --job-name=2864\n",
    "## Allocation Definition\n",
    "#SBATCH --account=srlab\n",
    "#SBATCH --partition=srlab\n",
    "## Resources\n",
    "## Nodes\n",
    "#SBATCH --nodes=1\n",
    "## Walltime (days-hours:minutes:seconds format)\n",
    "#SBATCH --time=3-00:00:00\n",
    "## Memory per node\n",
    "#SBATCH --mem=10G\n",
    "##turn on e-mail notification\n",
    "#SBATCH --mail-type=ALL\n",
    "#SBATCH --mail-user=sr320@uw.edu\n",
    "## Specify the working directory for this job\n",
    "#SBATCH --chdir=/gscratch/scrubbed/sr320/043020-Cb-2864\n",
    "\n",
    "\n",
    "\n",
    "source /gscratch/srlab/programs/scripts/paths.sh\n",
    "\n",
    "\n",
    "\n",
    "/gscratch/srlab/programs/ncbi-blast-2.6.0+/bin/blastx \\\n",
    "-query /gscratch/srlab/sr320/data/crab/cbai_transcriptome_v1.5.fasta \\\n",
    "-db /gscratch/srlab/sr320/blastdb/uniprot-taxonomy_2864 \\\n",
    "-evalue 1e-20 \\\n",
    "-outfmt 6 \\\n",
    "-out /gscratch/scrubbed/sr320/043020-Cb-2864/cb15_blastx_2864.tab \\\n",
    "-max_target_seqs 1 \\\n",
    "-max_hsps 1 \\\n",
    "-num_threads 28"
   ]
  },
  {
   "cell_type": "code",
   "execution_count": null,
   "metadata": {},
   "outputs": [],
   "source": [
    "#!/bin/bash\n",
    "## Job Name\n",
    "#SBATCH --job-name=2864c\n",
    "## Allocation Definition\n",
    "#SBATCH --account=coenv\n",
    "#SBATCH --partition=coenv\n",
    "## Resources\n",
    "## Nodes\n",
    "#SBATCH --nodes=1\n",
    "## Walltime (days-hours:minutes:seconds format)\n",
    "#SBATCH --time=3-00:00:00\n",
    "## Memory per node\n",
    "#SBATCH --mem=10G\n",
    "##turn on e-mail notification\n",
    "#SBATCH --mail-type=ALL\n",
    "#SBATCH --mail-user=sr320@uw.edu\n",
    "## Specify the working directory for this job\n",
    "#SBATCH --chdir=/gscratch/scrubbed/sr320/043020-Cb-2864c\n",
    "\n",
    "\n",
    "\n",
    "source /gscratch/srlab/programs/scripts/paths.sh\n",
    "\n",
    "\n",
    "\n",
    "/gscratch/srlab/programs/ncbi-blast-2.6.0+/bin/blastx \\\n",
    "-query /gscratch/srlab/sr320/data/crab/cbai_transcriptome_v1.5.fasta \\\n",
    "-db /gscratch/srlab/sr320/blastdb/uniprot-taxonomy_2864 \\\n",
    "-evalue 1e-20 \\\n",
    "-outfmt 6 \\\n",
    "-out /gscratch/scrubbed/sr320/043020-Cb-2864c/cb15_blastx_2864.tab \\\n",
    "-max_target_seqs 1 \\\n",
    "-max_hsps 1 \\\n",
    "-num_threads 28"
   ]
  },
  {
   "cell_type": "code",
   "execution_count": null,
   "metadata": {
    "ExecuteTime": {
     "start_time": "2020-05-01T00:32:17.519Z"
    }
   },
   "outputs": [],
   "source": []
  },
  {
   "cell_type": "code",
   "execution_count": null,
   "metadata": {},
   "outputs": [],
   "source": []
  }
 ],
 "metadata": {
  "kernelspec": {
   "display_name": "Python 3",
   "language": "python",
   "name": "python3"
  },
  "language_info": {
   "codemirror_mode": {
    "name": "ipython",
    "version": 3
   },
   "file_extension": ".py",
   "mimetype": "text/x-python",
   "name": "python",
   "nbconvert_exporter": "python",
   "pygments_lexer": "ipython3",
   "version": "3.6.8"
  }
 },
 "nbformat": 4,
 "nbformat_minor": 2
}
