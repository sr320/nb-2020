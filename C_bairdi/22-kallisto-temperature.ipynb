{
 "cells": [
  {
   "cell_type": "markdown",
   "metadata": {},
   "source": [
    "# Coming up with count matrix looking at temperature\n",
    "\n",
    "![pic](http://gannet.fish.washington.edu/seashell/snaps/crab-project-new-transcriptome_-_Google_Docs_2020-05-17_13-01-46.png)"
   ]
  },
  {
   "cell_type": "markdown",
   "metadata": {},
   "source": [
    "Which is in fact\n",
    "\n",
    "![rna](http://gannet.fish.washington.edu/seashell/snaps/C_bairdi_RNAseq_-_Google_Sheets_2020-05-17_13-02-55.png)"
   ]
  },
  {
   "cell_type": "raw",
   "metadata": {},
   "source": [
    "https://gannet.fish.washington.edu/Atumefaciens/20200414_cbai_RNAseq_fastp_trimming/380822_S3_L001_R1_001.fastp-trim.202004144409.fq.gz\thttps://gannet.fish.washington.edu/Atumefaciens/20200414_cbai_RNAseq_fastp_trimming/380822_S3_L001_R2_001.fastp-trim.202004144409.fq.gz\n",
    "https://gannet.fish.washington.edu/Atumefaciens/20200414_cbai_RNAseq_fastp_trimming/380822_S3_L002_R1_001.fastp-trim.202004144633.fq.gz\thttps://gannet.fish.washington.edu/Atumefaciens/20200414_cbai_RNAseq_fastp_trimming/380822_S3_L002_R2_001.fastp-trim.202004144633.fq.gz\n",
    "https://gannet.fish.washington.edu/Atumefaciens/20200414_cbai_RNAseq_fastp_trimming/380823_S4_L001_R1_001.fastp-trim.202004144852.fq.gz\thttps://gannet.fish.washington.edu/Atumefaciens/20200414_cbai_RNAseq_fastp_trimming/380823_S4_L001_R2_001.fastp-trim.202004144852.fq.gz\n",
    "https://gannet.fish.washington.edu/Atumefaciens/20200414_cbai_RNAseq_fastp_trimming/380823_S4_L002_R1_001.fastp-trim.202004145106.fq.gz\thttps://gannet.fish.washington.edu/Atumefaciens/20200414_cbai_RNAseq_fastp_trimming/380823_S4_L002_R2_001.fastp-trim.202004145106.fq.gz\n",
    "\n",
    "https://gannet.fish.washington.edu/Atumefaciens/20200414_cbai_RNAseq_fastp_trimming/380824_S5_L001_R1_001.fastp-trim.202004145320.fq.gz\thttps://gannet.fish.washington.edu/Atumefaciens/20200414_cbai_RNAseq_fastp_trimming/380824_S5_L001_R2_001.fastp-trim.202004145320.fq.gz\n",
    "https://gannet.fish.washington.edu/Atumefaciens/20200414_cbai_RNAseq_fastp_trimming/380824_S5_L002_R1_001.fastp-trim.202004145558.fq.gz\thttps://gannet.fish.washington.edu/Atumefaciens/20200414_cbai_RNAseq_fastp_trimming/380824_S5_L002_R2_001.fastp-trim.202004145558.fq.gz\n",
    "https://gannet.fish.washington.edu/Atumefaciens/20200414_cbai_RNAseq_fastp_trimming/380825_S6_L001_R1_001.fastp-trim.202004145835.fq.gz\thttps://gannet.fish.washington.edu/Atumefaciens/20200414_cbai_RNAseq_fastp_trimming/380825_S6_L001_R2_001.fastp-trim.202004145835.fq.gz\n",
    "https://gannet.fish.washington.edu/Atumefaciens/20200414_cbai_RNAseq_fastp_trimming/380825_S6_L002_R1_001.fastp-trim.202004140109.fq.gz\thttps://gannet.fish.washington.edu/Atumefaciens/20200414_cbai_RNAseq_fastp_trimming/380825_S6_L002_R2_001.fastp-trim.202004140109.fq.gz"
   ]
  },
  {
   "cell_type": "markdown",
   "metadata": {},
   "source": [
    "Using v 1.5"
   ]
  },
  {
   "cell_type": "markdown",
   "metadata": {},
   "source": []
  },
  {
   "cell_type": "code",
   "execution_count": null,
   "metadata": {},
   "outputs": [],
   "source": []
  },
  {
   "cell_type": "code",
   "execution_count": 1,
   "metadata": {
    "ExecuteTime": {
     "end_time": "2020-04-15T20:51:18.140019Z",
     "start_time": "2020-04-15T20:39:26.359072Z"
    }
   },
   "outputs": [
    {
     "name": "stdout",
     "output_type": "stream",
     "text": [
      "\n",
      "[quant] fragment length distribution will be estimated from the data\n",
      "[index] k-mer length: 31\n",
      "[index] number of targets: 40,435\n",
      "[index] number of k-mers: 18,736,521\n",
      "[index] number of equivalence classes: 77,895\n",
      "[quant] running in paired-end mode\n",
      "[quant] will process pair 1: /Volumes/block/c_bairdi/113_R1_001.fastp-trim.202003184225.fq.gz\n",
      "                             /Volumes/block/c_bairdi/113_R2_001.fastp-trim.202003184225.fq.gz\n",
      "[quant] finding pseudoalignments for the reads ... done\n",
      "[quant] processed 30,861,709 reads, 13,999,990 reads pseudoaligned\n",
      "[quant] estimated average fragment length: 120.224\n",
      "[   em] quantifying the abundances ... done\n",
      "[   em] the Expectation-Maximization algorithm ran for 1,280 rounds\n",
      "\n"
     ]
    }
   ],
   "source": [
    "!kallisto quant \\\n",
    "-i analyses/C_bairdi_transcriptome_01 \\\n",
    "-t 4 \\\n",
    "-o analyses/380822_cold \\\n",
    "380822_S3_L001_R1_001.fastp-trim.202004144409.fq.gz 380822_S3_L001_R2_001.fastp-trim.202004144409.fq.gz \\\n",
    "380822_S3_L002_R1_001.fastp-trim.202004144633.fq.gz 380822_S3_L002_R2_001.fastp-trim.202004144633.fq.gz"
   ]
  },
  {
   "cell_type": "code",
   "execution_count": 1,
   "metadata": {
    "ExecuteTime": {
     "end_time": "2020-04-15T20:51:18.140019Z",
     "start_time": "2020-04-15T20:39:26.359072Z"
    }
   },
   "outputs": [
    {
     "name": "stdout",
     "output_type": "stream",
     "text": [
      "\n",
      "[quant] fragment length distribution will be estimated from the data\n",
      "[index] k-mer length: 31\n",
      "[index] number of targets: 40,435\n",
      "[index] number of k-mers: 18,736,521\n",
      "[index] number of equivalence classes: 77,895\n",
      "[quant] running in paired-end mode\n",
      "[quant] will process pair 1: /Volumes/block/c_bairdi/113_R1_001.fastp-trim.202003184225.fq.gz\n",
      "                             /Volumes/block/c_bairdi/113_R2_001.fastp-trim.202003184225.fq.gz\n",
      "[quant] finding pseudoalignments for the reads ... done\n",
      "[quant] processed 30,861,709 reads, 13,999,990 reads pseudoaligned\n",
      "[quant] estimated average fragment length: 120.224\n",
      "[   em] quantifying the abundances ... done\n",
      "[   em] the Expectation-Maximization algorithm ran for 1,280 rounds\n",
      "\n"
     ]
    }
   ],
   "source": [
    "!kallisto quant \\\n",
    "-i analyses/C_bairdi_transcriptome_01 \\\n",
    "-t 4 \\\n",
    "-o analyses/380823_cold \\\n",
    "380823_S4_L001_R1_001.fastp-trim.202004144852.fq.gz 380823_S4_L001_R2_001.fastp-trim.202004144852.fq.gz \\\n",
    "380823_S4_L002_R1_001.fastp-trim.202004145106.fq.gz 380823_S4_L002_R2_001.fastp-trim.202004145106.fq.gz"
   ]
  },
  {
   "cell_type": "code",
   "execution_count": 1,
   "metadata": {
    "ExecuteTime": {
     "end_time": "2020-04-15T20:51:18.140019Z",
     "start_time": "2020-04-15T20:39:26.359072Z"
    }
   },
   "outputs": [
    {
     "name": "stdout",
     "output_type": "stream",
     "text": [
      "\n",
      "[quant] fragment length distribution will be estimated from the data\n",
      "[index] k-mer length: 31\n",
      "[index] number of targets: 40,435\n",
      "[index] number of k-mers: 18,736,521\n",
      "[index] number of equivalence classes: 77,895\n",
      "[quant] running in paired-end mode\n",
      "[quant] will process pair 1: /Volumes/block/c_bairdi/113_R1_001.fastp-trim.202003184225.fq.gz\n",
      "                             /Volumes/block/c_bairdi/113_R2_001.fastp-trim.202003184225.fq.gz\n",
      "[quant] finding pseudoalignments for the reads ... done\n",
      "[quant] processed 30,861,709 reads, 13,999,990 reads pseudoaligned\n",
      "[quant] estimated average fragment length: 120.224\n",
      "[   em] quantifying the abundances ... done\n",
      "[   em] the Expectation-Maximization algorithm ran for 1,280 rounds\n",
      "\n"
     ]
    }
   ],
   "source": [
    "!kallisto quant \\\n",
    "-i analyses/C_bairdi_transcriptome_01 \\\n",
    "-t 4 \\\n",
    "-o analyses/380824_warm \\\n",
    "380824_S5_L001_R1_001.fastp-trim.202004145320.fq.gz 380824_S5_L001_R2_001.fastp-trim.202004145320.fq.gz \\\n",
    "380824_S5_L002_R1_001.fastp-trim.202004145558.fq.gz 380824_S5_L002_R2_001.fastp-trim.202004145558.fq.gz"
   ]
  },
  {
   "cell_type": "code",
   "execution_count": 1,
   "metadata": {
    "ExecuteTime": {
     "end_time": "2020-04-15T20:51:18.140019Z",
     "start_time": "2020-04-15T20:39:26.359072Z"
    }
   },
   "outputs": [
    {
     "name": "stdout",
     "output_type": "stream",
     "text": [
      "\n",
      "[quant] fragment length distribution will be estimated from the data\n",
      "[index] k-mer length: 31\n",
      "[index] number of targets: 40,435\n",
      "[index] number of k-mers: 18,736,521\n",
      "[index] number of equivalence classes: 77,895\n",
      "[quant] running in paired-end mode\n",
      "[quant] will process pair 1: /Volumes/block/c_bairdi/113_R1_001.fastp-trim.202003184225.fq.gz\n",
      "                             /Volumes/block/c_bairdi/113_R2_001.fastp-trim.202003184225.fq.gz\n",
      "[quant] finding pseudoalignments for the reads ... done\n",
      "[quant] processed 30,861,709 reads, 13,999,990 reads pseudoaligned\n",
      "[quant] estimated average fragment length: 120.224\n",
      "[   em] quantifying the abundances ... done\n",
      "[   em] the Expectation-Maximization algorithm ran for 1,280 rounds\n",
      "\n"
     ]
    }
   ],
   "source": [
    "!kallisto quant \\\n",
    "-i analyses/C_bairdi_transcriptome_01 \\\n",
    "-t 4 \\\n",
    "-o analyses/380825_warm \\\n",
    "380825_S6_L001_R1_001.fastp-trim.202004145835.fq.gz 380825_S6_L001_R2_001.fastp-trim.202004145835.fq.gz \\\n",
    "380825_S6_L002_R1_001.fastp-trim.202004140109.fq.gz 380825_S6_L002_R2_001.fastp-trim.202004140109.fq.gz"
   ]
  },
  {
   "cell_type": "code",
   "execution_count": null,
   "metadata": {},
   "outputs": [],
   "source": []
  },
  {
   "cell_type": "code",
   "execution_count": null,
   "metadata": {},
   "outputs": [],
   "source": []
  }
 ],
 "metadata": {
  "kernelspec": {
   "display_name": "Python 3",
   "language": "python",
   "name": "python3"
  },
  "language_info": {
   "codemirror_mode": {
    "name": "ipython",
    "version": 3
   },
   "file_extension": ".py",
   "mimetype": "text/x-python",
   "name": "python",
   "nbconvert_exporter": "python",
   "pygments_lexer": "ipython3",
   "version": "3.6.8"
  }
 },
 "nbformat": 4,
 "nbformat_minor": 2
}
