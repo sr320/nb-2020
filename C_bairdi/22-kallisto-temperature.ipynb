{
 "cells": [
  {
   "cell_type": "markdown",
   "metadata": {},
   "source": [
    "# Coming up with count matrix looking at temperature\n",
    "\n",
    "![pic](http://gannet.fish.washington.edu/seashell/snaps/crab-project-new-transcriptome_-_Google_Docs_2020-05-17_13-01-46.png)"
   ]
  },
  {
   "cell_type": "markdown",
   "metadata": {},
   "source": [
    "Which is in fact\n",
    "\n",
    "![rna](http://gannet.fish.washington.edu/seashell/snaps/C_bairdi_RNAseq_-_Google_Sheets_2020-05-17_13-02-55.png)"
   ]
  },
  {
   "cell_type": "raw",
   "metadata": {},
   "source": [
    "https://gannet.fish.washington.edu/Atumefaciens/20200414_cbai_RNAseq_fastp_trimming/380822_S3_L001_R1_001.fastp-trim.202004144409.fq.gz\thttps://gannet.fish.washington.edu/Atumefaciens/20200414_cbai_RNAseq_fastp_trimming/380822_S3_L001_R2_001.fastp-trim.202004144409.fq.gz\n",
    "https://gannet.fish.washington.edu/Atumefaciens/20200414_cbai_RNAseq_fastp_trimming/380822_S3_L002_R1_001.fastp-trim.202004144633.fq.gz\thttps://gannet.fish.washington.edu/Atumefaciens/20200414_cbai_RNAseq_fastp_trimming/380822_S3_L002_R2_001.fastp-trim.202004144633.fq.gz\n",
    "https://gannet.fish.washington.edu/Atumefaciens/20200414_cbai_RNAseq_fastp_trimming/380823_S4_L001_R1_001.fastp-trim.202004144852.fq.gz\thttps://gannet.fish.washington.edu/Atumefaciens/20200414_cbai_RNAseq_fastp_trimming/380823_S4_L001_R2_001.fastp-trim.202004144852.fq.gz\n",
    "https://gannet.fish.washington.edu/Atumefaciens/20200414_cbai_RNAseq_fastp_trimming/380823_S4_L002_R1_001.fastp-trim.202004145106.fq.gz\thttps://gannet.fish.washington.edu/Atumefaciens/20200414_cbai_RNAseq_fastp_trimming/380823_S4_L002_R2_001.fastp-trim.202004145106.fq.gz\n",
    "\n",
    "https://gannet.fish.washington.edu/Atumefaciens/20200414_cbai_RNAseq_fastp_trimming/380824_S5_L001_R1_001.fastp-trim.202004145320.fq.gz\thttps://gannet.fish.washington.edu/Atumefaciens/20200414_cbai_RNAseq_fastp_trimming/380824_S5_L001_R2_001.fastp-trim.202004145320.fq.gz\n",
    "https://gannet.fish.washington.edu/Atumefaciens/20200414_cbai_RNAseq_fastp_trimming/380824_S5_L002_R1_001.fastp-trim.202004145558.fq.gz\thttps://gannet.fish.washington.edu/Atumefaciens/20200414_cbai_RNAseq_fastp_trimming/380824_S5_L002_R2_001.fastp-trim.202004145558.fq.gz\n",
    "https://gannet.fish.washington.edu/Atumefaciens/20200414_cbai_RNAseq_fastp_trimming/380825_S6_L001_R1_001.fastp-trim.202004145835.fq.gz\thttps://gannet.fish.washington.edu/Atumefaciens/20200414_cbai_RNAseq_fastp_trimming/380825_S6_L001_R2_001.fastp-trim.202004145835.fq.gz\n",
    "https://gannet.fish.washington.edu/Atumefaciens/20200414_cbai_RNAseq_fastp_trimming/380825_S6_L002_R1_001.fastp-trim.202004140109.fq.gz\thttps://gannet.fish.washington.edu/Atumefaciens/20200414_cbai_RNAseq_fastp_trimming/380825_S6_L002_R2_001.fastp-trim.202004140109.fq.gz"
   ]
  },
  {
   "cell_type": "markdown",
   "metadata": {},
   "source": [
    "Using v 1.5"
   ]
  },
  {
   "cell_type": "markdown",
   "metadata": {},
   "source": []
  },
  {
   "cell_type": "code",
   "execution_count": 5,
   "metadata": {},
   "outputs": [
    {
     "name": "stdout",
     "output_type": "stream",
     "text": [
      "/Volumes/block/c_bairdi\n"
     ]
    }
   ],
   "source": [
    "cd /Volumes/block/c_bairdi"
   ]
  },
  {
   "cell_type": "code",
   "execution_count": 6,
   "metadata": {},
   "outputs": [
    {
     "data": {
      "text/plain": [
       "'/Volumes/block/c_bairdi'"
      ]
     },
     "execution_count": 6,
     "metadata": {},
     "output_type": "execute_result"
    }
   ],
   "source": [
    "pwd"
   ]
  },
  {
   "cell_type": "code",
   "execution_count": 7,
   "metadata": {
    "ExecuteTime": {
     "end_time": "2020-04-15T20:51:18.140019Z",
     "start_time": "2020-04-15T20:39:26.359072Z"
    }
   },
   "outputs": [
    {
     "name": "stdout",
     "output_type": "stream",
     "text": [
      "\n",
      "[quant] fragment length distribution will be estimated from the data\n",
      "[index] k-mer length: 31\n",
      "[index] number of targets: 40,435\n",
      "[index] number of k-mers: 18,736,521\n",
      "[index] number of equivalence classes: 77,895\n",
      "[quant] running in paired-end mode\n",
      "[quant] will process pair 1: 380822_S3_L001_R1_001.fastp-trim.202004144409.fq.gz\n",
      "                             380822_S3_L001_R2_001.fastp-trim.202004144409.fq.gz\n",
      "[quant] will process pair 2: 380822_S3_L002_R1_001.fastp-trim.202004144633.fq.gz\n",
      "                             380822_S3_L002_R2_001.fastp-trim.202004144633.fq.gz\n",
      "[quant] finding pseudoalignments for the reads ... done\n",
      "[quant] processed 18,697,371 reads, 12,675,386 reads pseudoaligned\n",
      "[quant] estimated average fragment length: 159.52\n",
      "[   em] quantifying the abundances ... done\n",
      "[   em] the Expectation-Maximization algorithm ran for 929 rounds\n",
      "\n"
     ]
    }
   ],
   "source": [
    "!kallisto quant \\\n",
    "-i /Users/sr320/Documents/GitHub/nb-2020/C_bairdi/analyses/C_bairdi_transcriptome_01 \\\n",
    "-t 4 \\\n",
    "-o /Users/sr320/Documents/GitHub/nb-2020/C_bairdi/analyses/380822_cold \\\n",
    "380822_S3_L001_R1_001.fastp-trim.202004144409.fq.gz 380822_S3_L001_R2_001.fastp-trim.202004144409.fq.gz \\\n",
    "380822_S3_L002_R1_001.fastp-trim.202004144633.fq.gz 380822_S3_L002_R2_001.fastp-trim.202004144633.fq.gz"
   ]
  },
  {
   "cell_type": "code",
   "execution_count": 8,
   "metadata": {
    "ExecuteTime": {
     "end_time": "2020-04-15T20:51:18.140019Z",
     "start_time": "2020-04-15T20:39:26.359072Z"
    }
   },
   "outputs": [
    {
     "name": "stdout",
     "output_type": "stream",
     "text": [
      "\n",
      "[quant] fragment length distribution will be estimated from the data\n",
      "[index] k-mer length: 31\n",
      "[index] number of targets: 40,435\n",
      "[index] number of k-mers: 18,736,521\n",
      "[index] number of equivalence classes: 77,895\n",
      "[quant] running in paired-end mode\n",
      "[quant] will process pair 1: 380823_S4_L001_R1_001.fastp-trim.202004144852.fq.gz\n",
      "                             380823_S4_L001_R2_001.fastp-trim.202004144852.fq.gz\n",
      "[quant] will process pair 2: 380823_S4_L002_R1_001.fastp-trim.202004145106.fq.gz\n",
      "                             380823_S4_L002_R2_001.fastp-trim.202004145106.fq.gz\n",
      "[quant] finding pseudoalignments for the reads ... done\n",
      "[quant] processed 17,538,147 reads, 11,599,182 reads pseudoaligned\n",
      "[quant] estimated average fragment length: 165.182\n",
      "[   em] quantifying the abundances ... done\n",
      "[   em] the Expectation-Maximization algorithm ran for 969 rounds\n",
      "\n"
     ]
    }
   ],
   "source": [
    "!kallisto quant \\\n",
    "-i /Users/sr320/Documents/GitHub/nb-2020/C_bairdi/analyses/C_bairdi_transcriptome_01 \\\n",
    "-t 4 \\\n",
    "-o /Users/sr320/Documents/GitHub/nb-2020/C_bairdi/analyses/380823_cold \\\n",
    "380823_S4_L001_R1_001.fastp-trim.202004144852.fq.gz 380823_S4_L001_R2_001.fastp-trim.202004144852.fq.gz \\\n",
    "380823_S4_L002_R1_001.fastp-trim.202004145106.fq.gz 380823_S4_L002_R2_001.fastp-trim.202004145106.fq.gz"
   ]
  },
  {
   "cell_type": "code",
   "execution_count": 9,
   "metadata": {
    "ExecuteTime": {
     "end_time": "2020-04-15T20:51:18.140019Z",
     "start_time": "2020-04-15T20:39:26.359072Z"
    }
   },
   "outputs": [
    {
     "name": "stdout",
     "output_type": "stream",
     "text": [
      "\n",
      "[quant] fragment length distribution will be estimated from the data\n",
      "[index] k-mer length: 31\n",
      "[index] number of targets: 40,435\n",
      "[index] number of k-mers: 18,736,521\n",
      "[index] number of equivalence classes: 77,895\n",
      "[quant] running in paired-end mode\n",
      "[quant] will process pair 1: 380824_S5_L001_R1_001.fastp-trim.202004145320.fq.gz\n",
      "                             380824_S5_L001_R2_001.fastp-trim.202004145320.fq.gz\n",
      "[quant] will process pair 2: 380824_S5_L002_R1_001.fastp-trim.202004145558.fq.gz\n",
      "                             380824_S5_L002_R2_001.fastp-trim.202004145558.fq.gz\n",
      "[quant] finding pseudoalignments for the reads ... done\n",
      "[quant] processed 19,685,662 reads, 13,599,130 reads pseudoaligned\n",
      "[quant] estimated average fragment length: 170.562\n",
      "[   em] quantifying the abundances ... done\n",
      "[   em] the Expectation-Maximization algorithm ran for 1,084 rounds\n",
      "\n"
     ]
    }
   ],
   "source": [
    "!kallisto quant \\\n",
    "-i /Users/sr320/Documents/GitHub/nb-2020/C_bairdi/analyses/C_bairdi_transcriptome_01 \\\n",
    "-t 4 \\\n",
    "-o /Users/sr320/Documents/GitHub/nb-2020/C_bairdi/analyses/380824_warm \\\n",
    "380824_S5_L001_R1_001.fastp-trim.202004145320.fq.gz 380824_S5_L001_R2_001.fastp-trim.202004145320.fq.gz \\\n",
    "380824_S5_L002_R1_001.fastp-trim.202004145558.fq.gz 380824_S5_L002_R2_001.fastp-trim.202004145558.fq.gz"
   ]
  },
  {
   "cell_type": "code",
   "execution_count": 10,
   "metadata": {
    "ExecuteTime": {
     "end_time": "2020-04-15T20:51:18.140019Z",
     "start_time": "2020-04-15T20:39:26.359072Z"
    }
   },
   "outputs": [
    {
     "name": "stdout",
     "output_type": "stream",
     "text": [
      "\n",
      "[quant] fragment length distribution will be estimated from the data\n",
      "[index] k-mer length: 31\n",
      "[index] number of targets: 40,435\n",
      "[index] number of k-mers: 18,736,521\n",
      "[index] number of equivalence classes: 77,895\n",
      "[quant] running in paired-end mode\n",
      "[quant] will process pair 1: 380825_S6_L001_R1_001.fastp-trim.202004145835.fq.gz\n",
      "                             380825_S6_L001_R2_001.fastp-trim.202004145835.fq.gz\n",
      "[quant] will process pair 2: 380825_S6_L002_R1_001.fastp-trim.202004140109.fq.gz\n",
      "                             380825_S6_L002_R2_001.fastp-trim.202004140109.fq.gz\n",
      "[quant] finding pseudoalignments for the reads ... done\n",
      "[quant] processed 20,375,663 reads, 12,707,631 reads pseudoaligned\n",
      "[quant] estimated average fragment length: 160.092\n",
      "[   em] quantifying the abundances ... done\n",
      "[   em] the Expectation-Maximization algorithm ran for 1,144 rounds\n",
      "\n"
     ]
    }
   ],
   "source": [
    "!kallisto quant \\\n",
    "-i /Users/sr320/Documents/GitHub/nb-2020/C_bairdi/analyses/C_bairdi_transcriptome_01 \\\n",
    "-t 4 \\\n",
    "-o /Users/sr320/Documents/GitHub/nb-2020/C_bairdi/analyses/380825_warm \\\n",
    "380825_S6_L001_R1_001.fastp-trim.202004145835.fq.gz 380825_S6_L001_R2_001.fastp-trim.202004145835.fq.gz \\\n",
    "380825_S6_L002_R1_001.fastp-trim.202004140109.fq.gz 380825_S6_L002_R2_001.fastp-trim.202004140109.fq.gz"
   ]
  },
  {
   "cell_type": "code",
   "execution_count": null,
   "metadata": {},
   "outputs": [],
   "source": []
  },
  {
   "cell_type": "code",
   "execution_count": 11,
   "metadata": {
    "ExecuteTime": {
     "end_time": "2020-04-15T21:30:55.561625Z",
     "start_time": "2020-04-15T21:30:53.801013Z"
    }
   },
   "outputs": [
    {
     "name": "stdout",
     "output_type": "stream",
     "text": [
      "-reading file: /Users/sr320/Documents/GitHub/nb-2020/C_bairdi/analyses/380822_cold/abundance.tsv\n",
      "-reading file: /Users/sr320/Documents/GitHub/nb-2020/C_bairdi/analyses/380823_cold/abundance.tsv\n",
      "-reading file: /Users/sr320/Documents/GitHub/nb-2020/C_bairdi/analyses/380824_warm/abundance.tsv\n",
      "-reading file: /Users/sr320/Documents/GitHub/nb-2020/C_bairdi/analyses/380825_warm/abundance.tsv\n",
      "\n",
      "\n",
      "* Outputting combined matrix.\n",
      "\n",
      "/Applications/bioinfo/trinityrnaseq-v2.8.6/util/support_scripts/run_TMM_scale_matrix.pl --matrix /Users/sr320/Documents/GitHub/nb-2020/C_bairdi/analyses/kallisto-0517.isoform.TPM.not_cross_norm > /Users/sr320/Documents/GitHub/nb-2020/C_bairdi/analyses/kallisto-0517.isoform.TMM.EXPR.matrixCMD: R --no-save --no-restore --no-site-file --no-init-file -q < /Users/sr320/Documents/GitHub/nb-2020/C_bairdi/analyses/kallisto-0517.isoform.TPM.not_cross_norm.runTMM.R 1>&2 \n",
      "> library(edgeR)\n",
      "Error in library(edgeR) : there is no package called ‘edgeR’\n",
      "Execution halted\n",
      "Error, cmd: R --no-save --no-restore --no-site-file --no-init-file -q < /Users/sr320/Documents/GitHub/nb-2020/C_bairdi/analyses/kallisto-0517.isoform.TPM.not_cross_norm.runTMM.R 1>&2  died with ret (256)  at /Applications/bioinfo/trinityrnaseq-v2.8.6/util/support_scripts/run_TMM_scale_matrix.pl line 105.\n",
      "Error, CMD: /Applications/bioinfo/trinityrnaseq-v2.8.6/util/support_scripts/run_TMM_scale_matrix.pl --matrix /Users/sr320/Documents/GitHub/nb-2020/C_bairdi/analyses/kallisto-0517.isoform.TPM.not_cross_norm > /Users/sr320/Documents/GitHub/nb-2020/C_bairdi/analyses/kallisto-0517.isoform.TMM.EXPR.matrix died with ret 6400 at /Applications/bioinfo/trinityrnaseq-v2.8.6/util/abundance_estimates_to_matrix.pl line 385.\n"
     ]
    }
   ],
   "source": [
    "!perl /Applications/bioinfo/trinityrnaseq-v2.8.6/util/abundance_estimates_to_matrix.pl \\\n",
    "--est_method kallisto \\\n",
    "    --gene_trans_map none \\\n",
    "    --out_prefix /Users/sr320/Documents/GitHub/nb-2020/C_bairdi/analyses/kallisto-0517 \\\n",
    "    --name_sample_by_basedir \\\n",
    "     /Users/sr320/Documents/GitHub/nb-2020/C_bairdi/analyses/380822_cold/abundance.tsv \\\n",
    "     /Users/sr320/Documents/GitHub/nb-2020/C_bairdi/analyses/380823_cold/abundance.tsv \\\n",
    "     /Users/sr320/Documents/GitHub/nb-2020/C_bairdi/analyses/380824_warm/abundance.tsv \\\n",
    "     /Users/sr320/Documents/GitHub/nb-2020/C_bairdi/analyses/380825_warm/abundance.tsv   "
   ]
  },
  {
   "cell_type": "code",
   "execution_count": null,
   "metadata": {},
   "outputs": [],
   "source": []
  }
 ],
 "metadata": {
  "kernelspec": {
   "display_name": "Python 3",
   "language": "python",
   "name": "python3"
  },
  "language_info": {
   "codemirror_mode": {
    "name": "ipython",
    "version": 3
   },
   "file_extension": ".py",
   "mimetype": "text/x-python",
   "name": "python",
   "nbconvert_exporter": "python",
   "pygments_lexer": "ipython3",
   "version": "3.6.8"
  }
 },
 "nbformat": 4,
 "nbformat_minor": 2
}
