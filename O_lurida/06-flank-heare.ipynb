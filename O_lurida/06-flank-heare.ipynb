{
 "cells": [
  {
   "cell_type": "markdown",
   "metadata": {},
   "source": [
    "Can we make a flank bed associated with \"Heare\" Genes"
   ]
  },
  {
   "cell_type": "code",
   "execution_count": 10,
   "metadata": {},
   "outputs": [
    {
     "name": "stdout",
     "output_type": "stream",
     "text": [
      "CARM_comp7220_c0_seq2\tOlurida_00013909-RA\t87.671\t511\t13\t3\t1\t1533\t10\t470\t0.0\t902\n",
      "TLR_comp23747_c0_seq1\tOlurida_00019635-RA\t36.952\t525\t314\t10\t1603\t65\t205\t724\t5.02e-93\t298\n",
      "H2AV_comp25000_c0_seq1\tOlurida_00000537-RA\t64.286\t98\t33\t2\t645\t355\t79\t175\t9.59e-32\t115\n",
      "PGRP_comp24065_c0_seq1\tOlurida_00010629-RA\t85.294\t272\t2\t1\t84\t899\t171\t404\t4.76e-164\t462\n",
      "BMP2_comp7183_c0_seq1\tOlurida_00003179-RA\t100.000\t421\t0\t0\t506\t1768\t1\t421\t0.0\t782\n",
      "GRB2_comp10127_c0_seq1\tOlurida_00000932-RA\t80.180\t111\t20\t1\t371\t703\t2\t110\t2.01e-56\t187\n",
      "PGEEP4_comp6939_c0_seq1\tOlurida_00002438-RA\t91.289\t287\t1\t1\t394\t1254\t41\t303\t3.72e-160\t463\n",
      "CRAF_comp25313_c0_seq1\tOlurida_00014696-RA\t100.000\t556\t0\t0\t2277\t610\t1\t556\t0.0\t1123\n",
      "Actin_comp30443_c0_seq2\tOlurida_00012924-RA\t98.936\t376\t4\t0\t1353\t226\t1\t376\t0.0\t779\n",
      "HSP70_comp44273_c0_seq2\tOlurida_00005351-RA\t57.886\t615\t251\t5\t2130\t298\t34\t644\t0.0\t704\n"
     ]
    }
   ],
   "source": [
    "!head analyses/OlPCR_blastx_oly_genome-proteins.tab"
   ]
  },
  {
   "cell_type": "code",
   "execution_count": 8,
   "metadata": {},
   "outputs": [
    {
     "name": "stdout",
     "output_type": "stream",
     "text": [
      "##gff-version 3\n",
      "Contig61093\tmaker\tgene\t7493\t7946\t.\t+\t.\tID=OLUR_00020575;Name=OLUR_00020575;Alias=maker-Contig61093-snap-gene-0.2;Note=Protein of unknown function;\n",
      "Contig1111\tmaker\tgene\t24968\t28696\t.\t-\t.\tID=OLUR_00006628;Name=OLUR_00006628;Alias=maker-Contig1111-snap-gene-0.1;Note=Similar to Spag6: Sperm-associated antigen 6 (Mus musculus OX%3D10090);Dbxref=Gene3D:G3DSA:1.25.10.10,InterPro:IPR000225,InterPro:IPR000357,InterPro:IPR011989,InterPro:IPR016024,Pfam:PF02985,SMART:SM00185,SUPERFAMILY:SSF48371;Ontology_term=GO:0005515;\n",
      "Contig214118\tmaker\tgene\t201\t926\t.\t+\t.\tID=OLUR_00032161;Name=OLUR_00032161;Alias=maker-Contig214118-snap-gene-0.0;Note=Protein of unknown function;Dbxref=Gene3D:G3DSA:3.10.450.10;\n",
      "Contig58217\tmaker\tgene\t9736\t11541\t.\t-\t.\tID=OLUR_00019127;Name=OLUR_00019127;Alias=snap_masked-Contig58217-processed-gene-0.2;Note=Protein of unknown function;Dbxref=MobiDBLite:mobidb-lite;\n",
      "Contig2046\tmaker\tgene\t2295\t18394\t.\t+\t.\tID=OLUR_00011450;Name=OLUR_00011450;Alias=maker-Contig2046-snap-gene-0.5;Note=Protein of unknown function;\n",
      "Contig9540\tmaker\tgene\t4303\t10179\t.\t-\t.\tID=OLUR_00018391;Name=OLUR_00018391;Alias=maker-Contig9540-snap-gene-0.1;Note=Protein of unknown function;Dbxref=Gene3D:G3DSA:2.170.300.10;\n",
      "Contig52254\tmaker\tgene\t8908\t11733\t.\t+\t.\tID=OLUR_00011614;Name=OLUR_00011614;Alias=maker-Contig52254-snap-gene-0.1;Note=Similar to MM_0045: Putative ankyrin repeat protein MM_0045 (Methanosarcina mazei (strain ATCC BAA-159 / DSM 3647 / Goe1 / Go1 / JCM 11833 / OCM 88) OX%3D192952);Dbxref=CDD:cd00204,Gene3D:G3DSA:1.25.40.20,InterPro:IPR002110,InterPro:IPR020683,InterPro:IPR036770,PRINTS:PR01415,Pfam:PF12796,Pfam:PF13606,Pfam:PF13857,ProSiteProfiles:PS50088,ProSiteProfiles:PS50297,SMART:SM00248,SUPERFAMILY:SSF48403;Ontology_term=GO:0005515;\n",
      "Contig36645\tmaker\tgene\t2185\t3340\t.\t+\t.\tID=OLUR_00022996;Name=OLUR_00022996;Alias=maker-Contig36645-snap-gene-0.1;Note=Protein of unknown function;Dbxref=MobiDBLite:mobidb-lite;\n",
      "Contig3008\tmaker\tgene\t532\t6482\t.\t-\t.\tID=OLUR_00018754;Name=OLUR_00018754;Alias=maker-Contig3008-snap-gene-0.1;Note=Protein of unknown function;Dbxref=InterPro:IPR015919,SUPERFAMILY:SSF49313;Ontology_term=GO:0005509,GO:0016020;\n"
     ]
    }
   ],
   "source": [
    "!head data/Olurida_v081-20190709.gene.gff"
   ]
  },
  {
   "cell_type": "code",
   "execution_count": 12,
   "metadata": {},
   "outputs": [
    {
     "name": "stdout",
     "output_type": "stream",
     "text": [
      "Contig99858\tmaker\tgene\t107\t2150\t.\t+\t.\tID=OLUR_00019635;Name=OLUR_00019635;Alias=maker-Contig99858-snap-gene-0.1;Note=Similar to HTK16: Tyrosine-protein kinase HTK16 (Hydra vulgaris OX%3D6087);Dbxref=Gene3D:G3DSA:3.30.505.10,InterPro:IPR000980,InterPro:IPR036860,Pfam:PF00017,ProSiteProfiles:PS50001,SMART:SM00252,SUPERFAMILY:SSF55550;\n",
      "Contig37187\tmaker\tgene\t12642\t18338\t.\t-\t.\tID=OLUR_00005351;Name=OLUR_00005351;Alias=maker-Contig37187-snap-gene-0.7;Note=Similar to moxd2: DBH-like monooxygenase protein 2 homolog (Danio rerio OX%3D7955);Dbxref=Gene3D:G3DSA:2.60.120.230,Gene3D:G3DSA:2.60.120.310,InterPro:IPR000323,InterPro:IPR008977,InterPro:IPR014784,InterPro:IPR024548,InterPro:IPR036939,Pfam:PF01082,Pfam:PF03712,SUPERFAMILY:SSF49742;Ontology_term=GO:0003824,GO:0004497,GO:0005507,GO:0016715,GO:0055114;\n",
      "Contig30105\tmaker\tgene\t1050\t3718\t.\t+\t.\tID=OLUR_00003179;Name=OLUR_00003179;Alias=maker-Contig30105-snap-gene-0.4;Note=Similar to CHRNA10: Neuronal acetylcholine receptor subunit alpha-10 (Gallus gallus OX%3D9031);Dbxref=Gene3D:G3DSA:1.20.58.390,Gene3D:G3DSA:2.70.170.10,InterPro:IPR006029,InterPro:IPR006202,InterPro:IPR018000,InterPro:IPR036719,InterPro:IPR036734,Pfam:PF02931,Pfam:PF02932,ProSitePatterns:PS00236,SUPERFAMILY:SSF63712,SUPERFAMILY:SSF90112;Ontology_term=GO:0005230,GO:0006811,GO:0016021;\n",
      "Contig31345\tmaker\tgene\t63445\t65863\t.\t+\t.\tID=OLUR_00000537;Name=OLUR_00000537;Alias=maker-Contig31345-snap-gene-0.9;Note=Similar to Abhd15: Protein ABHD15 (Mus musculus OX%3D10090);Dbxref=Gene3D:G3DSA:3.40.50.1820,InterPro:IPR012020,InterPro:IPR022742,InterPro:IPR029058,PIRSF:PIRSF005211,Pfam:PF12146,SUPERFAMILY:SSF53474;\n",
      "Contig188477\tmaker\tgene\t95\t16668\t.\t+\t.\tID=OLUR_00013909;Name=OLUR_00013909;Alias=maker-Contig188477-snap-gene-0.4;Note=Similar to HMCN1: Hemicentin-1 (Homo sapiens OX%3D9606);Dbxref=CDD:cd00112,Gene3D:G3DSA:2.20.100.10,InterPro:IPR000884,InterPro:IPR002172,InterPro:IPR023415,InterPro:IPR035234,InterPro:IPR036055,InterPro:IPR036383,Pfam:PF00057,Pfam:PF00090,Pfam:PF17517,ProSitePatterns:PS01209,ProSiteProfiles:PS50068,ProSiteProfiles:PS50092,SMART:SM00192,SMART:SM00209,SUPERFAMILY:SSF57302,SUPERFAMILY:SSF57424,SUPERFAMILY:SSF82895;Ontology_term=GO:0005515;\n",
      "Contig44179\tmaker\tgene\t3865\t8811\t.\t-\t.\tID=OLUR_00012924;Name=OLUR_00012924;Alias=snap_masked-Contig44179-processed-gene-0.1;Note=Protein of unknown function;Dbxref=InterPro:IPR007237,Pfam:PF04103;Ontology_term=GO:0016021;\n",
      "Contig28588\tmaker\tgene\t15184\t21053\t.\t+\t.\tID=OLUR_00010629;Name=OLUR_00010629;Alias=snap_masked-Contig28588-processed-gene-0.0;Note=Similar to abcb8: ATP-binding cassette sub-family B member 8%2C mitochondrial (Danio rerio OX%3D7955);Dbxref=Gene3D:G3DSA:1.20.1560.10,InterPro:IPR011527,InterPro:IPR036640,Pfam:PF00664,ProSiteProfiles:PS50929,SUPERFAMILY:SSF90123;Ontology_term=GO:0005524,GO:0016021,GO:0042626,GO:0055085;\n",
      "Contig25811\tmaker\tgene\t1455\t28065\t.\t+\t.\tID=OLUR_00002438;Name=OLUR_00002438;Alias=snap_masked-Contig25811-processed-gene-0.0;Note=Similar to Aoah: Acyloxyacyl hydrolase (Mus musculus OX%3D10090);\n",
      "Contig27766\tmaker\tgene\t796\t18087\t.\t+\t.\tID=OLUR_00000932;Name=OLUR_00000932;Alias=maker-Contig27766-snap-gene-0.5;Note=Similar to tth-1: Thymosin beta (Caenorhabditis elegans OX%3D6239);Dbxref=Gene3D:G3DSA:1.20.5.520,InterPro:IPR001152,InterPro:IPR038386,MobiDBLite:mobidb-lite,Pfam:PF01290,ProDom:PD005116,SMART:SM00152;Ontology_term=GO:0003785,GO:0007015;\n",
      "Contig44176\tmaker\tgene\t12212\t15110\t.\t-\t.\tID=OLUR_00014696;Name=OLUR_00014696;Alias=snap_masked-Contig44176-processed-gene-0.3;Note=Protein of unknown function;Dbxref=CDD:cd00199,Gene3D:G3DSA:4.10.75.10,InterPro:IPR008197,InterPro:IPR036645,MobiDBLite:mobidb-lite,PRINTS:PR00003,Pfam:PF00095,ProSiteProfiles:PS51390,SMART:SM00217,SUPERFAMILY:SSF57256;Ontology_term=GO:0005576,GO:0030414;\n"
     ]
    }
   ],
   "source": [
    "!cat data/Olurida_v081-20190709.gene.gff | grep '00013909\\|00019635\\|00000537\\|00010629\\|00003179\\|00000932\\|00002438\\|00014696\\|00012924\\|00005351'"
   ]
  },
  {
   "cell_type": "code",
   "execution_count": 12,
   "metadata": {},
   "outputs": [
    {
     "name": "stdout",
     "output_type": "stream",
     "text": [
      "Contig99858\tmaker\tgene\t107\t2150\t.\t+\t.\tID=OLUR_00019635;Name=OLUR_00019635;Alias=maker-Contig99858-snap-gene-0.1;Note=Similar to HTK16: Tyrosine-protein kinase HTK16 (Hydra vulgaris OX%3D6087);Dbxref=Gene3D:G3DSA:3.30.505.10,InterPro:IPR000980,InterPro:IPR036860,Pfam:PF00017,ProSiteProfiles:PS50001,SMART:SM00252,SUPERFAMILY:SSF55550;\n",
      "Contig37187\tmaker\tgene\t12642\t18338\t.\t-\t.\tID=OLUR_00005351;Name=OLUR_00005351;Alias=maker-Contig37187-snap-gene-0.7;Note=Similar to moxd2: DBH-like monooxygenase protein 2 homolog (Danio rerio OX%3D7955);Dbxref=Gene3D:G3DSA:2.60.120.230,Gene3D:G3DSA:2.60.120.310,InterPro:IPR000323,InterPro:IPR008977,InterPro:IPR014784,InterPro:IPR024548,InterPro:IPR036939,Pfam:PF01082,Pfam:PF03712,SUPERFAMILY:SSF49742;Ontology_term=GO:0003824,GO:0004497,GO:0005507,GO:0016715,GO:0055114;\n",
      "Contig30105\tmaker\tgene\t1050\t3718\t.\t+\t.\tID=OLUR_00003179;Name=OLUR_00003179;Alias=maker-Contig30105-snap-gene-0.4;Note=Similar to CHRNA10: Neuronal acetylcholine receptor subunit alpha-10 (Gallus gallus OX%3D9031);Dbxref=Gene3D:G3DSA:1.20.58.390,Gene3D:G3DSA:2.70.170.10,InterPro:IPR006029,InterPro:IPR006202,InterPro:IPR018000,InterPro:IPR036719,InterPro:IPR036734,Pfam:PF02931,Pfam:PF02932,ProSitePatterns:PS00236,SUPERFAMILY:SSF63712,SUPERFAMILY:SSF90112;Ontology_term=GO:0005230,GO:0006811,GO:0016021;\n",
      "Contig31345\tmaker\tgene\t63445\t65863\t.\t+\t.\tID=OLUR_00000537;Name=OLUR_00000537;Alias=maker-Contig31345-snap-gene-0.9;Note=Similar to Abhd15: Protein ABHD15 (Mus musculus OX%3D10090);Dbxref=Gene3D:G3DSA:3.40.50.1820,InterPro:IPR012020,InterPro:IPR022742,InterPro:IPR029058,PIRSF:PIRSF005211,Pfam:PF12146,SUPERFAMILY:SSF53474;\n",
      "Contig188477\tmaker\tgene\t95\t16668\t.\t+\t.\tID=OLUR_00013909;Name=OLUR_00013909;Alias=maker-Contig188477-snap-gene-0.4;Note=Similar to HMCN1: Hemicentin-1 (Homo sapiens OX%3D9606);Dbxref=CDD:cd00112,Gene3D:G3DSA:2.20.100.10,InterPro:IPR000884,InterPro:IPR002172,InterPro:IPR023415,InterPro:IPR035234,InterPro:IPR036055,InterPro:IPR036383,Pfam:PF00057,Pfam:PF00090,Pfam:PF17517,ProSitePatterns:PS01209,ProSiteProfiles:PS50068,ProSiteProfiles:PS50092,SMART:SM00192,SMART:SM00209,SUPERFAMILY:SSF57302,SUPERFAMILY:SSF57424,SUPERFAMILY:SSF82895;Ontology_term=GO:0005515;\n",
      "Contig44179\tmaker\tgene\t3865\t8811\t.\t-\t.\tID=OLUR_00012924;Name=OLUR_00012924;Alias=snap_masked-Contig44179-processed-gene-0.1;Note=Protein of unknown function;Dbxref=InterPro:IPR007237,Pfam:PF04103;Ontology_term=GO:0016021;\n",
      "Contig28588\tmaker\tgene\t15184\t21053\t.\t+\t.\tID=OLUR_00010629;Name=OLUR_00010629;Alias=snap_masked-Contig28588-processed-gene-0.0;Note=Similar to abcb8: ATP-binding cassette sub-family B member 8%2C mitochondrial (Danio rerio OX%3D7955);Dbxref=Gene3D:G3DSA:1.20.1560.10,InterPro:IPR011527,InterPro:IPR036640,Pfam:PF00664,ProSiteProfiles:PS50929,SUPERFAMILY:SSF90123;Ontology_term=GO:0005524,GO:0016021,GO:0042626,GO:0055085;\n",
      "Contig25811\tmaker\tgene\t1455\t28065\t.\t+\t.\tID=OLUR_00002438;Name=OLUR_00002438;Alias=snap_masked-Contig25811-processed-gene-0.0;Note=Similar to Aoah: Acyloxyacyl hydrolase (Mus musculus OX%3D10090);\n",
      "Contig27766\tmaker\tgene\t796\t18087\t.\t+\t.\tID=OLUR_00000932;Name=OLUR_00000932;Alias=maker-Contig27766-snap-gene-0.5;Note=Similar to tth-1: Thymosin beta (Caenorhabditis elegans OX%3D6239);Dbxref=Gene3D:G3DSA:1.20.5.520,InterPro:IPR001152,InterPro:IPR038386,MobiDBLite:mobidb-lite,Pfam:PF01290,ProDom:PD005116,SMART:SM00152;Ontology_term=GO:0003785,GO:0007015;\n",
      "Contig44176\tmaker\tgene\t12212\t15110\t.\t-\t.\tID=OLUR_00014696;Name=OLUR_00014696;Alias=snap_masked-Contig44176-processed-gene-0.3;Note=Protein of unknown function;Dbxref=CDD:cd00199,Gene3D:G3DSA:4.10.75.10,InterPro:IPR008197,InterPro:IPR036645,MobiDBLite:mobidb-lite,PRINTS:PR00003,Pfam:PF00095,ProSiteProfiles:PS51390,SMART:SM00217,SUPERFAMILY:SSF57256;Ontology_term=GO:0005576,GO:0030414;\n"
     ]
    }
   ],
   "source": [
    "!cat data/Olurida_v081-20190709.gene.gff | grep '00013909\\|00019635\\|00000537\\|00010629\\|00003179\\|00000932\\|00002438\\|00014696\\|00012924\\|00005351' \\\n",
    "> "
   ]
  },
  {
   "cell_type": "code",
   "execution_count": null,
   "metadata": {},
   "outputs": [],
   "source": []
  }
 ],
 "metadata": {
  "kernelspec": {
   "display_name": "Python 3",
   "language": "python",
   "name": "python3"
  },
  "language_info": {
   "codemirror_mode": {
    "name": "ipython",
    "version": 3
   },
   "file_extension": ".py",
   "mimetype": "text/x-python",
   "name": "python",
   "nbconvert_exporter": "python",
   "pygments_lexer": "ipython3",
   "version": "3.6.8"
  }
 },
 "nbformat": 4,
 "nbformat_minor": 2
}
