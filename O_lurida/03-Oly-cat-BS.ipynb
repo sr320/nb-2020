{
 "cells": [
  {
   "cell_type": "markdown",
   "metadata": {},
   "source": [
    "In order to do a general assessment of DNA methylation in Olys... data concatenated then moved through Bismark"
   ]
  },
  {
   "cell_type": "markdown",
   "metadata": {},
   "source": [
    "The files used for methylkit are here https://gannet.fish.washington.edu/seashell/bu-mox/data/olurida-bs/decomp/"
   ]
  },
  {
   "cell_type": "markdown",
   "metadata": {},
   "source": [
    "Already have concatenated version\n",
    "![files](http://gannet.fish.washington.edu/seashell/snaps/Index_of_seashellbu-moxdataolurida-bsdecomp_2020-05-27_09-49-47.png)"
   ]
  },
  {
   "cell_type": "code",
   "execution_count": null,
   "metadata": {},
   "outputs": [],
   "source": []
  }
 ],
 "metadata": {
  "kernelspec": {
   "display_name": "Python 3",
   "language": "python",
   "name": "python3"
  },
  "language_info": {
   "codemirror_mode": {
    "name": "ipython",
    "version": 3
   },
   "file_extension": ".py",
   "mimetype": "text/x-python",
   "name": "python",
   "nbconvert_exporter": "python",
   "pygments_lexer": "ipython3",
   "version": "3.6.8"
  }
 },
 "nbformat": 4,
 "nbformat_minor": 2
}
