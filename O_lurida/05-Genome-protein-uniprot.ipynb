{
 "cells": [
  {
   "cell_type": "code",
   "execution_count": 1,
   "metadata": {},
   "outputs": [
    {
     "name": "stdout",
     "output_type": "stream",
     "text": [
      "^C\n"
     ]
    }
   ],
   "source": [
    "!blastp \\\n",
    "-query data/20181127_oly_genome_snap02.all.maker.proteins.renamed.putative_function.fasta \\\n",
    "-db /Users/sr320/blast-tutorial/db/uniprot_sprot \\\n",
    "-num_threads 3 \\\n",
    "-evalue 1E-20 \\\n",
    "-outfmt 6 \\\n",
    "-max_target_seqs 1 \\\n",
    "-max_hsps 1 \\\n",
    "-out analyses/Ol-prot_blastp_SP.tab"
   ]
  },
  {
   "cell_type": "markdown",
   "metadata": {},
   "source": [
    "ALso running on mox\n"
   ]
  },
  {
   "cell_type": "markdown",
   "metadata": {},
   "source": [
    "DONE on MOX https://gannet.fish.washington.edu/seashell/bu-mox/scrubbed/070320-Oly-annot/OlyP_blastp_sp.tab"
   ]
  },
  {
   "cell_type": "code",
   "execution_count": 3,
   "metadata": {},
   "outputs": [
    {
     "name": "stdout",
     "output_type": "stream",
     "text": [
      "Olurida_00005389-RA\tsp|Q9JLI7|SPAG6_MOUSE\t83.784\t222\t36\t0\t1\t222\t227\t448\t1.89e-132\t385\n",
      "Olurida_00009326-RA\tsp|Q8Q0U0|Y045_METMA\t34.653\t202\t132\t0\t46\t247\t134\t335\t4.79e-31\t120\n",
      "Olurida_00009499-RA\tsp|Q96MM6|HS12B_HUMAN\t33.543\t635\t341\t12\t4\t565\t58\t684\t1.16e-110\t348\n",
      "Olurida_00005464-RA\tsp|Q9JHX2|SP5_MOUSE\t52.941\t221\t65\t6\t155\t339\t176\t393\t1.46e-62\t208\n",
      "Olurida_00007615-RA\tsp|Q9BYD3|RM04_HUMAN\t37.879\t132\t74\t2\t36\t160\t17\t147\t2.37e-21\t90.9\n",
      "Olurida_00007616-RA\tsp|P62489|RPB7_RAT\t93.333\t90\t6\t0\t29\t118\t5\t94\t3.59e-56\t175\n",
      "Olurida_00003348-RA\tsp|Q5ZM73|MIRO1_CHICK\t54.235\t614\t234\t6\t12\t603\t25\t613\t0.0\t677\n",
      "Olurida_00017868-RA\tsp|Q6XVG2|CP254_MOUSE\t35.632\t87\t56\t0\t1\t87\t11\t97\t6.71e-16\t74.7\n",
      "Olurida_00011751-RA\tsp|Q9UHC1|MLH3_HUMAN\t37.994\t329\t191\t5\t105\t429\t36\t355\t3.03e-61\t235\n",
      "Olurida_00019170-RA\tsp|O18373|SPS1_DROME\t53.158\t190\t66\t5\t13\t186\t18\t200\t2.94e-58\t190\n"
     ]
    }
   ],
   "source": [
    "!head analyses/OlyP_blastp_sp.tab"
   ]
  },
  {
   "cell_type": "markdown",
   "metadata": {},
   "source": [
    "Need to converts Ol IDS to what is in GFF..."
   ]
  },
  {
   "cell_type": "code",
   "execution_count": 5,
   "metadata": {},
   "outputs": [
    {
     "name": "stdout",
     "output_type": "stream",
     "text": [
      "##gff-version 3\n",
      "Contig61093\tmaker\tgene\t7493\t7946\t.\t+\t.\tID=OLUR_00020575;Name=OLUR_00020575;Alias=maker-Contig61093-snap-gene-0.2;Note=Protein of unknown function;\n",
      "Contig1111\tmaker\tgene\t24968\t28696\t.\t-\t.\tID=OLUR_00006628;Name=OLUR_00006628;Alias=maker-Contig1111-snap-gene-0.1;Note=Similar to Spag6: Sperm-associated antigen 6 (Mus musculus OX%3D10090);Dbxref=Gene3D:G3DSA:1.25.10.10,InterPro:IPR000225,InterPro:IPR000357,InterPro:IPR011989,InterPro:IPR016024,Pfam:PF02985,SMART:SM00185,SUPERFAMILY:SSF48371;Ontology_term=GO:0005515;\n"
     ]
    }
   ],
   "source": [
    "!head -3 data/Olurida_v081-20190709.gene.gff"
   ]
  },
  {
   "cell_type": "code",
   "execution_count": 11,
   "metadata": {},
   "outputs": [
    {
     "name": "stdout",
     "output_type": "stream",
     "text": [
      "OLUR_00005389 \t Q9JLI7\n",
      "OLUR_00009326 \t Q8Q0U0\n",
      "OLUR_00009499 \t Q96MM6\n",
      "OLUR_00005464 \t Q9JHX2\n",
      "OLUR_00007615 \t Q9BYD3\n",
      "OLUR_00007616 \t P62489\n",
      "OLUR_00003348 \t Q5ZM73\n",
      "OLUR_00017868 \t Q6XVG2\n",
      "OLUR_00011751 \t Q9UHC1\n",
      "OLUR_00019170 \t O18373\n",
      "awk: write error on /dev/stdout\n",
      " input record number 1424, file \n",
      " source line number 1\n"
     ]
    }
   ],
   "source": [
    "!cat analyses/OlyP_blastp_sp.tab | sed 's/Olurida_/OLUR_/g' | \\\n",
    "sed 's/-RA//g' | tr '|' '\\t' | awk '{print $1, \"\\t\", $3}' | head"
   ]
  },
  {
   "cell_type": "code",
   "execution_count": 13,
   "metadata": {},
   "outputs": [],
   "source": [
    "!cat analyses/OlyP_blastp_sp.tab | sed 's/Olurida_/OLUR_/g' | \\\n",
    "sed 's/-RA//g' | tr '|' '\\t' | awk '{print $1, \"\\t\", $3}' \\\n",
    "> analyses/OLUR-UPacc.tab"
   ]
  },
  {
   "cell_type": "code",
   "execution_count": 14,
   "metadata": {},
   "outputs": [
    {
     "name": "stdout",
     "output_type": "stream",
     "text": [
      "OLUR_00005389 \t Q9JLI7\n",
      "OLUR_00009326 \t Q8Q0U0\n",
      "OLUR_00009499 \t Q96MM6\n",
      "OLUR_00005464 \t Q9JHX2\n",
      "OLUR_00007615 \t Q9BYD3\n",
      "OLUR_00007616 \t P62489\n",
      "OLUR_00003348 \t Q5ZM73\n",
      "OLUR_00017868 \t Q6XVG2\n",
      "OLUR_00011751 \t Q9UHC1\n",
      "OLUR_00019170 \t O18373\n"
     ]
    }
   ],
   "source": [
    "!head analyses/OLUR-UPacc.tab"
   ]
  },
  {
   "cell_type": "code",
   "execution_count": 15,
   "metadata": {},
   "outputs": [
    {
     "name": "stdout",
     "output_type": "stream",
     "text": [
      "##gff-version 3\t\t\t\t\t\t\t\t\t\t\t\t\t\t\n",
      "Contig61093\tmaker\tgene\t7493\t7946\t.\t+\t.\tOLUR_00020575\t\t\t\t\t\t\n",
      "Contig1111\tmaker\tgene\t24968\t28696\t.\t-\t.\tOLUR_00006628\t\t\t\t\t\t\n",
      "Contig214118\tmaker\tgene\t201\t926\t.\t+\t.\tOLUR_00032161\t\t\t\t\t\t\n",
      "Contig58217\tmaker\tgene\t9736\t11541\t.\t-\t.\tOLUR_00019127\t\t\t\t\t\t\n",
      "Contig2046\tmaker\tgene\t2295\t18394\t.\t+\t.\tOLUR_00011450\t\t\t\t\t\t\n",
      "Contig9540\tmaker\tgene\t4303\t10179\t.\t-\t.\tOLUR_00018391\t\t\t\t\t\t\n",
      "Contig52254\tmaker\tgene\t8908\t11733\t.\t+\t.\tOLUR_00011614\t\t\t\t\t\t\n",
      "Contig36645\tmaker\tgene\t2185\t3340\t.\t+\t.\tOLUR_00022996\t\t\t\t\t\t\n",
      "Contig3008\tmaker\tgene\t532\t6482\t.\t-\t.\tOLUR_00018754\t\t\t\t\t\t\n"
     ]
    }
   ],
   "source": [
    "!head analyses/Olurida_v081-20190709.gene.mod.gff"
   ]
  },
  {
   "cell_type": "code",
   "execution_count": 27,
   "metadata": {},
   "outputs": [
    {
     "name": "stdout",
     "output_type": "stream",
     "text": [
      "OLUR_00000001\tQ9IA16\n",
      "OLUR_00000003\tQ9R1R2\n",
      "OLUR_00000005\tQ9HCR9\n",
      "OLUR_00000007\tP47238\n",
      "OLUR_00000008\tA2BHJ4\n",
      "OLUR_00000009\tQ49B93\n",
      "OLUR_00000010\tQ6BZG7\n",
      "OLUR_00000011\tQ7ZWA3\n",
      "OLUR_00000014\tQ9H0F5\n",
      "OLUR_00000015\tQ6IV57\n",
      "sed: stdout: Broken pipe\n",
      "sort: Broken pipe\n"
     ]
    }
   ],
   "source": [
    "!cat analyses/OLUR-UPacc.tab | sort | sed 's/ //g'| head"
   ]
  },
  {
   "cell_type": "code",
   "execution_count": 28,
   "metadata": {},
   "outputs": [],
   "source": [
    "!cat analyses/OLUR-UPacc.tab | sort | sed 's/ //g' > analyses/OLUR-UPacc.sorted"
   ]
  },
  {
   "cell_type": "code",
   "execution_count": 18,
   "metadata": {},
   "outputs": [
    {
     "name": "stdout",
     "output_type": "stream",
     "text": [
      "##gff-version 3\t\t\t\t\t\t\t\t\t\t\t\t\t\t\n",
      "Contig19646\tmaker\tgene\t40779\t49671\t.\t-\t.\tOLUR_00000001\t\t\t\t\t\t\n",
      "Contig3\tmaker\tgene\t4777\t16864\t.\t+\t.\tOLUR_00000002\t\t\t\t\t\t\n",
      "Contig3\tmaker\tgene\t24250\t27760\t.\t-\t.\tOLUR_00000003\t\t\t\t\t\t\n",
      "Contig3\tmaker\tgene\t56479\t58504\t.\t+\t.\tOLUR_00000004\t\t\t\t\t\t\n",
      "Contig3\tmaker\tgene\t59654\t70404\t.\t-\t.\tOLUR_00000005\t\t\t\t\t\t\n",
      "Contig2\tmaker\tgene\t16693\t26851\t.\t+\t.\tOLUR_00000006\t\t\t\t\t\t\n",
      "Contig2\tmaker\tgene\t47324\t50372\t.\t-\t.\tOLUR_00000007\t\t\t\t\t\t\n",
      "Contig2\tmaker\tgene\t54928\t65038\t.\t-\t.\tOLUR_00000008\t\t\t\t\t\t\n",
      "Contig2\tmaker\tgene\t131900\t137322\t.\t+\t.\tOLUR_00000009\t\t\t\t\t\t\n",
      "sort: Broken pipe\n"
     ]
    }
   ],
   "source": [
    "!cat analyses/Olurida_v081-20190709.gene.mod.gff | sort -u -k9 | head"
   ]
  },
  {
   "cell_type": "code",
   "execution_count": 19,
   "metadata": {},
   "outputs": [],
   "source": [
    "!cat analyses/Olurida_v081-20190709.gene.mod.gff | sort -u -k9 > analyses/Olurida_v081-20190709.gene.mod.sorted"
   ]
  },
  {
   "cell_type": "code",
   "execution_count": 26,
   "metadata": {},
   "outputs": [
    {
     "name": "stdout",
     "output_type": "stream",
     "text": [
      "##gff-version 3\t\t\t\t\t\t\t\t\t\t\t\t\t\t\n",
      "Contig19646\tmaker\tgene\t40779\t49671\t.\t-\t.\tOLUR_00000001\t\t\t\t\t\t\n",
      "Contig3\tmaker\tgene\t4777\t16864\t.\t+\t.\tOLUR_00000002\t\t\t\t\t\t\n",
      "Contig3\tmaker\tgene\t24250\t27760\t.\t-\t.\tOLUR_00000003\t\t\t\t\t\t\n",
      "Contig3\tmaker\tgene\t56479\t58504\t.\t+\t.\tOLUR_00000004\t\t\t\t\t\t\n",
      "Contig3\tmaker\tgene\t59654\t70404\t.\t-\t.\tOLUR_00000005\t\t\t\t\t\t\n",
      "Contig2\tmaker\tgene\t16693\t26851\t.\t+\t.\tOLUR_00000006\t\t\t\t\t\t\n",
      "Contig2\tmaker\tgene\t47324\t50372\t.\t-\t.\tOLUR_00000007\t\t\t\t\t\t\n",
      "Contig2\tmaker\tgene\t54928\t65038\t.\t-\t.\tOLUR_00000008\t\t\t\t\t\t\n",
      "Contig2\tmaker\tgene\t131900\t137322\t.\t+\t.\tOLUR_00000009\t\t\t\t\t\t\n"
     ]
    }
   ],
   "source": [
    "!head analyses/Olurida_v081-20190709.gene.mod.sorted"
   ]
  },
  {
   "cell_type": "code",
   "execution_count": 44,
   "metadata": {},
   "outputs": [
    {
     "name": "stdout",
     "output_type": "stream",
     "text": [
      "OLUR_00000001\tContig19646\tmaker\tgene\t40779\t49671\t.\t-\t.\t\t\t\t\t\t\tQ9IA16\n",
      "OLUR_00000003\tContig3\tmaker\tgene\t24250\t27760\t.\t-\t.\t\t\t\t\t\t\tQ9R1R2\n",
      "OLUR_00000005\tContig3\tmaker\tgene\t59654\t70404\t.\t-\t.\t\t\t\t\t\t\tQ9HCR9\n",
      "OLUR_00000007\tContig2\tmaker\tgene\t47324\t50372\t.\t-\t.\t\t\t\t\t\t\tP47238\n",
      "OLUR_00000008\tContig2\tmaker\tgene\t54928\t65038\t.\t-\t.\t\t\t\t\t\t\tA2BHJ4\n",
      "OLUR_00000009\tContig2\tmaker\tgene\t131900\t137322\t.\t+\t.\t\t\t\t\t\t\tQ49B93\n",
      "OLUR_00000010\tContig34578\tmaker\tgene\t126544\t135381\t.\t+\t.\t\t\t\t\t\t\tQ6BZG7\n",
      "OLUR_00000011\tContig22814\tmaker\tgene\t10285\t30517\t.\t+\t.\t\t\t\t\t\t\tQ7ZWA3\n",
      "OLUR_00000014\tContig22814\tmaker\tgene\t80061\t105099\t.\t+\t.\t\t\t\t\t\t\tQ9H0F5\n",
      "OLUR_00000015\tContig22814\tmaker\tgene\t103284\t111624\t.\t-\t.\t\t\t\t\t\t\tQ6IV57\n",
      "join: stdout: Broken pipe\n"
     ]
    }
   ],
   "source": [
    "#joining files to ge\n",
    "!join -1 9 -2 1 -t $'\\t' \\\n",
    "analyses/Olurida_v081-20190709.gene.mod.sorted \\\n",
    "analyses/OLUR-UPacc.sorted | head"
   ]
  },
  {
   "cell_type": "code",
   "execution_count": 90,
   "metadata": {},
   "outputs": [
    {
     "name": "stdout",
     "output_type": "stream",
     "text": [
      "Contig19646\tmaker\tgene\t40779\t49671\t.\t-\t.\tOLUR_00000001;Q9IA16\n",
      "Contig3\tmaker\tgene\t24250\t27760\t.\t-\t.\tOLUR_00000003;Q9R1R2\n",
      "Contig3\tmaker\tgene\t59654\t70404\t.\t-\t.\tOLUR_00000005;Q9HCR9\n",
      "Contig2\tmaker\tgene\t47324\t50372\t.\t-\t.\tOLUR_00000007;P47238\n",
      "Contig2\tmaker\tgene\t54928\t65038\t.\t-\t.\tOLUR_00000008;A2BHJ4\n",
      "Contig2\tmaker\tgene\t131900\t137322\t.\t+\t.\tOLUR_00000009;Q49B93\n",
      "Contig34578\tmaker\tgene\t126544\t135381\t.\t+\t.\tOLUR_00000010;Q6BZG7\n",
      "Contig22814\tmaker\tgene\t10285\t30517\t.\t+\t.\tOLUR_00000011;Q7ZWA3\n",
      "Contig22814\tmaker\tgene\t80061\t105099\t.\t+\t.\tOLUR_00000014;Q9H0F5\n",
      "Contig22814\tmaker\tgene\t103284\t111624\t.\t-\t.\tOLUR_00000015;Q6IV57\n",
      "awk: write error on /dev/stdout\n",
      " input record number 538, file \n",
      " source line number 1\n",
      "join: stdout: Broken pipe\n"
     ]
    }
   ],
   "source": [
    "\n",
    "!join -1 9 -2 1 -t $'\\t' \\\n",
    "analyses/Olurida_v081-20190709.gene.mod.sorted \\\n",
    "analyses/OLUR-UPacc.sorted | awk '{print $2\"\\t\"$3\"\\t\"$4\"\\t\"$5\"\\t\"$6\"\\t\"$7\"\\t\"$8\"\\t\"$9\"\\t\"$1\";\"$10}' |head"
   ]
  },
  {
   "cell_type": "code",
   "execution_count": 91,
   "metadata": {},
   "outputs": [],
   "source": [
    "\n",
    "!join -1 9 -2 1 -t $'\\t' \\\n",
    "analyses/Olurida_v081-20190709.gene.mod.sorted \\\n",
    "analyses/OLUR-UPacc.sorted | awk '{print $2\"\\t\"$3\"\\t\"$4\"\\t\"$5\"\\t\"$6\"\\t\"$7\"\\t\"$8\"\\t\"$9\"\\t\"$1\";\"$10}' \\\n",
    "> analyses/Olur_gene_UPacc.gff"
   ]
  },
  {
   "cell_type": "code",
   "execution_count": 92,
   "metadata": {},
   "outputs": [
    {
     "name": "stdout",
     "output_type": "stream",
     "text": [
      "Contig19646\tmaker\tgene\t40779\t49671\t.\t-\t.\tOLUR_00000001;Q9IA16\n",
      "Contig3\tmaker\tgene\t24250\t27760\t.\t-\t.\tOLUR_00000003;Q9R1R2\n",
      "Contig3\tmaker\tgene\t59654\t70404\t.\t-\t.\tOLUR_00000005;Q9HCR9\n",
      "Contig2\tmaker\tgene\t47324\t50372\t.\t-\t.\tOLUR_00000007;P47238\n",
      "Contig2\tmaker\tgene\t54928\t65038\t.\t-\t.\tOLUR_00000008;A2BHJ4\n",
      "Contig2\tmaker\tgene\t131900\t137322\t.\t+\t.\tOLUR_00000009;Q49B93\n",
      "Contig34578\tmaker\tgene\t126544\t135381\t.\t+\t.\tOLUR_00000010;Q6BZG7\n",
      "Contig22814\tmaker\tgene\t10285\t30517\t.\t+\t.\tOLUR_00000011;Q7ZWA3\n",
      "Contig22814\tmaker\tgene\t80061\t105099\t.\t+\t.\tOLUR_00000014;Q9H0F5\n",
      "Contig22814\tmaker\tgene\t103284\t111624\t.\t-\t.\tOLUR_00000015;Q6IV57\n"
     ]
    }
   ],
   "source": [
    "!head analyses/Olur_gene_UPacc.gff"
   ]
  },
  {
   "cell_type": "code",
   "execution_count": null,
   "metadata": {},
   "outputs": [],
   "source": []
  }
 ],
 "metadata": {
  "kernelspec": {
   "display_name": "Python 3",
   "language": "python",
   "name": "python3"
  },
  "language_info": {
   "codemirror_mode": {
    "name": "ipython",
    "version": 3
   },
   "file_extension": ".py",
   "mimetype": "text/x-python",
   "name": "python",
   "nbconvert_exporter": "python",
   "pygments_lexer": "ipython3",
   "version": "3.6.8"
  }
 },
 "nbformat": 4,
 "nbformat_minor": 2
}
