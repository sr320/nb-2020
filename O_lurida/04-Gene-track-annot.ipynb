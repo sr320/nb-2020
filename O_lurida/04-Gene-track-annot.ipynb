{
 "cells": [
  {
   "cell_type": "markdown",
   "metadata": {},
   "source": [
    "Annotating Genes in the Genome\n"
   ]
  },
  {
   "cell_type": "markdown",
   "metadata": {},
   "source": [
    "Make blastDB from gene "
   ]
  },
  {
   "cell_type": "code",
   "execution_count": 2,
   "metadata": {},
   "outputs": [
    {
     "name": "stdout",
     "output_type": "stream",
     "text": [
      ">Contig61093:7092-7949\n",
      "ATGAAACCGTAAATTTATTCCTTCTTTGAAAGCAGTTCCTGGCACGATGAAGATTCATCAAGTTATTACAAAGAACCGAGGAGAAATTGCTTACTGGTCAGTGAGCTGTACCTGTGATAACCCATGCACTCATAAAAGCCATGATTTGATTTGGGTTCCCCACCAAATCAAACAATCAGCCTGCTagcatacctttgtctactgaggatctgcgcgaaAAATTCTTTCATGATTCTCTCCATGCTTTTGCTAAGATGAAAACCTTTGCAGAAATACATAACCTCTCCTTGAAAATCAAAaacAGAACTCAGGCTTATGAAATTGGTGAATTCATCCCATCACTGCACAATACAGGGTTAAGTGTGGATAAGGAATATCACTCGGCATTTATCCAGCAGATATAGCGCAAGAACAGGTGTTGTATCCAGCTACTGTCTCAGCAGATGGTAATTGTTTGCCATACACAGGAAGTGTGCACGCATTTAGCAATGAAAAGAGGGGATCAGAAATGAGAGTCCGCATAGTAACAGAACTAGCACTCCATCAAGaactgtaccttagtcagacCTATCTTGAGAGGGAATTAAGTGTTGCAGCCAAGAATTTGCCTCCTCGGTATGCCATGTATTCAGAGTCTTTTCTACCTGGATTATTGCTTAACAACAGAACCATAAAGACTCTGTTTCAGAGAGAAGTTTTGAATGTCAGTTTTGAATGTCAGTAAAGATAGGTGTTACATGGGTATATGGCAGGTATTTGCGCTTTCTAGTATTCTGAAAGGACCCATCGTCTCTGTCTATCCTCAGCTAGGAAATCCATCAGTGAGAATGGACCTCAACAGGACAATACTTCCCTGA\n"
     ]
    }
   ],
   "source": [
    "!head -2 analyses/Olurida_v081.gene.fa"
   ]
  },
  {
   "cell_type": "code",
   "execution_count": 4,
   "metadata": {},
   "outputs": [
    {
     "name": "stdout",
     "output_type": "stream",
     "text": [
      "Contig1:7358-13988\tsp|Q96I76|GPTC3_HUMAN\t55.085\t118\t40\t1\t4218\t4571\t351\t455\t3.72e-31\t134\n",
      "Contig100188:461-2761\tsp|Q8TD26|CHD6_HUMAN\t74.576\t59\t15\t0\t1944\t1768\t946\t1004\t1.35e-18\t95.1\n",
      "Contig100292:11872-20345\tsp|Q0WU02|MTP10_ARATH\t36.585\t328\t194\t3\t8121\t7150\t95\t412\t1.39e-53\t198\n",
      "Contig100396:517-2908\tsp|P34465|CY561_CAEEL\t52.703\t74\t30\t1\t3\t209\t80\t153\t2.80e-12\t71.2\n",
      "Contig1006:1730-13078\tsp|P35789|ZNF93_HUMAN\t38.187\t364\t201\t4\t10054\t11142\t169\t509\t6.68e-57\t214\n",
      "Contig100687:9-2669\tsp|Q9Y6J0|CABIN_HUMAN\t60.000\t40\t16\t0\t795\t914\t1505\t1544\t1.80e-07\t59.3\n",
      "Contig100696:176-2870\tsp|Q626I7|DNJ20_CAEBR\t81.132\t53\t10\t0\t2694\t2536\t23\t75\t1.34e-17\t89.4\n",
      "Contig10074:4260-6385\tsp|P27966|RMIL_AVEVR\t62.963\t54\t15\t3\t1719\t1567\t333\t384\t2.08e-09\t64.3\n",
      "Contig100953:6256-11319\tsp|Q8R3R5|T185B_MOUSE\t51.220\t82\t35\t1\t2959\t3204\t70\t146\t2.41e-17\t89.4\n",
      "Contig100994:1031-6602\tsp|P20007|PCKG_DROME\t55.605\t223\t59\t2\t1655\t987\t465\t647\t1.35e-80\t255\n"
     ]
    }
   ],
   "source": [
    "#Noting we do have UniProt blast of this file...\n",
    "\n",
    "!head analyses/Olgene_blastx_uniprot.05.tab"
   ]
  },
  {
   "cell_type": "code",
   "execution_count": 5,
   "metadata": {},
   "outputs": [
    {
     "name": "stdout",
     "output_type": "stream",
     "text": [
      ">Olurida_00016155-RA protein Name:\"Protein of unknown function\" AED:0.14 eAED:0.17 QI:0|0|0|0.5|0.33|0.25|4|0|163\n",
      "MKPSWHDEDSSSYYKEPRRNCLLVNIAQEQVLYPATVSADGNCLPYTGSVHAFSNEKRGS\n",
      "EMRVRIVTELALHQELYLSQTYLERELSVAAKNLPPRYAMYSESFLPGLLLNNRTIKTLK\n",
      "DRCYMGIWQVFALSSILKGPIVSVYPQLGNPSVRMDLNRTILP\n",
      ">Olurida_00005389-RA protein Name:\"Similar to Spag6 Sperm-associated antigen 6 (Mus musculus OX=10090)\" AED:0.06 eAED:0.15 QI:0|0|0|1|0.75|0.8|5|0|242\n",
      "RQVFSALSQISKHSVDLAEMVVEAEIFPAVLTCLKDPDEYVKKNVATLIREIAKHTPELA\n",
      "QLIVNAGGVAAVVDYVGESKGNIRLPGIMMLGYVAAHSENLAMAVIVSKGVVQLAIALSE\n",
      "EPEDHIQAAAAWALGQIGRHTPEHAKAVAVANVLPKLLQCYLRADASEDLQTKSKKALKN\n",
      "ILQKCVHLPALEPLLHDAPPNILKHVVGQFSKVLPHDSKARQNTGNQGRAWLRPRRIHQH\n",
      "NQ\n"
     ]
    }
   ],
   "source": [
    "!head data/20181127_oly_genome_snap02.all.maker.proteins.renamed.putative_function.fasta"
   ]
  },
  {
   "cell_type": "code",
   "execution_count": 6,
   "metadata": {},
   "outputs": [
    {
     "name": "stdout",
     "output_type": "stream",
     "text": [
      "\n",
      "\n",
      "Building a new DB, current time: 07/03/2020 09:02:09\n",
      "New DB name:   /Users/sr320/Documents/GitHub/nb-2020/O_lurida/data/oly_genome_proteins\n",
      "New DB title:  data/20181127_oly_genome_snap02.all.maker.proteins.renamed.putative_function.fasta\n",
      "Sequence type: Protein\n",
      "Keep MBits: T\n",
      "Maximum file size: 1000000000B\n",
      "Adding sequences from FASTA; added 24680 sequences in 1.13578 seconds.\n"
     ]
    }
   ],
   "source": [
    "!makeblastdb \\\n",
    "-in data/20181127_oly_genome_snap02.all.maker.proteins.renamed.putative_function.fasta \\\n",
    "-dbtype prot \\\n",
    "-out data/oly_genome_proteins"
   ]
  },
  {
   "cell_type": "code",
   "execution_count": 7,
   "metadata": {},
   "outputs": [
    {
     "name": "stdout",
     "output_type": "stream",
     "text": [
      "20181127_oly_genome_snap02.all.maker.proteins.renamed.putative_function.fasta\n",
      "Olurida_PCRtargets.fa\n",
      "Olurida_v081.fa\n",
      "Olurida_v081.fa.fai\n",
      "chart_85CB1816C5BE1581178804954.txt\n",
      "oly_genome_proteins.phr\n",
      "oly_genome_proteins.pin\n",
      "oly_genome_proteins.psq\n"
     ]
    }
   ],
   "source": [
    "!ls data/"
   ]
  },
  {
   "cell_type": "code",
   "execution_count": 8,
   "metadata": {},
   "outputs": [],
   "source": [
    "!blastx \\\n",
    "-query data/Olurida_PCRtargets.fa \\\n",
    "-db data/oly_genome_proteins \\\n",
    "-num_threads 3 \\\n",
    "-evalue 1E-20 \\\n",
    "-outfmt 6 \\\n",
    "-max_target_seqs 1 \\\n",
    "-out analyses/OlPCR_blastx_oly_genome-proteins.tab"
   ]
  },
  {
   "cell_type": "code",
   "execution_count": 10,
   "metadata": {},
   "outputs": [
    {
     "name": "stdout",
     "output_type": "stream",
     "text": [
      "CARM_comp7220_c0_seq2\tOlurida_00013909-RA\t87.671\t511\t13\t3\t1\t1533\t10\t470\t0.0\t902\n",
      "TLR_comp23747_c0_seq1\tOlurida_00019635-RA\t36.952\t525\t314\t10\t1603\t65\t205\t724\t5.02e-93\t298\n",
      "H2AV_comp25000_c0_seq1\tOlurida_00000537-RA\t64.286\t98\t33\t2\t645\t355\t79\t175\t9.59e-32\t115\n",
      "PGRP_comp24065_c0_seq1\tOlurida_00010629-RA\t85.294\t272\t2\t1\t84\t899\t171\t404\t4.76e-164\t462\n",
      "BMP2_comp7183_c0_seq1\tOlurida_00003179-RA\t100.000\t421\t0\t0\t506\t1768\t1\t421\t0.0\t782\n",
      "GRB2_comp10127_c0_seq1\tOlurida_00000932-RA\t80.180\t111\t20\t1\t371\t703\t2\t110\t2.01e-56\t187\n",
      "PGEEP4_comp6939_c0_seq1\tOlurida_00002438-RA\t91.289\t287\t1\t1\t394\t1254\t41\t303\t3.72e-160\t463\n",
      "CRAF_comp25313_c0_seq1\tOlurida_00014696-RA\t100.000\t556\t0\t0\t2277\t610\t1\t556\t0.0\t1123\n",
      "Actin_comp30443_c0_seq2\tOlurida_00012924-RA\t98.936\t376\t4\t0\t1353\t226\t1\t376\t0.0\t779\n",
      "HSP70_comp44273_c0_seq2\tOlurida_00005351-RA\t57.886\t615\t251\t5\t2130\t298\t34\t644\t0.0\t704\n"
     ]
    }
   ],
   "source": [
    "!head analyses/OlPCR_blastx_oly_genome-proteins.tab"
   ]
  },
  {
   "cell_type": "code",
   "execution_count": null,
   "metadata": {},
   "outputs": [],
   "source": []
  }
 ],
 "metadata": {
  "kernelspec": {
   "display_name": "Python 3",
   "language": "python",
   "name": "python3"
  },
  "language_info": {
   "codemirror_mode": {
    "name": "ipython",
    "version": 3
   },
   "file_extension": ".py",
   "mimetype": "text/x-python",
   "name": "python",
   "nbconvert_exporter": "python",
   "pygments_lexer": "ipython3",
   "version": "3.6.8"
  }
 },
 "nbformat": 4,
 "nbformat_minor": 2
}
