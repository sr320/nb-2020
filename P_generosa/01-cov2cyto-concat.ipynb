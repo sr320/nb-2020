{
 "cells": [
  {
   "cell_type": "markdown",
   "metadata": {},
   "source": [
    "## Taking the coverage file from an alignment of all BS data to genome, will destrand."
   ]
  },
  {
   "cell_type": "code",
   "execution_count": 5,
   "metadata": {
    "ExecuteTime": {
     "end_time": "2019-12-31T19:23:35.707765Z",
     "start_time": "2019-12-31T19:23:35.563124Z"
    }
   },
   "outputs": [
    {
     "name": "stdout",
     "output_type": "stream",
     "text": [
      "PGA_scaffold1__77_contigs__length_89643857\t4\t4\t50\t1\t1\r\n",
      "PGA_scaffold1__77_contigs__length_89643857\t18\t18\t11.1111111111111\t1\t8\r\n",
      "PGA_scaffold1__77_contigs__length_89643857\t54\t54\t3.125\t1\t31\r\n",
      "PGA_scaffold1__77_contigs__length_89643857\t72\t72\t2.77777777777778\t1\t35\r\n",
      "PGA_scaffold1__77_contigs__length_89643857\t96\t96\t2.27272727272727\t1\t43\r\n",
      "PGA_scaffold1__77_contigs__length_89643857\t97\t97\t0\t0\t5\r\n",
      "PGA_scaffold1__77_contigs__length_89643857\t119\t119\t0\t0\t42\r\n",
      "PGA_scaffold1__77_contigs__length_89643857\t120\t120\t0\t0\t6\r\n",
      "PGA_scaffold1__77_contigs__length_89643857\t193\t193\t0\t0\t37\r\n",
      "PGA_scaffold1__77_contigs__length_89643857\t194\t194\t0\t0\t6\r\n"
     ]
    }
   ],
   "source": [
    "!head data/Pg_val_1_bismark_bt2_pe.deduplicated.bismark.cov"
   ]
  },
  {
   "cell_type": "code",
   "execution_count": 3,
   "metadata": {
    "ExecuteTime": {
     "end_time": "2019-12-31T19:22:44.732505Z",
     "start_time": "2019-12-31T19:21:48.620067Z"
    },
    "scrolled": true
   },
   "outputs": [
    {
     "name": "stdout",
     "output_type": "stream",
     "text": [
      "Summary of parameters for genome-wide cytosine report:\n",
      "==============================================================================\n",
      "Coverage infile:\t\t\t\t/Users/sr320/Documents/GitHub/nb-2020/P_generosa/data/Pg_val_1_bismark_bt2_pe.deduplicated.bismark.cov\n",
      "Output directory:\t\t\t\t><\n",
      "Parent directory:\t\t\t\t>/Users/sr320/Documents/GitHub/nb-2020/P_generosa/<\n",
      "Genome directory:\t\t\t\t>/Users/sr320/Desktop/geo/genome/<\n",
      "CX context:\t\t\t\t\tno (CpG context only, default)\n",
      "Pooling CpG top/bottom strand evidence:\t\tyes\n",
      "Genome coordinates used:\t\t\t0-based (user specified)\n",
      "GZIP compression:\t\t\t\tno\n",
      "Split by chromosome:\t\t\t\tno\n",
      "\n",
      "\n",
      "Now reading in and storing sequence information of the genome specified in: /Users/sr320/Desktop/geo/genome/\n",
      "\n",
      "chr Scaffold_01 (89643857 bp)\n",
      "chr Scaffold_02 (69596280 bp)\n",
      "chr Scaffold_03 (57743597 bp)\n",
      "chr Scaffold_04 (65288255 bp)\n",
      "chr Scaffold_05 (67248332 bp)\n",
      "chr Scaffold_06 (61759565 bp)\n",
      "chr Scaffold_07 (43120122 bp)\n",
      "chr Scaffold_08 (61151155 bp)\n",
      "chr Scaffold_09 (38581958 bp)\n",
      "chr Scaffold_10 (53961475 bp)\n",
      "chr Scaffold_11 (51449921 bp)\n",
      "chr Scaffold_12 (50438331 bp)\n",
      "chr Scaffold_13 (44396874 bp)\n",
      "chr Scaffold_14 (45393038 bp)\n",
      "chr Scaffold_15 (47938513 bp)\n",
      "chr Scaffold_16 (31980953 bp)\n",
      "chr Scaffold_17 (34923512 bp)\n",
      "chr Scaffold_18 (27737463 bp)\n",
      "\n",
      "Stored sequence information of 18 chromosomes/scaffolds in total\n",
      "\n",
      "==============================================================================\n",
      "Methylation information will now be written into a genome-wide cytosine report\n",
      "==============================================================================\n",
      "\n",
      ">>> Writing genome-wide cytosine report to: /Users/sr320/Documents/GitHub/nb-2020/P_generosa/analyses/Pg-all.CpG_report.txt <<<\n",
      "\n",
      "Storing all covered cytosine positions for chromosome: PGA_scaffold1__77_contigs__length_89643857\n",
      "Writing cytosine report for chromosome PGA_scaffold1__77_contigs__length_89643857 (stored 2673624 different covered positions)\n",
      "Use of uninitialized value within %chromosomes in pattern match (m//) at /Applications/bioinfo/bismark_v0.21.0/coverage2cytosine line 194, <IN> line 2673625.\n",
      "Writing cytosine report for chromosome PGA_scaffold2__36_contigs__length_69596280 (stored 2102612 different covered positions)\n",
      "Use of uninitialized value within %chromosomes in pattern match (m//) at /Applications/bioinfo/bismark_v0.21.0/coverage2cytosine line 194, <IN> line 4776237.\n",
      "^C\n"
     ]
    }
   ],
   "source": [
    "!/Applications/bioinfo/bismark_v0.21.0/coverage2cytosine \\\n",
    "--genome_folder /Users/sr320/Desktop/geo/genome \\\n",
    "-o /Users/sr320/Documents/GitHub/nb-2020/P_generosa/analyses/Pg-all \\\n",
    "--zero_based \\\n",
    "--merge_CpG \\\n",
    "/Users/sr320/Documents/GitHub/nb-2020/P_generosa/data/Pg_val_1_bismark_bt2_pe.deduplicated.bismark.cov"
   ]
  },
  {
   "cell_type": "code",
   "execution_count": 2,
   "metadata": {
    "ExecuteTime": {
     "end_time": "2019-12-31T19:19:21.535712Z",
     "start_time": "2019-12-31T19:19:21.363234Z"
    }
   },
   "outputs": [],
   "source": [
    "!ls /Users/sr320/Documents/GitHub/nb-2020/P_generosa/analyses/Pg-all"
   ]
  },
  {
   "cell_type": "code",
   "execution_count": null,
   "metadata": {},
   "outputs": [],
   "source": []
  }
 ],
 "metadata": {
  "kernelspec": {
   "display_name": "Python 3",
   "language": "python",
   "name": "python3"
  },
  "language_info": {
   "codemirror_mode": {
    "name": "ipython",
    "version": 3
   },
   "file_extension": ".py",
   "mimetype": "text/x-python",
   "name": "python",
   "nbconvert_exporter": "python",
   "pygments_lexer": "ipython3",
   "version": "3.6.8"
  }
 },
 "nbformat": 4,
 "nbformat_minor": 2
}
