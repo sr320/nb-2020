{
 "cells": [
  {
   "cell_type": "code",
   "execution_count": 1,
   "metadata": {},
   "outputs": [
    {
     "name": "stdout",
     "output_type": "stream",
     "text": [
      ">g1\n",
      "MSRLQEPFDFYSQLHAIFGAFYSRGADVRFTQEPSNPSYFHNGSDANLVWDYTDSQNNIQYIIYSVLVDDTFVRMMVNDSRGVQEHSKIPPSYKGRVKIQGRATLVIKNINPGDNTKFRCEVWGSFFYEVQSTVQLIVAGGVDVRFTQEPSDPSLFNNGNDAKLVWDYTDPHNKIQAIIYSVLVNGAFVKMMVNDSSGVQEHPEIPLSYKGRVKIRGRASLVIKNINPGDNTKFRCEMRGSFSYDVKSKVQLIVAGGVNVRFTQEPSDPSLFNNGNDAKLVWDYTDPHNKIQAIIYSVLVNGAFVKMMVNDSSGAQEHPEIPLSYKGRVKIEGRATLVIKNINPGDNTKFRCELIGSFLYLVQSTVQLIVA\n",
      ">g2\n",
      "MGIEKNVVWAEVKISVCTRLNVEDISSRRNSFGLGSRFCQQNEHISVKKMKCMDHVQSVLVASMYTPGDSQQQLSCDTILSLSESCLLSNPVGKTTKMSFSKKVILQMYSIYFSFEDMTSVPISLIFFSNQSCLLIDLIYLIHFELILDPWFGNP\n",
      ">g3\n",
      "DREGEGHANHALGQCYHALSDYKQAVEHFKKYLVISKELGDRHGEGHASHHLGRYYYKLSDYKQAVEHYNNYLVISKELGDRYGEESANHDIGQCYHALSDYKQAVEHHNKYLAISKELEDRDGEGHANHALGHSYYRFSDCKQAIEYMEQSVIIAKNTGDKVAEGKAKGFLGEIYLRYVNDYEKARENFMQQLDIAKDVGDCNGELNAYESLGSVYNTLGKFSTAKDYFDIELAIAKEIKNRKAEARSYLGLGSAHLQRRDFRKAIEFFGQFLSIAEEEKVGMPQRCVYHRLGDAYLGLNNFKEAANYGMKSLALTKVKGGRGCERTANYILGRTMERFNFLHEALDHYRSALKAVNHERDIMKAEDAHKICFRNSRQLTYDALCRTLLKLSNLGEALCVVDQGRAQVLLDYMKQKYQKEFPPPRTSEPDVAPLVSTQTIYISLEKETINMWLVGNGNDIQFRQKEANHDYKFGNDPCPYCLKCLKKAAFKENEFGARVICEDRSMDALRPDLWEQDKDSCHEMSALLSEDSFRLDVPREESPLDKETCREMLKSPQSQRNSLRLFYDAVIGPIANELKGDKLLIIPDGLLGLVPFAAFVDKDSKYLSETFKIRIAPSLTTLKLINDCPENYHCKSGALLVGNPCFEEITDLLGIPWFQPLPHAEKEVQMIGEIINATPLVGKEATKDEVLKRIASVALVHIATHGSAKTGDICLAPNPSRKYRKPEKEDYMLKMSDIKALKLRARLVVLSCCHSGRGDVSAEGVVGIAWALLASGARSVLASLWAIGDEATMEFMKTFYKHLRDGDNASTALNKAMKCLRESEKFSAPKNWAPFVIIGDDVTLEFEKDIEQC\n",
      ">g4\n",
      "MLMEAHEAYRAGNIDTALLKYALLAELGYEVAQSNVAYILDHGLTSVILENETFPRALLYWTRAASQGNTAARVKVGDYHYYGYGTDIDYETAAFHYRLASEQQHNAQAMFNLGYMHERGLGMRQDIHLAKRFYDMAAQTSPDAQAPVSLALLKLGVFFTWEWIQENYGSLNLSKFTNFIGDDWDIYAMTGLALLFGILLLLRRRQ\n",
      ">g5\n",
      "MDHAMYSEGSTAVKQDNETAFQWFKKAADAGNAIGQSGLGLMYMFGKGVKKDYEKAFQYFKLAAEQGWVDGHLQMGTLYYHGLGVRRDYKMAIKFFNLASQTADTVNPLTPKI\n"
     ]
    }
   ],
   "source": [
    "!head data/Pocillopora_acuta_protein.fasta"
   ]
  },
  {
   "cell_type": "markdown",
   "metadata": {},
   "source": [
    "# Running blast"
   ]
  },
  {
   "cell_type": "code",
   "execution_count": null,
   "metadata": {},
   "outputs": [],
   "source": [
    "mox https://d.pr/n/xhQDCz"
   ]
  },
  {
   "cell_type": "raw",
   "metadata": {},
   "source": [
    "#!/bin/bash\n",
    "## Job Name\n",
    "#SBATCH --job-name=blastp\n",
    "## Allocation Definition\n",
    "#SBATCH --account=coenv\n",
    "#SBATCH --partition=coenv\n",
    "## Resources\n",
    "## Nodes\n",
    "#SBATCH --nodes=1\n",
    "## Walltime (days-hours:minutes:seconds format)\n",
    "#SBATCH --time=1-00:00:00\n",
    "## Memory per node\n",
    "#SBATCH --mem=120G\n",
    "##turn on e-mail notification\n",
    "#SBATCH --mail-type=ALL\n",
    "#SBATCH --mail-user=sr320@uw.edu\n",
    "## Specify the working directory for this job\n",
    "#SBATCH --chdir=/gscratch/scrubbed/sr320/061620-Pact-annotation\n",
    "\n",
    "\n",
    "# Load Python Mox module for Python module availability\n",
    "\n",
    "module load intel-python3_2017\n",
    "\n",
    "\n",
    "\n",
    "\n",
    "source /gscratch/srlab/programs/scripts/paths.sh\n",
    "\n",
    "\n",
    "/gscratch/srlab/programs/ncbi-blast-2.6.0+/bin/blastp \\\n",
    "-query /gscratch/srlab/sr320/data/froger/Pocillopora_acuta_protein.fasta \\\n",
    "-db /gscratch/srlab/blastdbs/UniProtKB_20190109/uniprot_sprot.fasta \\\n",
    "-num_threads 56 \\\n",
    "-outfmt 6 \\\n",
    "-max_target_seqs 1 \\\n",
    "-evalue 1e-05 \\\n",
    "-out /gscratch/scrubbed/sr320/061620-Pact-annotation/Pact_blastp_sp.tab"
   ]
  },
  {
   "cell_type": "code",
   "execution_count": null,
   "metadata": {},
   "outputs": [],
   "source": []
  }
 ],
 "metadata": {
  "kernelspec": {
   "display_name": "Python 3",
   "language": "python",
   "name": "python3"
  },
  "language_info": {
   "codemirror_mode": {
    "name": "ipython",
    "version": 3
   },
   "file_extension": ".py",
   "mimetype": "text/x-python",
   "name": "python",
   "nbconvert_exporter": "python",
   "pygments_lexer": "ipython3",
   "version": "3.6.8"
  }
 },
 "nbformat": 4,
 "nbformat_minor": 2
}
