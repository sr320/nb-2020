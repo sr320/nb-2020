{
 "cells": [
  {
   "cell_type": "code",
   "execution_count": 1,
   "metadata": {},
   "outputs": [
    {
     "name": "stdout",
     "output_type": "stream",
     "text": [
      "01-get-fasta.ipynb  02-Pact-anno.ipynb  \u001b[34manalyses\u001b[m\u001b[m/           \u001b[34mdata\u001b[m\u001b[m/\n"
     ]
    }
   ],
   "source": [
    "ls"
   ]
  },
  {
   "cell_type": "code",
   "execution_count": 2,
   "metadata": {},
   "outputs": [
    {
     "name": "stdout",
     "output_type": "stream",
     "text": [
      "/Users/sr320/Documents/GitHub/nb-2020/P_acuta/data\n"
     ]
    }
   ],
   "source": [
    "cd data/"
   ]
  },
  {
   "cell_type": "code",
   "execution_count": 4,
   "metadata": {},
   "outputs": [
    {
     "name": "stdout",
     "output_type": "stream",
     "text": [
      "  % Total    % Received % Xferd  Average Speed   Time    Time     Time  Current\n",
      "                                 Dload  Upload   Total   Spent    Left  Speed\n",
      "100 2887k  100 2887k    0     0   682k      0  0:00:04  0:00:04 --:--:--  682k\n"
     ]
    }
   ],
   "source": [
    "!curl -O https://gannet.fish.washington.edu/seashell/bu-mox/scrubbed/061620-Pact-annotation/Pact_blastp_sp.tab\n"
   ]
  },
  {
   "cell_type": "code",
   "execution_count": 5,
   "metadata": {},
   "outputs": [
    {
     "name": "stdout",
     "output_type": "stream",
     "text": [
      "Pact_blastp_sp.tab               Pocillopora_acuta_protein.fasta\n"
     ]
    }
   ],
   "source": [
    "ls "
   ]
  },
  {
   "cell_type": "code",
   "execution_count": 7,
   "metadata": {},
   "outputs": [
    {
     "name": "stdout",
     "output_type": "stream",
     "text": [
      "/Users/sr320/Documents/GitHub/nb-2020/P_acuta\n"
     ]
    }
   ],
   "source": [
    "cd .."
   ]
  },
  {
   "cell_type": "code",
   "execution_count": 8,
   "metadata": {},
   "outputs": [
    {
     "name": "stdout",
     "output_type": "stream",
     "text": [
      "g3\tsp|Q96AY4|TTC28_HUMAN\t26.782\t982\t569\t27\t1\t845\t749\t1717\t1.91e-83\t296\n",
      "g3\tsp|Q96AY4|TTC28_HUMAN\t27.887\t355\t253\t3\t1\t354\t509\t861\t2.82e-35\t149\n",
      "g3\tsp|Q96AY4|TTC28_HUMAN\t27.654\t358\t258\t1\t6\t363\t234\t590\t7.71e-35\t147\n",
      "g3\tsp|Q96AY4|TTC28_HUMAN\t28.492\t358\t215\t2\t1\t318\t309\t665\t1.23e-34\t147\n",
      "g3\tsp|Q96AY4|TTC28_HUMAN\t27.049\t366\t266\t1\t5\t370\t433\t797\t3.07e-28\t126\n",
      "g4\tsp|Q9UBV2|SE1L1_HUMAN\t60.476\t210\t75\t2\t2\t206\t559\t765\t1.96e-83\t266\n",
      "g4\tsp|Q9UBV2|SE1L1_HUMAN\t31.148\t122\t75\t3\t15\t134\t432\t546\t1.08e-06\t52.0\n",
      "g5\tsp|Q9Z2G6|SE1L1_MOUSE\t64.948\t97\t34\t0\t5\t101\t415\t511\t1.81e-39\t142\n",
      "g5\tsp|Q9Z2G6|SE1L1_MOUSE\t29.592\t98\t69\t0\t13\t110\t231\t328\t3.18e-07\t50.4\n",
      "g5\tsp|Q9Z2G6|SE1L1_MOUSE\t30.435\t92\t60\t2\t16\t103\t603\t694\t3.82e-07\t50.4\n"
     ]
    }
   ],
   "source": [
    "!head data/Pact_blastp_sp.tab"
   ]
  },
  {
   "cell_type": "code",
   "execution_count": 9,
   "metadata": {
    "ExecuteTime": {
     "end_time": "2020-03-06T23:13:50.545474Z",
     "start_time": "2020-03-06T23:13:49.867970Z"
    }
   },
   "outputs": [
    {
     "name": "stdout",
     "output_type": "stream",
     "text": [
      "Q96AY4\n",
      "Q96AY4\n",
      "Q96AY4\n",
      "Q96AY4\n",
      "Q96AY4\n",
      "Q9UBV2\n",
      "Q9UBV2\n",
      "Q9Z2G6\n",
      "Q9Z2G6\n",
      "Q9Z2G6\n"
     ]
    }
   ],
   "source": [
    "!tr '|' '\\t' < data/Pact_blastp_sp.tab \\\n",
    "| cut -f3 | head"
   ]
  },
  {
   "cell_type": "code",
   "execution_count": 11,
   "metadata": {
    "ExecuteTime": {
     "end_time": "2020-03-06T23:13:50.545474Z",
     "start_time": "2020-03-06T23:13:49.867970Z"
    }
   },
   "outputs": [],
   "source": [
    "!tr '|' '\\t' < data/Pact_blastp_sp.tab \\\n",
    "| cut -f3 | sort | uniq | pbcopy"
   ]
  },
  {
   "cell_type": "code",
   "execution_count": null,
   "metadata": {},
   "outputs": [],
   "source": []
  }
 ],
 "metadata": {
  "kernelspec": {
   "display_name": "Python 3",
   "language": "python",
   "name": "python3"
  },
  "language_info": {
   "codemirror_mode": {
    "name": "ipython",
    "version": 3
   },
   "file_extension": ".py",
   "mimetype": "text/x-python",
   "name": "python",
   "nbconvert_exporter": "python",
   "pygments_lexer": "ipython3",
   "version": "3.6.8"
  }
 },
 "nbformat": 4,
 "nbformat_minor": 2
}
