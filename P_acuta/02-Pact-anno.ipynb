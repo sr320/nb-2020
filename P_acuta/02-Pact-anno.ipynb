{
 "cells": [
  {
   "cell_type": "code",
   "execution_count": 1,
   "metadata": {},
   "outputs": [
    {
     "name": "stdout",
     "output_type": "stream",
     "text": [
      "01-get-fasta.ipynb  02-Pact-anno.ipynb  \u001b[34manalyses\u001b[m\u001b[m/           \u001b[34mdata\u001b[m\u001b[m/\n"
     ]
    }
   ],
   "source": [
    "ls"
   ]
  },
  {
   "cell_type": "code",
   "execution_count": 2,
   "metadata": {},
   "outputs": [
    {
     "name": "stdout",
     "output_type": "stream",
     "text": [
      "/Users/sr320/Documents/GitHub/nb-2020/P_acuta/data\n"
     ]
    }
   ],
   "source": [
    "cd data/"
   ]
  },
  {
   "cell_type": "code",
   "execution_count": 4,
   "metadata": {},
   "outputs": [
    {
     "name": "stdout",
     "output_type": "stream",
     "text": [
      "  % Total    % Received % Xferd  Average Speed   Time    Time     Time  Current\n",
      "                                 Dload  Upload   Total   Spent    Left  Speed\n",
      "100 2887k  100 2887k    0     0   682k      0  0:00:04  0:00:04 --:--:--  682k\n"
     ]
    }
   ],
   "source": [
    "!curl -O https://gannet.fish.washington.edu/seashell/bu-mox/scrubbed/061620-Pact-annotation/Pact_blastp_sp.tab\n"
   ]
  },
  {
   "cell_type": "code",
   "execution_count": 5,
   "metadata": {},
   "outputs": [
    {
     "name": "stdout",
     "output_type": "stream",
     "text": [
      "Pact_blastp_sp.tab               Pocillopora_acuta_protein.fasta\n"
     ]
    }
   ],
   "source": [
    "ls "
   ]
  },
  {
   "cell_type": "code",
   "execution_count": 7,
   "metadata": {},
   "outputs": [
    {
     "name": "stdout",
     "output_type": "stream",
     "text": [
      "/Users/sr320/Documents/GitHub/nb-2020/P_acuta\n"
     ]
    }
   ],
   "source": [
    "cd .."
   ]
  },
  {
   "cell_type": "code",
   "execution_count": 8,
   "metadata": {},
   "outputs": [
    {
     "name": "stdout",
     "output_type": "stream",
     "text": [
      "g3\tsp|Q96AY4|TTC28_HUMAN\t26.782\t982\t569\t27\t1\t845\t749\t1717\t1.91e-83\t296\n",
      "g3\tsp|Q96AY4|TTC28_HUMAN\t27.887\t355\t253\t3\t1\t354\t509\t861\t2.82e-35\t149\n",
      "g3\tsp|Q96AY4|TTC28_HUMAN\t27.654\t358\t258\t1\t6\t363\t234\t590\t7.71e-35\t147\n",
      "g3\tsp|Q96AY4|TTC28_HUMAN\t28.492\t358\t215\t2\t1\t318\t309\t665\t1.23e-34\t147\n",
      "g3\tsp|Q96AY4|TTC28_HUMAN\t27.049\t366\t266\t1\t5\t370\t433\t797\t3.07e-28\t126\n",
      "g4\tsp|Q9UBV2|SE1L1_HUMAN\t60.476\t210\t75\t2\t2\t206\t559\t765\t1.96e-83\t266\n",
      "g4\tsp|Q9UBV2|SE1L1_HUMAN\t31.148\t122\t75\t3\t15\t134\t432\t546\t1.08e-06\t52.0\n",
      "g5\tsp|Q9Z2G6|SE1L1_MOUSE\t64.948\t97\t34\t0\t5\t101\t415\t511\t1.81e-39\t142\n",
      "g5\tsp|Q9Z2G6|SE1L1_MOUSE\t29.592\t98\t69\t0\t13\t110\t231\t328\t3.18e-07\t50.4\n",
      "g5\tsp|Q9Z2G6|SE1L1_MOUSE\t30.435\t92\t60\t2\t16\t103\t603\t694\t3.82e-07\t50.4\n"
     ]
    }
   ],
   "source": [
    "!head data/Pact_blastp_sp.tab"
   ]
  },
  {
   "cell_type": "code",
   "execution_count": 9,
   "metadata": {
    "ExecuteTime": {
     "end_time": "2020-03-06T23:13:50.545474Z",
     "start_time": "2020-03-06T23:13:49.867970Z"
    }
   },
   "outputs": [
    {
     "name": "stdout",
     "output_type": "stream",
     "text": [
      "Q96AY4\n",
      "Q96AY4\n",
      "Q96AY4\n",
      "Q96AY4\n",
      "Q96AY4\n",
      "Q9UBV2\n",
      "Q9UBV2\n",
      "Q9Z2G6\n",
      "Q9Z2G6\n",
      "Q9Z2G6\n"
     ]
    }
   ],
   "source": [
    "!tr '|' '\\t' < data/Pact_blastp_sp.tab \\\n",
    "| cut -f3 | head"
   ]
  },
  {
   "cell_type": "code",
   "execution_count": 11,
   "metadata": {
    "ExecuteTime": {
     "end_time": "2020-03-06T23:13:50.545474Z",
     "start_time": "2020-03-06T23:13:49.867970Z"
    }
   },
   "outputs": [],
   "source": [
    "!tr '|' '\\t' < data/Pact_blastp_sp.tab \\\n",
    "| cut -f3 | sort | uniq | pbcopy"
   ]
  },
  {
   "cell_type": "markdown",
   "metadata": {},
   "source": [
    "![go](http://gannet.fish.washington.edu/seashell/snaps/Screen_Shot_on_2020-06-19_at_083137.png)"
   ]
  },
  {
   "cell_type": "code",
   "execution_count": 16,
   "metadata": {},
   "outputs": [
    {
     "name": "stdout",
     "output_type": "stream",
     "text": [
      "Entry\tEntry name\tStatus\tProtein names\tGene names\tOrganism\tLength\tGene ontology (biological process)\tGene ontology (cellular component)\tGene ontology (GO)\tGene ontology (molecular function)\tGene ontology IDs\tCross-reference (KO)\tCross-reference (KEGG)\n",
      "A0A044RE18\tBLI_ONCVO\treviewed\tEndoprotease bli (EC 3.4.21.75) (Blisterase)\tBli\tOnchocerca volvulus\t693\tcellular response to salt [GO:1902075]; chemosensory behavior [GO:0007635]; collagen and cuticulin-based cuticle development [GO:0040002]; dibasic protein processing [GO:0090472]; positive regulation of synaptic growth at neuromuscular junction [GO:0045887]; zymogen activation [GO:0031638]\textracellular region [GO:0005576]; nucleus [GO:0005634]\textracellular region [GO:0005576]; nucleus [GO:0005634]; metal ion binding [GO:0046872]; serine-type endopeptidase activity [GO:0004252]; cellular response to salt [GO:1902075]; chemosensory behavior [GO:0007635]; collagen and cuticulin-based cuticle development [GO:0040002]; dibasic protein processing [GO:0090472]; positive regulation of synaptic growth at neuromuscular junction [GO:0045887]; zymogen activation [GO:0031638]\tmetal ion binding [GO:0046872]; serine-type endopeptidase activity [GO:0004252]\tGO:0004252; GO:0005576; GO:0005634; GO:0007635; GO:0031638; GO:0040002; GO:0045887; GO:0046872; GO:0090472; GO:1902075\t\t\n",
      "A0A087WPF7\tAUTS2_MOUSE\treviewed\tAutism susceptibility gene 2 protein homolog\tAuts2 Kiaa0442\tMus musculus (Mouse)\t1261\tactin cytoskeleton reorganization [GO:0031532]; axon extension [GO:0048675]; dendrite extension [GO:0097484]; innate vocalization behavior [GO:0098582]; neuron migration [GO:0001764]; positive regulation of histone H3-K4 methylation [GO:0051571]; positive regulation of histone H4-K16 acetylation [GO:2000620]; positive regulation of lamellipodium assembly [GO:0010592]; positive regulation of Rac protein signal transduction [GO:0035022]; positive regulation of transcription by RNA polymerase II [GO:0045944]; righting reflex [GO:0060013]\tcytoplasm [GO:0005737]; cytoskeleton [GO:0005856]; growth cone [GO:0030426]; nucleus [GO:0005634]\tcytoplasm [GO:0005737]; cytoskeleton [GO:0005856]; growth cone [GO:0030426]; nucleus [GO:0005634]; chromatin binding [GO:0003682]; actin cytoskeleton reorganization [GO:0031532]; axon extension [GO:0048675]; dendrite extension [GO:0097484]; innate vocalization behavior [GO:0098582]; neuron migration [GO:0001764]; positive regulation of histone H3-K4 methylation [GO:0051571]; positive regulation of histone H4-K16 acetylation [GO:2000620]; positive regulation of lamellipodium assembly [GO:0010592]; positive regulation of Rac protein signal transduction [GO:0035022]; positive regulation of transcription by RNA polymerase II [GO:0045944]; righting reflex [GO:0060013]\tchromatin binding [GO:0003682]\tGO:0001764; GO:0003682; GO:0005634; GO:0005737; GO:0005856; GO:0010592; GO:0030426; GO:0031532; GO:0035022; GO:0045944; GO:0048675; GO:0051571; GO:0060013; GO:0097484; GO:0098582; GO:2000620\t\t\n",
      "A0A0B4J2F0\tPIOS1_HUMAN\treviewed\tProtein PIGBOS1 (PIGB opposite strand protein 1)\tPIGBOS1\tHomo sapiens (Human)\t54\tregulation of endoplasmic reticulum unfolded protein response [GO:1900101]; response to unfolded protein [GO:0006986]\tintegral component of mitochondrial outer membrane [GO:0031307]\tintegral component of mitochondrial outer membrane [GO:0031307]; regulation of endoplasmic reticulum unfolded protein response [GO:1900101]; response to unfolded protein [GO:0006986]\t\tGO:0006986; GO:0031307; GO:1900101\t\thsa:101928527;\n",
      "A0A0B4K7J2\tRBP2_DROME\treviewed\tE3 SUMO-protein ligase RanBP2 (EC 2.3.2.-) (358 kDa nucleoporin) (Nuclear pore complex protein Nup358)\tNup358 RanBP2 CG11856\tDrosophila melanogaster (Fruit fly)\t2718\tgerm cell development [GO:0007281]; juvenile hormone mediated signaling pathway [GO:0035626]; mRNA transport [GO:0051028]; NLS-bearing protein import into nucleus [GO:0006607]; nuclear pore complex assembly [GO:0051292]; piRNA metabolic process [GO:0034587]; positive regulation of cell population proliferation [GO:0008284]; positive regulation of gene expression [GO:0010628]; positive regulation of GTPase activity [GO:0043547]; positive regulation of protein localization to nucleus [GO:1900182]; positive regulation of RNA export from nucleus [GO:0046833]; protein import into nucleus [GO:0006606]; regulation of cellular protein localization [GO:1903827]; regulation of transposition [GO:0010528]; ventral cord development [GO:0007419]\tannulate lamellae [GO:0005642]; cytoplasm [GO:0005737]; nuclear pore [GO:0005643]; nucleus [GO:0005634]\tannulate lamellae [GO:0005642]; cytoplasm [GO:0005737]; nuclear pore [GO:0005643]; nucleus [GO:0005634]; metal ion binding [GO:0046872]; Ran GTPase binding [GO:0008536]; SUMO transferase activity [GO:0019789]; germ cell development [GO:0007281]; juvenile hormone mediated signaling pathway [GO:0035626]; mRNA transport [GO:0051028]; NLS-bearing protein import into nucleus [GO:0006607]; nuclear pore complex assembly [GO:0051292]; piRNA metabolic process [GO:0034587]; positive regulation of cell population proliferation [GO:0008284]; positive regulation of gene expression [GO:0010628]; positive regulation of GTPase activity [GO:0043547]; positive regulation of protein localization to nucleus [GO:1900182]; positive regulation of RNA export from nucleus [GO:0046833]; protein import into nucleus [GO:0006606]; regulation of cellular protein localization [GO:1903827]; regulation of transposition [GO:0010528]; ventral cord development [GO:0007419]\tmetal ion binding [GO:0046872]; Ran GTPase binding [GO:0008536]; SUMO transferase activity [GO:0019789]\tGO:0005634; GO:0005642; GO:0005643; GO:0005737; GO:0006606; GO:0006607; GO:0007281; GO:0007419; GO:0008284; GO:0008536; GO:0010528; GO:0010628; GO:0019789; GO:0034587; GO:0035626; GO:0043547; GO:0046833; GO:0046872; GO:0051028; GO:0051292; GO:1900182; GO:1903827\tK12172;\tdme:Dmel_CG11856;\n"
     ]
    }
   ],
   "source": [
    "!head -5 analyses/uniprot-yourlist_M2020_1A4C9M.tab"
   ]
  },
  {
   "cell_type": "code",
   "execution_count": 17,
   "metadata": {},
   "outputs": [],
   "source": [
    "!cat analyses/uniprot-yourlist_M2020_1A4C9M.tab | sort > analyses/uniprot-yourlist_M2020_1A4C9M.sorted"
   ]
  },
  {
   "cell_type": "code",
   "execution_count": 18,
   "metadata": {
    "ExecuteTime": {
     "end_time": "2020-03-06T23:13:50.545474Z",
     "start_time": "2020-03-06T23:13:49.867970Z"
    }
   },
   "outputs": [
    {
     "name": "stdout",
     "output_type": "stream",
     "text": [
      "A0A044RE18\tg18446\t2.18e-76\n",
      "A0A044RE18\tg30959\t1.62e-32\n",
      "A0A044RE18\tg63231\t1.20e-84\n",
      "A0A087WPF7\tg26506\t4.13e-06\n",
      "A0A0B4J2F0\tg24352\t6.38e-06\n",
      "A0A0B4K7J2\tg10152\t1.68e-25\n",
      "A0A0B4K7J2\tg10152\t2.65e-31\n",
      "A0A0B4K7J2\tg10152\t2.91e-25\n",
      "A0A0B4K7J2\tg10152\t3.60e-63\n",
      "A0A0B4K7J2\tg10152\t6.85e-27\n",
      "sort: Broken pipe\n"
     ]
    }
   ],
   "source": [
    "!tr '|' '\\t' < data/Pact_blastp_sp.tab \\\n",
    "| awk  -F $'\\t' 'BEGIN {OFS = FS} {print $3, $1, $13}' | sort | head\n",
    "#analyses/Mcap_blastp_sp"
   ]
  },
  {
   "cell_type": "code",
   "execution_count": 19,
   "metadata": {
    "ExecuteTime": {
     "end_time": "2020-03-06T23:13:50.545474Z",
     "start_time": "2020-03-06T23:13:49.867970Z"
    }
   },
   "outputs": [],
   "source": [
    "!tr '|' '\\t' < data/Pact_blastp_sp.tab \\\n",
    "| awk  -F $'\\t' 'BEGIN {OFS = FS} {print $3, $1, $13}' | sort \\\n",
    "> analyses/Pact_blastp_sp.sorted"
   ]
  },
  {
   "cell_type": "code",
   "execution_count": 20,
   "metadata": {},
   "outputs": [],
   "source": [
    "#joining files to ge\n",
    "!join -1 1 -2 1 -t $'\\t' \\\n",
    "analyses/Pact_blastp_sp.sorted \\\n",
    "analyses/uniprot-yourlist_M2020_1A4C9M.sorted \\\n",
    "> analyses/Pact-GO-KO-Kegg.tab"
   ]
  },
  {
   "cell_type": "code",
   "execution_count": 21,
   "metadata": {},
   "outputs": [
    {
     "name": "stdout",
     "output_type": "stream",
     "text": [
      "A0A044RE18\tg18446\t2.18e-76\tBLI_ONCVO\treviewed\tEndoprotease bli (EC 3.4.21.75) (Blisterase)\tBli\tOnchocerca volvulus\t693\tcellular response to salt [GO:1902075]; chemosensory behavior [GO:0007635]; collagen and cuticulin-based cuticle development [GO:0040002]; dibasic protein processing [GO:0090472]; positive regulation of synaptic growth at neuromuscular junction [GO:0045887]; zymogen activation [GO:0031638]\textracellular region [GO:0005576]; nucleus [GO:0005634]\textracellular region [GO:0005576]; nucleus [GO:0005634]; metal ion binding [GO:0046872]; serine-type endopeptidase activity [GO:0004252]; cellular response to salt [GO:1902075]; chemosensory behavior [GO:0007635]; collagen and cuticulin-based cuticle development [GO:0040002]; dibasic protein processing [GO:0090472]; positive regulation of synaptic growth at neuromuscular junction [GO:0045887]; zymogen activation [GO:0031638]\tmetal ion binding [GO:0046872]; serine-type endopeptidase activity [GO:0004252]\tGO:0004252; GO:0005576; GO:0005634; GO:0007635; GO:0031638; GO:0040002; GO:0045887; GO:0046872; GO:0090472; GO:1902075\t\t\n",
      "A0A044RE18\tg30959\t1.62e-32\tBLI_ONCVO\treviewed\tEndoprotease bli (EC 3.4.21.75) (Blisterase)\tBli\tOnchocerca volvulus\t693\tcellular response to salt [GO:1902075]; chemosensory behavior [GO:0007635]; collagen and cuticulin-based cuticle development [GO:0040002]; dibasic protein processing [GO:0090472]; positive regulation of synaptic growth at neuromuscular junction [GO:0045887]; zymogen activation [GO:0031638]\textracellular region [GO:0005576]; nucleus [GO:0005634]\textracellular region [GO:0005576]; nucleus [GO:0005634]; metal ion binding [GO:0046872]; serine-type endopeptidase activity [GO:0004252]; cellular response to salt [GO:1902075]; chemosensory behavior [GO:0007635]; collagen and cuticulin-based cuticle development [GO:0040002]; dibasic protein processing [GO:0090472]; positive regulation of synaptic growth at neuromuscular junction [GO:0045887]; zymogen activation [GO:0031638]\tmetal ion binding [GO:0046872]; serine-type endopeptidase activity [GO:0004252]\tGO:0004252; GO:0005576; GO:0005634; GO:0007635; GO:0031638; GO:0040002; GO:0045887; GO:0046872; GO:0090472; GO:1902075\t\t\n",
      "A0A044RE18\tg63231\t1.20e-84\tBLI_ONCVO\treviewed\tEndoprotease bli (EC 3.4.21.75) (Blisterase)\tBli\tOnchocerca volvulus\t693\tcellular response to salt [GO:1902075]; chemosensory behavior [GO:0007635]; collagen and cuticulin-based cuticle development [GO:0040002]; dibasic protein processing [GO:0090472]; positive regulation of synaptic growth at neuromuscular junction [GO:0045887]; zymogen activation [GO:0031638]\textracellular region [GO:0005576]; nucleus [GO:0005634]\textracellular region [GO:0005576]; nucleus [GO:0005634]; metal ion binding [GO:0046872]; serine-type endopeptidase activity [GO:0004252]; cellular response to salt [GO:1902075]; chemosensory behavior [GO:0007635]; collagen and cuticulin-based cuticle development [GO:0040002]; dibasic protein processing [GO:0090472]; positive regulation of synaptic growth at neuromuscular junction [GO:0045887]; zymogen activation [GO:0031638]\tmetal ion binding [GO:0046872]; serine-type endopeptidase activity [GO:0004252]\tGO:0004252; GO:0005576; GO:0005634; GO:0007635; GO:0031638; GO:0040002; GO:0045887; GO:0046872; GO:0090472; GO:1902075\t\t\n",
      "A0A087WPF7\tg26506\t4.13e-06\tAUTS2_MOUSE\treviewed\tAutism susceptibility gene 2 protein homolog\tAuts2 Kiaa0442\tMus musculus (Mouse)\t1261\tactin cytoskeleton reorganization [GO:0031532]; axon extension [GO:0048675]; dendrite extension [GO:0097484]; innate vocalization behavior [GO:0098582]; neuron migration [GO:0001764]; positive regulation of histone H3-K4 methylation [GO:0051571]; positive regulation of histone H4-K16 acetylation [GO:2000620]; positive regulation of lamellipodium assembly [GO:0010592]; positive regulation of Rac protein signal transduction [GO:0035022]; positive regulation of transcription by RNA polymerase II [GO:0045944]; righting reflex [GO:0060013]\tcytoplasm [GO:0005737]; cytoskeleton [GO:0005856]; growth cone [GO:0030426]; nucleus [GO:0005634]\tcytoplasm [GO:0005737]; cytoskeleton [GO:0005856]; growth cone [GO:0030426]; nucleus [GO:0005634]; chromatin binding [GO:0003682]; actin cytoskeleton reorganization [GO:0031532]; axon extension [GO:0048675]; dendrite extension [GO:0097484]; innate vocalization behavior [GO:0098582]; neuron migration [GO:0001764]; positive regulation of histone H3-K4 methylation [GO:0051571]; positive regulation of histone H4-K16 acetylation [GO:2000620]; positive regulation of lamellipodium assembly [GO:0010592]; positive regulation of Rac protein signal transduction [GO:0035022]; positive regulation of transcription by RNA polymerase II [GO:0045944]; righting reflex [GO:0060013]\tchromatin binding [GO:0003682]\tGO:0001764; GO:0003682; GO:0005634; GO:0005737; GO:0005856; GO:0010592; GO:0030426; GO:0031532; GO:0035022; GO:0045944; GO:0048675; GO:0051571; GO:0060013; GO:0097484; GO:0098582; GO:2000620\t\t\n",
      "A0A0B4J2F0\tg24352\t6.38e-06\tPIOS1_HUMAN\treviewed\tProtein PIGBOS1 (PIGB opposite strand protein 1)\tPIGBOS1\tHomo sapiens (Human)\t54\tregulation of endoplasmic reticulum unfolded protein response [GO:1900101]; response to unfolded protein [GO:0006986]\tintegral component of mitochondrial outer membrane [GO:0031307]\tintegral component of mitochondrial outer membrane [GO:0031307]; regulation of endoplasmic reticulum unfolded protein response [GO:1900101]; response to unfolded protein [GO:0006986]\t\tGO:0006986; GO:0031307; GO:1900101\t\thsa:101928527;\n",
      "A0A0B4K7J2\tg10152\t1.68e-25\tRBP2_DROME\treviewed\tE3 SUMO-protein ligase RanBP2 (EC 2.3.2.-) (358 kDa nucleoporin) (Nuclear pore complex protein Nup358)\tNup358 RanBP2 CG11856\tDrosophila melanogaster (Fruit fly)\t2718\tgerm cell development [GO:0007281]; juvenile hormone mediated signaling pathway [GO:0035626]; mRNA transport [GO:0051028]; NLS-bearing protein import into nucleus [GO:0006607]; nuclear pore complex assembly [GO:0051292]; piRNA metabolic process [GO:0034587]; positive regulation of cell population proliferation [GO:0008284]; positive regulation of gene expression [GO:0010628]; positive regulation of GTPase activity [GO:0043547]; positive regulation of protein localization to nucleus [GO:1900182]; positive regulation of RNA export from nucleus [GO:0046833]; protein import into nucleus [GO:0006606]; regulation of cellular protein localization [GO:1903827]; regulation of transposition [GO:0010528]; ventral cord development [GO:0007419]\tannulate lamellae [GO:0005642]; cytoplasm [GO:0005737]; nuclear pore [GO:0005643]; nucleus [GO:0005634]\tannulate lamellae [GO:0005642]; cytoplasm [GO:0005737]; nuclear pore [GO:0005643]; nucleus [GO:0005634]; metal ion binding [GO:0046872]; Ran GTPase binding [GO:0008536]; SUMO transferase activity [GO:0019789]; germ cell development [GO:0007281]; juvenile hormone mediated signaling pathway [GO:0035626]; mRNA transport [GO:0051028]; NLS-bearing protein import into nucleus [GO:0006607]; nuclear pore complex assembly [GO:0051292]; piRNA metabolic process [GO:0034587]; positive regulation of cell population proliferation [GO:0008284]; positive regulation of gene expression [GO:0010628]; positive regulation of GTPase activity [GO:0043547]; positive regulation of protein localization to nucleus [GO:1900182]; positive regulation of RNA export from nucleus [GO:0046833]; protein import into nucleus [GO:0006606]; regulation of cellular protein localization [GO:1903827]; regulation of transposition [GO:0010528]; ventral cord development [GO:0007419]\tmetal ion binding [GO:0046872]; Ran GTPase binding [GO:0008536]; SUMO transferase activity [GO:0019789]\tGO:0005634; GO:0005642; GO:0005643; GO:0005737; GO:0006606; GO:0006607; GO:0007281; GO:0007419; GO:0008284; GO:0008536; GO:0010528; GO:0010628; GO:0019789; GO:0034587; GO:0035626; GO:0043547; GO:0046833; GO:0046872; GO:0051028; GO:0051292; GO:1900182; GO:1903827\tK12172;\tdme:Dmel_CG11856;\n",
      "A0A0B4K7J2\tg10152\t2.65e-31\tRBP2_DROME\treviewed\tE3 SUMO-protein ligase RanBP2 (EC 2.3.2.-) (358 kDa nucleoporin) (Nuclear pore complex protein Nup358)\tNup358 RanBP2 CG11856\tDrosophila melanogaster (Fruit fly)\t2718\tgerm cell development [GO:0007281]; juvenile hormone mediated signaling pathway [GO:0035626]; mRNA transport [GO:0051028]; NLS-bearing protein import into nucleus [GO:0006607]; nuclear pore complex assembly [GO:0051292]; piRNA metabolic process [GO:0034587]; positive regulation of cell population proliferation [GO:0008284]; positive regulation of gene expression [GO:0010628]; positive regulation of GTPase activity [GO:0043547]; positive regulation of protein localization to nucleus [GO:1900182]; positive regulation of RNA export from nucleus [GO:0046833]; protein import into nucleus [GO:0006606]; regulation of cellular protein localization [GO:1903827]; regulation of transposition [GO:0010528]; ventral cord development [GO:0007419]\tannulate lamellae [GO:0005642]; cytoplasm [GO:0005737]; nuclear pore [GO:0005643]; nucleus [GO:0005634]\tannulate lamellae [GO:0005642]; cytoplasm [GO:0005737]; nuclear pore [GO:0005643]; nucleus [GO:0005634]; metal ion binding [GO:0046872]; Ran GTPase binding [GO:0008536]; SUMO transferase activity [GO:0019789]; germ cell development [GO:0007281]; juvenile hormone mediated signaling pathway [GO:0035626]; mRNA transport [GO:0051028]; NLS-bearing protein import into nucleus [GO:0006607]; nuclear pore complex assembly [GO:0051292]; piRNA metabolic process [GO:0034587]; positive regulation of cell population proliferation [GO:0008284]; positive regulation of gene expression [GO:0010628]; positive regulation of GTPase activity [GO:0043547]; positive regulation of protein localization to nucleus [GO:1900182]; positive regulation of RNA export from nucleus [GO:0046833]; protein import into nucleus [GO:0006606]; regulation of cellular protein localization [GO:1903827]; regulation of transposition [GO:0010528]; ventral cord development [GO:0007419]\tmetal ion binding [GO:0046872]; Ran GTPase binding [GO:0008536]; SUMO transferase activity [GO:0019789]\tGO:0005634; GO:0005642; GO:0005643; GO:0005737; GO:0006606; GO:0006607; GO:0007281; GO:0007419; GO:0008284; GO:0008536; GO:0010528; GO:0010628; GO:0019789; GO:0034587; GO:0035626; GO:0043547; GO:0046833; GO:0046872; GO:0051028; GO:0051292; GO:1900182; GO:1903827\tK12172;\tdme:Dmel_CG11856;\n",
      "A0A0B4K7J2\tg10152\t2.91e-25\tRBP2_DROME\treviewed\tE3 SUMO-protein ligase RanBP2 (EC 2.3.2.-) (358 kDa nucleoporin) (Nuclear pore complex protein Nup358)\tNup358 RanBP2 CG11856\tDrosophila melanogaster (Fruit fly)\t2718\tgerm cell development [GO:0007281]; juvenile hormone mediated signaling pathway [GO:0035626]; mRNA transport [GO:0051028]; NLS-bearing protein import into nucleus [GO:0006607]; nuclear pore complex assembly [GO:0051292]; piRNA metabolic process [GO:0034587]; positive regulation of cell population proliferation [GO:0008284]; positive regulation of gene expression [GO:0010628]; positive regulation of GTPase activity [GO:0043547]; positive regulation of protein localization to nucleus [GO:1900182]; positive regulation of RNA export from nucleus [GO:0046833]; protein import into nucleus [GO:0006606]; regulation of cellular protein localization [GO:1903827]; regulation of transposition [GO:0010528]; ventral cord development [GO:0007419]\tannulate lamellae [GO:0005642]; cytoplasm [GO:0005737]; nuclear pore [GO:0005643]; nucleus [GO:0005634]\tannulate lamellae [GO:0005642]; cytoplasm [GO:0005737]; nuclear pore [GO:0005643]; nucleus [GO:0005634]; metal ion binding [GO:0046872]; Ran GTPase binding [GO:0008536]; SUMO transferase activity [GO:0019789]; germ cell development [GO:0007281]; juvenile hormone mediated signaling pathway [GO:0035626]; mRNA transport [GO:0051028]; NLS-bearing protein import into nucleus [GO:0006607]; nuclear pore complex assembly [GO:0051292]; piRNA metabolic process [GO:0034587]; positive regulation of cell population proliferation [GO:0008284]; positive regulation of gene expression [GO:0010628]; positive regulation of GTPase activity [GO:0043547]; positive regulation of protein localization to nucleus [GO:1900182]; positive regulation of RNA export from nucleus [GO:0046833]; protein import into nucleus [GO:0006606]; regulation of cellular protein localization [GO:1903827]; regulation of transposition [GO:0010528]; ventral cord development [GO:0007419]\tmetal ion binding [GO:0046872]; Ran GTPase binding [GO:0008536]; SUMO transferase activity [GO:0019789]\tGO:0005634; GO:0005642; GO:0005643; GO:0005737; GO:0006606; GO:0006607; GO:0007281; GO:0007419; GO:0008284; GO:0008536; GO:0010528; GO:0010628; GO:0019789; GO:0034587; GO:0035626; GO:0043547; GO:0046833; GO:0046872; GO:0051028; GO:0051292; GO:1900182; GO:1903827\tK12172;\tdme:Dmel_CG11856;\n",
      "A0A0B4K7J2\tg10152\t3.60e-63\tRBP2_DROME\treviewed\tE3 SUMO-protein ligase RanBP2 (EC 2.3.2.-) (358 kDa nucleoporin) (Nuclear pore complex protein Nup358)\tNup358 RanBP2 CG11856\tDrosophila melanogaster (Fruit fly)\t2718\tgerm cell development [GO:0007281]; juvenile hormone mediated signaling pathway [GO:0035626]; mRNA transport [GO:0051028]; NLS-bearing protein import into nucleus [GO:0006607]; nuclear pore complex assembly [GO:0051292]; piRNA metabolic process [GO:0034587]; positive regulation of cell population proliferation [GO:0008284]; positive regulation of gene expression [GO:0010628]; positive regulation of GTPase activity [GO:0043547]; positive regulation of protein localization to nucleus [GO:1900182]; positive regulation of RNA export from nucleus [GO:0046833]; protein import into nucleus [GO:0006606]; regulation of cellular protein localization [GO:1903827]; regulation of transposition [GO:0010528]; ventral cord development [GO:0007419]\tannulate lamellae [GO:0005642]; cytoplasm [GO:0005737]; nuclear pore [GO:0005643]; nucleus [GO:0005634]\tannulate lamellae [GO:0005642]; cytoplasm [GO:0005737]; nuclear pore [GO:0005643]; nucleus [GO:0005634]; metal ion binding [GO:0046872]; Ran GTPase binding [GO:0008536]; SUMO transferase activity [GO:0019789]; germ cell development [GO:0007281]; juvenile hormone mediated signaling pathway [GO:0035626]; mRNA transport [GO:0051028]; NLS-bearing protein import into nucleus [GO:0006607]; nuclear pore complex assembly [GO:0051292]; piRNA metabolic process [GO:0034587]; positive regulation of cell population proliferation [GO:0008284]; positive regulation of gene expression [GO:0010628]; positive regulation of GTPase activity [GO:0043547]; positive regulation of protein localization to nucleus [GO:1900182]; positive regulation of RNA export from nucleus [GO:0046833]; protein import into nucleus [GO:0006606]; regulation of cellular protein localization [GO:1903827]; regulation of transposition [GO:0010528]; ventral cord development [GO:0007419]\tmetal ion binding [GO:0046872]; Ran GTPase binding [GO:0008536]; SUMO transferase activity [GO:0019789]\tGO:0005634; GO:0005642; GO:0005643; GO:0005737; GO:0006606; GO:0006607; GO:0007281; GO:0007419; GO:0008284; GO:0008536; GO:0010528; GO:0010628; GO:0019789; GO:0034587; GO:0035626; GO:0043547; GO:0046833; GO:0046872; GO:0051028; GO:0051292; GO:1900182; GO:1903827\tK12172;\tdme:Dmel_CG11856;\n",
      "A0A0B4K7J2\tg10152\t6.85e-27\tRBP2_DROME\treviewed\tE3 SUMO-protein ligase RanBP2 (EC 2.3.2.-) (358 kDa nucleoporin) (Nuclear pore complex protein Nup358)\tNup358 RanBP2 CG11856\tDrosophila melanogaster (Fruit fly)\t2718\tgerm cell development [GO:0007281]; juvenile hormone mediated signaling pathway [GO:0035626]; mRNA transport [GO:0051028]; NLS-bearing protein import into nucleus [GO:0006607]; nuclear pore complex assembly [GO:0051292]; piRNA metabolic process [GO:0034587]; positive regulation of cell population proliferation [GO:0008284]; positive regulation of gene expression [GO:0010628]; positive regulation of GTPase activity [GO:0043547]; positive regulation of protein localization to nucleus [GO:1900182]; positive regulation of RNA export from nucleus [GO:0046833]; protein import into nucleus [GO:0006606]; regulation of cellular protein localization [GO:1903827]; regulation of transposition [GO:0010528]; ventral cord development [GO:0007419]\tannulate lamellae [GO:0005642]; cytoplasm [GO:0005737]; nuclear pore [GO:0005643]; nucleus [GO:0005634]\tannulate lamellae [GO:0005642]; cytoplasm [GO:0005737]; nuclear pore [GO:0005643]; nucleus [GO:0005634]; metal ion binding [GO:0046872]; Ran GTPase binding [GO:0008536]; SUMO transferase activity [GO:0019789]; germ cell development [GO:0007281]; juvenile hormone mediated signaling pathway [GO:0035626]; mRNA transport [GO:0051028]; NLS-bearing protein import into nucleus [GO:0006607]; nuclear pore complex assembly [GO:0051292]; piRNA metabolic process [GO:0034587]; positive regulation of cell population proliferation [GO:0008284]; positive regulation of gene expression [GO:0010628]; positive regulation of GTPase activity [GO:0043547]; positive regulation of protein localization to nucleus [GO:1900182]; positive regulation of RNA export from nucleus [GO:0046833]; protein import into nucleus [GO:0006606]; regulation of cellular protein localization [GO:1903827]; regulation of transposition [GO:0010528]; ventral cord development [GO:0007419]\tmetal ion binding [GO:0046872]; Ran GTPase binding [GO:0008536]; SUMO transferase activity [GO:0019789]\tGO:0005634; GO:0005642; GO:0005643; GO:0005737; GO:0006606; GO:0006607; GO:0007281; GO:0007419; GO:0008284; GO:0008536; GO:0010528; GO:0010628; GO:0019789; GO:0034587; GO:0035626; GO:0043547; GO:0046833; GO:0046872; GO:0051028; GO:0051292; GO:1900182; GO:1903827\tK12172;\tdme:Dmel_CG11856;\n"
     ]
    }
   ],
   "source": [
    "!head analyses/Pact-GO-KO-Kegg.tab"
   ]
  },
  {
   "cell_type": "code",
   "execution_count": null,
   "metadata": {},
   "outputs": [],
   "source": []
  }
 ],
 "metadata": {
  "kernelspec": {
   "display_name": "Python 3",
   "language": "python",
   "name": "python3"
  },
  "language_info": {
   "codemirror_mode": {
    "name": "ipython",
    "version": 3
   },
   "file_extension": ".py",
   "mimetype": "text/x-python",
   "name": "python",
   "nbconvert_exporter": "python",
   "pygments_lexer": "ipython3",
   "version": "3.6.8"
  }
 },
 "nbformat": 4,
 "nbformat_minor": 2
}
