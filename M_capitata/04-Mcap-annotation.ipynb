{
 "cells": [
  {
   "cell_type": "code",
   "execution_count": 1,
   "metadata": {},
   "outputs": [
    {
     "name": "stdout",
     "output_type": "stream",
     "text": [
      "adi2mcaRNA10013_R0\tsp|A7MBL8|PKN2_DANRE\t53.556\t928\t387\t15\t31\t937\t28\t932\t0.0\t920\n",
      "adi2mcaRNA10016_R5\tsp|O45599|CBD1_CAEEL\t36.283\t113\t55\t3\t18\t114\t1182\t1293\t4.35e-14\t70.5\n",
      "adi2mcaRNA10017_R1\tsp|Q3SZ21|RPP30_BOVIN\t39.286\t280\t152\t6\t1\t277\t1\t265\t1.92e-56\t185\n",
      "adi2mcaRNA10018_R0\tsp|P79218|NK2R_RABIT\t28.136\t295\t195\t8\t7\t291\t37\t324\t3.28e-28\t115\n",
      "adi2mcaRNA10022_R0\tsp|P01024|CO3_HUMAN\t29.592\t1078\t617\t42\t313\t1319\t600\t1606\t2.94e-108\t380\n",
      "adi2mcaRNA10025_R0\tsp|Q4VC17|ATS18_MOUSE\t38.976\t254\t102\t6\t124\t330\t392\t639\t2.07e-45\t177\n",
      "adi2mcaRNA10025_R0\tsp|Q4VC17|ATS18_MOUSE\t29.706\t340\t171\t8\t332\t609\t721\t1054\t2.19e-29\t128\n",
      "adi2mcaRNA10025_R0\tsp|Q4VC17|ATS18_MOUSE\t32.584\t178\t102\t6\t432\t598\t941\t1111\t1.07e-15\t84.7\n",
      "adi2mcaRNA10025_R0\tsp|Q4VC17|ATS18_MOUSE\t31.579\t190\t107\t7\t432\t608\t1001\t1180\t8.61e-13\t75.5\n",
      "adi2mcaRNA10043_R1\tsp|Q9SS04|GSOX1_ARATH\t28.610\t374\t229\t9\t8\t355\t13\t374\t4.34e-39\t149\n"
     ]
    }
   ],
   "source": [
    "!head data/Mcap_blastp_sp.tab"
   ]
  },
  {
   "cell_type": "code",
   "execution_count": 3,
   "metadata": {
    "ExecuteTime": {
     "end_time": "2020-03-06T23:13:50.545474Z",
     "start_time": "2020-03-06T23:13:49.867970Z"
    }
   },
   "outputs": [
    {
     "name": "stdout",
     "output_type": "stream",
     "text": [
      "A7MBL8\n",
      "O45599\n",
      "Q3SZ21\n",
      "P79218\n",
      "P01024\n",
      "Q4VC17\n",
      "Q4VC17\n",
      "Q4VC17\n",
      "Q4VC17\n",
      "Q9SS04\n"
     ]
    }
   ],
   "source": [
    "!tr '|' '\\t' < data/Mcap_blastp_sp.tab \\\n",
    "| cut -f3 | head"
   ]
  },
  {
   "cell_type": "code",
   "execution_count": 3,
   "metadata": {
    "ExecuteTime": {
     "end_time": "2020-03-06T23:14:08.202852Z",
     "start_time": "2020-03-06T23:14:07.642694Z"
    }
   },
   "outputs": [],
   "source": [
    "!tr '|' '\\t' < data/Mcap_blastp_sp.tab \\\n",
    "| cut -f3 | pbcopy"
   ]
  },
  {
   "cell_type": "code",
   "execution_count": 6,
   "metadata": {},
   "outputs": [
    {
     "name": "stdout",
     "output_type": "stream",
     "text": [
      "Entry\tEntry name\tStatus\tProtein names\tGene names\tOrganism\tLength\tGene ontology (biological process)\tGene ontology (cellular component)\tGene ontology (GO)\tGene ontology (molecular function)\tGene ontology IDs\tCross-reference (KO)\tCross-reference (KEGG)\n",
      "A7MBL8\tPKN2_DANRE\treviewed\tSerine/threonine-protein kinase N2 (EC 2.7.11.13) (PKN gamma) (Protein kinase C-like 2) (Protein-kinase C-related kinase 2)\tpkn2 prk2 prkcl2 zgc:153916\tDanio rerio (Zebrafish) (Brachydanio rerio)\t977\tcell adhesion [GO:0007155]; cell cycle [GO:0007049]; cell division [GO:0051301]; intracellular signal transduction [GO:0035556]; peptidyl-serine phosphorylation [GO:0018105]\tcell junction [GO:0030054]; cleavage furrow [GO:0032154]; cytoplasm [GO:0005737]; cytoskeleton [GO:0005856]; lamellipodium [GO:0030027]; midbody [GO:0030496]; nucleus [GO:0005634]\tcell junction [GO:0030054]; cleavage furrow [GO:0032154]; cytoplasm [GO:0005737]; cytoskeleton [GO:0005856]; lamellipodium [GO:0030027]; midbody [GO:0030496]; nucleus [GO:0005634]; ATP binding [GO:0005524]; calcium-dependent protein kinase C activity [GO:0004698]; GTP-Rho binding [GO:0017049]; protein serine/threonine kinase activity [GO:0004674]; cell adhesion [GO:0007155]; cell cycle [GO:0007049]; cell division [GO:0051301]; intracellular signal transduction [GO:0035556]; peptidyl-serine phosphorylation [GO:0018105]\tATP binding [GO:0005524]; calcium-dependent protein kinase C activity [GO:0004698]; GTP-Rho binding [GO:0017049]; protein serine/threonine kinase activity [GO:0004674]\tGO:0004674; GO:0004698; GO:0005524; GO:0005634; GO:0005737; GO:0005856; GO:0007049; GO:0007155; GO:0017049; GO:0018105; GO:0030027; GO:0030054; GO:0030496; GO:0032154; GO:0035556; GO:0051301\tK23691;\tdre:567134;\n"
     ]
    }
   ],
   "source": [
    "!head -2 analyses/uniprot-yourlist%3AM_41ACM.tab"
   ]
  },
  {
   "cell_type": "code",
   "execution_count": 17,
   "metadata": {},
   "outputs": [],
   "source": [
    "!cat analyses/uniprot-yourlist%3AM_41ACM.tab | sort > analyses/uniprot-yourlist%3AM_41ACM.sorted"
   ]
  },
  {
   "cell_type": "code",
   "execution_count": 2,
   "metadata": {
    "ExecuteTime": {
     "end_time": "2020-03-06T22:53:59.003184Z",
     "start_time": "2020-03-06T22:53:58.865568Z"
    }
   },
   "outputs": [
    {
     "name": "stdout",
     "output_type": "stream",
     "text": [
      "adi2mcaRNA10013_R0\tsp|A7MBL8|PKN2_DANRE\t53.556\t928\t387\t15\t31\t937\t28\t932\t0.0\t920\n",
      "adi2mcaRNA10016_R5\tsp|O45599|CBD1_CAEEL\t36.283\t113\t55\t3\t18\t114\t1182\t1293\t4.35e-14\t70.5\n",
      "adi2mcaRNA10017_R1\tsp|Q3SZ21|RPP30_BOVIN\t39.286\t280\t152\t6\t1\t277\t1\t265\t1.92e-56\t185\n",
      "adi2mcaRNA10018_R0\tsp|P79218|NK2R_RABIT\t28.136\t295\t195\t8\t7\t291\t37\t324\t3.28e-28\t115\n",
      "adi2mcaRNA10022_R0\tsp|P01024|CO3_HUMAN\t29.592\t1078\t617\t42\t313\t1319\t600\t1606\t2.94e-108\t380\n",
      "adi2mcaRNA10025_R0\tsp|Q4VC17|ATS18_MOUSE\t38.976\t254\t102\t6\t124\t330\t392\t639\t2.07e-45\t177\n",
      "adi2mcaRNA10025_R0\tsp|Q4VC17|ATS18_MOUSE\t29.706\t340\t171\t8\t332\t609\t721\t1054\t2.19e-29\t128\n",
      "adi2mcaRNA10025_R0\tsp|Q4VC17|ATS18_MOUSE\t32.584\t178\t102\t6\t432\t598\t941\t1111\t1.07e-15\t84.7\n",
      "adi2mcaRNA10025_R0\tsp|Q4VC17|ATS18_MOUSE\t31.579\t190\t107\t7\t432\t608\t1001\t1180\t8.61e-13\t75.5\n",
      "adi2mcaRNA10043_R1\tsp|Q9SS04|GSOX1_ARATH\t28.610\t374\t229\t9\t8\t355\t13\t374\t4.34e-39\t149\n"
     ]
    }
   ],
   "source": [
    "!head data/Mcap_blastp_sp.tab"
   ]
  },
  {
   "cell_type": "code",
   "execution_count": 15,
   "metadata": {
    "ExecuteTime": {
     "end_time": "2020-03-06T23:13:50.545474Z",
     "start_time": "2020-03-06T23:13:49.867970Z"
    }
   },
   "outputs": [
    {
     "name": "stdout",
     "output_type": "stream",
     "text": [
      "A0A044RE18\taugustus.g40985.t1\t2.82e-11\n",
      "A0A0B4J1F4\taugustus.g11658.t1\t5.82e-32\n",
      "A0A0B4K7J2\taugustus.g58601.t1\t1.42e-32\n",
      "A0A0B4K7J2\taugustus.g58601.t1\t1.48e-25\n",
      "A0A0B4K7J2\taugustus.g58601.t1\t1.77e-22\n",
      "A0A0B4K7J2\taugustus.g58601.t1\t2.25e-29\n",
      "A0A0B4K7J2\taugustus.g58601.t1\t2.30e-23\n",
      "A0A0B4K7J2\taugustus.g58601.t1\t2.30e-25\n",
      "A0A0B4K7J2\taugustus.g58601.t1\t2.49e-39\n",
      "A0A0B4K7J2\taugustus.g58601.t1\t2.89e-17\n",
      "sort: Broken pipe\n"
     ]
    }
   ],
   "source": [
    "!tr '|' '\\t' < data/Mcap_blastp_sp.tab \\\n",
    "| awk  -F $'\\t' 'BEGIN {OFS = FS} {print $3, $1, $13}' | sort | head\n",
    "#analyses/Mcap_blastp_sp"
   ]
  },
  {
   "cell_type": "code",
   "execution_count": 16,
   "metadata": {
    "ExecuteTime": {
     "end_time": "2020-03-06T23:13:50.545474Z",
     "start_time": "2020-03-06T23:13:49.867970Z"
    }
   },
   "outputs": [],
   "source": [
    "!tr '|' '\\t' < data/Mcap_blastp_sp.tab \\\n",
    "| awk  -F $'\\t' 'BEGIN {OFS = FS} {print $3, $1, $13}' | sort  \\\n",
    "> analyses/Mcap_blastp_sp.sorted"
   ]
  },
  {
   "cell_type": "code",
   "execution_count": 18,
   "metadata": {},
   "outputs": [
    {
     "name": "stdout",
     "output_type": "stream",
     "text": [
      "A0A044RE18\taugustus.g40985.t1\t2.82e-11\tBLI_ONCVO\treviewed\tEndoprotease bli (EC 3.4.21.75) (Blisterase)\tBli\tOnchocerca volvulus\t693\tcellular response to salt [GO:1902075]; chemosensory behavior [GO:0007635]; collagen and cuticulin-based cuticle development [GO:0040002]; dibasic protein processing [GO:0090472]; positive regulation of synaptic growth at neuromuscular junction [GO:0045887]; zymogen activation [GO:0031638]\textracellular region [GO:0005576]; nucleus [GO:0005634]\textracellular region [GO:0005576]; nucleus [GO:0005634]; metal ion binding [GO:0046872]; serine-type endopeptidase activity [GO:0004252]; cellular response to salt [GO:1902075]; chemosensory behavior [GO:0007635]; collagen and cuticulin-based cuticle development [GO:0040002]; dibasic protein processing [GO:0090472]; positive regulation of synaptic growth at neuromuscular junction [GO:0045887]; zymogen activation [GO:0031638]\tmetal ion binding [GO:0046872]; serine-type endopeptidase activity [GO:0004252]\tGO:0004252; GO:0005576; GO:0005634; GO:0007635; GO:0031638; GO:0040002; GO:0045887; GO:0046872; GO:0090472; GO:1902075\t\t\n",
      "A0A0B4J1F4\taugustus.g11658.t1\t5.82e-32\tARRD4_MOUSE\treviewed\tArrestin domain-containing protein 4\tArrdc4\tMus musculus (Mouse)\t415\textracellular vesicle biogenesis [GO:0140112]; positive regulation of ubiquitin-protein transferase activity [GO:0051443]; protein transport [GO:0015031]; protein ubiquitination [GO:0016567]\tearly endosome [GO:0005769]; endosome [GO:0005768]; extracellular vesicle [GO:1903561]; intracellular membrane-bounded organelle [GO:0043231]; plasma membrane [GO:0005886]\tearly endosome [GO:0005769]; endosome [GO:0005768]; extracellular vesicle [GO:1903561]; intracellular membrane-bounded organelle [GO:0043231]; plasma membrane [GO:0005886]; protein binding, bridging involved in substrate recognition for ubiquitination [GO:1990756]; extracellular vesicle biogenesis [GO:0140112]; positive regulation of ubiquitin-protein transferase activity [GO:0051443]; protein transport [GO:0015031]; protein ubiquitination [GO:0016567]\tprotein binding, bridging involved in substrate recognition for ubiquitination [GO:1990756]\tGO:0005768; GO:0005769; GO:0005886; GO:0015031; GO:0016567; GO:0043231; GO:0051443; GO:0140112; GO:1903561; GO:1990756\t\tmmu:66412;\n",
      "A0A0B4K7J2\taugustus.g58601.t1\t1.42e-32\tRBP2_DROME\treviewed\tE3 SUMO-protein ligase RanBP2 (EC 2.3.2.-) (358 kDa nucleoporin) (Nuclear pore complex protein Nup358)\tNup358 RanBP2 CG11856\tDrosophila melanogaster (Fruit fly)\t2718\tgerm cell development [GO:0007281]; juvenile hormone mediated signaling pathway [GO:0035626]; mRNA transport [GO:0051028]; NLS-bearing protein import into nucleus [GO:0006607]; nuclear pore complex assembly [GO:0051292]; piRNA metabolic process [GO:0034587]; positive regulation of cell population proliferation [GO:0008284]; positive regulation of gene expression [GO:0010628]; positive regulation of GTPase activity [GO:0043547]; positive regulation of protein localization to nucleus [GO:1900182]; positive regulation of RNA export from nucleus [GO:0046833]; protein import into nucleus [GO:0006606]; regulation of cellular protein localization [GO:1903827]; regulation of transposition [GO:0010528]; ventral cord development [GO:0007419]\tannulate lamellae [GO:0005642]; cytoplasm [GO:0005737]; nuclear pore [GO:0005643]; nucleus [GO:0005634]\tannulate lamellae [GO:0005642]; cytoplasm [GO:0005737]; nuclear pore [GO:0005643]; nucleus [GO:0005634]; metal ion binding [GO:0046872]; Ran GTPase binding [GO:0008536]; SUMO transferase activity [GO:0019789]; germ cell development [GO:0007281]; juvenile hormone mediated signaling pathway [GO:0035626]; mRNA transport [GO:0051028]; NLS-bearing protein import into nucleus [GO:0006607]; nuclear pore complex assembly [GO:0051292]; piRNA metabolic process [GO:0034587]; positive regulation of cell population proliferation [GO:0008284]; positive regulation of gene expression [GO:0010628]; positive regulation of GTPase activity [GO:0043547]; positive regulation of protein localization to nucleus [GO:1900182]; positive regulation of RNA export from nucleus [GO:0046833]; protein import into nucleus [GO:0006606]; regulation of cellular protein localization [GO:1903827]; regulation of transposition [GO:0010528]; ventral cord development [GO:0007419]\tmetal ion binding [GO:0046872]; Ran GTPase binding [GO:0008536]; SUMO transferase activity [GO:0019789]\tGO:0005634; GO:0005642; GO:0005643; GO:0005737; GO:0006606; GO:0006607; GO:0007281; GO:0007419; GO:0008284; GO:0008536; GO:0010528; GO:0010628; GO:0019789; GO:0034587; GO:0035626; GO:0043547; GO:0046833; GO:0046872; GO:0051028; GO:0051292; GO:1900182; GO:1903827\tK12172;\tdme:Dmel_CG11856;\n",
      "A0A0B4K7J2\taugustus.g58601.t1\t1.48e-25\tRBP2_DROME\treviewed\tE3 SUMO-protein ligase RanBP2 (EC 2.3.2.-) (358 kDa nucleoporin) (Nuclear pore complex protein Nup358)\tNup358 RanBP2 CG11856\tDrosophila melanogaster (Fruit fly)\t2718\tgerm cell development [GO:0007281]; juvenile hormone mediated signaling pathway [GO:0035626]; mRNA transport [GO:0051028]; NLS-bearing protein import into nucleus [GO:0006607]; nuclear pore complex assembly [GO:0051292]; piRNA metabolic process [GO:0034587]; positive regulation of cell population proliferation [GO:0008284]; positive regulation of gene expression [GO:0010628]; positive regulation of GTPase activity [GO:0043547]; positive regulation of protein localization to nucleus [GO:1900182]; positive regulation of RNA export from nucleus [GO:0046833]; protein import into nucleus [GO:0006606]; regulation of cellular protein localization [GO:1903827]; regulation of transposition [GO:0010528]; ventral cord development [GO:0007419]\tannulate lamellae [GO:0005642]; cytoplasm [GO:0005737]; nuclear pore [GO:0005643]; nucleus [GO:0005634]\tannulate lamellae [GO:0005642]; cytoplasm [GO:0005737]; nuclear pore [GO:0005643]; nucleus [GO:0005634]; metal ion binding [GO:0046872]; Ran GTPase binding [GO:0008536]; SUMO transferase activity [GO:0019789]; germ cell development [GO:0007281]; juvenile hormone mediated signaling pathway [GO:0035626]; mRNA transport [GO:0051028]; NLS-bearing protein import into nucleus [GO:0006607]; nuclear pore complex assembly [GO:0051292]; piRNA metabolic process [GO:0034587]; positive regulation of cell population proliferation [GO:0008284]; positive regulation of gene expression [GO:0010628]; positive regulation of GTPase activity [GO:0043547]; positive regulation of protein localization to nucleus [GO:1900182]; positive regulation of RNA export from nucleus [GO:0046833]; protein import into nucleus [GO:0006606]; regulation of cellular protein localization [GO:1903827]; regulation of transposition [GO:0010528]; ventral cord development [GO:0007419]\tmetal ion binding [GO:0046872]; Ran GTPase binding [GO:0008536]; SUMO transferase activity [GO:0019789]\tGO:0005634; GO:0005642; GO:0005643; GO:0005737; GO:0006606; GO:0006607; GO:0007281; GO:0007419; GO:0008284; GO:0008536; GO:0010528; GO:0010628; GO:0019789; GO:0034587; GO:0035626; GO:0043547; GO:0046833; GO:0046872; GO:0051028; GO:0051292; GO:1900182; GO:1903827\tK12172;\tdme:Dmel_CG11856;\n",
      "A0A0B4K7J2\taugustus.g58601.t1\t1.77e-22\tRBP2_DROME\treviewed\tE3 SUMO-protein ligase RanBP2 (EC 2.3.2.-) (358 kDa nucleoporin) (Nuclear pore complex protein Nup358)\tNup358 RanBP2 CG11856\tDrosophila melanogaster (Fruit fly)\t2718\tgerm cell development [GO:0007281]; juvenile hormone mediated signaling pathway [GO:0035626]; mRNA transport [GO:0051028]; NLS-bearing protein import into nucleus [GO:0006607]; nuclear pore complex assembly [GO:0051292]; piRNA metabolic process [GO:0034587]; positive regulation of cell population proliferation [GO:0008284]; positive regulation of gene expression [GO:0010628]; positive regulation of GTPase activity [GO:0043547]; positive regulation of protein localization to nucleus [GO:1900182]; positive regulation of RNA export from nucleus [GO:0046833]; protein import into nucleus [GO:0006606]; regulation of cellular protein localization [GO:1903827]; regulation of transposition [GO:0010528]; ventral cord development [GO:0007419]\tannulate lamellae [GO:0005642]; cytoplasm [GO:0005737]; nuclear pore [GO:0005643]; nucleus [GO:0005634]\tannulate lamellae [GO:0005642]; cytoplasm [GO:0005737]; nuclear pore [GO:0005643]; nucleus [GO:0005634]; metal ion binding [GO:0046872]; Ran GTPase binding [GO:0008536]; SUMO transferase activity [GO:0019789]; germ cell development [GO:0007281]; juvenile hormone mediated signaling pathway [GO:0035626]; mRNA transport [GO:0051028]; NLS-bearing protein import into nucleus [GO:0006607]; nuclear pore complex assembly [GO:0051292]; piRNA metabolic process [GO:0034587]; positive regulation of cell population proliferation [GO:0008284]; positive regulation of gene expression [GO:0010628]; positive regulation of GTPase activity [GO:0043547]; positive regulation of protein localization to nucleus [GO:1900182]; positive regulation of RNA export from nucleus [GO:0046833]; protein import into nucleus [GO:0006606]; regulation of cellular protein localization [GO:1903827]; regulation of transposition [GO:0010528]; ventral cord development [GO:0007419]\tmetal ion binding [GO:0046872]; Ran GTPase binding [GO:0008536]; SUMO transferase activity [GO:0019789]\tGO:0005634; GO:0005642; GO:0005643; GO:0005737; GO:0006606; GO:0006607; GO:0007281; GO:0007419; GO:0008284; GO:0008536; GO:0010528; GO:0010628; GO:0019789; GO:0034587; GO:0035626; GO:0043547; GO:0046833; GO:0046872; GO:0051028; GO:0051292; GO:1900182; GO:1903827\tK12172;\tdme:Dmel_CG11856;\n",
      "A0A0B4K7J2\taugustus.g58601.t1\t2.25e-29\tRBP2_DROME\treviewed\tE3 SUMO-protein ligase RanBP2 (EC 2.3.2.-) (358 kDa nucleoporin) (Nuclear pore complex protein Nup358)\tNup358 RanBP2 CG11856\tDrosophila melanogaster (Fruit fly)\t2718\tgerm cell development [GO:0007281]; juvenile hormone mediated signaling pathway [GO:0035626]; mRNA transport [GO:0051028]; NLS-bearing protein import into nucleus [GO:0006607]; nuclear pore complex assembly [GO:0051292]; piRNA metabolic process [GO:0034587]; positive regulation of cell population proliferation [GO:0008284]; positive regulation of gene expression [GO:0010628]; positive regulation of GTPase activity [GO:0043547]; positive regulation of protein localization to nucleus [GO:1900182]; positive regulation of RNA export from nucleus [GO:0046833]; protein import into nucleus [GO:0006606]; regulation of cellular protein localization [GO:1903827]; regulation of transposition [GO:0010528]; ventral cord development [GO:0007419]\tannulate lamellae [GO:0005642]; cytoplasm [GO:0005737]; nuclear pore [GO:0005643]; nucleus [GO:0005634]\tannulate lamellae [GO:0005642]; cytoplasm [GO:0005737]; nuclear pore [GO:0005643]; nucleus [GO:0005634]; metal ion binding [GO:0046872]; Ran GTPase binding [GO:0008536]; SUMO transferase activity [GO:0019789]; germ cell development [GO:0007281]; juvenile hormone mediated signaling pathway [GO:0035626]; mRNA transport [GO:0051028]; NLS-bearing protein import into nucleus [GO:0006607]; nuclear pore complex assembly [GO:0051292]; piRNA metabolic process [GO:0034587]; positive regulation of cell population proliferation [GO:0008284]; positive regulation of gene expression [GO:0010628]; positive regulation of GTPase activity [GO:0043547]; positive regulation of protein localization to nucleus [GO:1900182]; positive regulation of RNA export from nucleus [GO:0046833]; protein import into nucleus [GO:0006606]; regulation of cellular protein localization [GO:1903827]; regulation of transposition [GO:0010528]; ventral cord development [GO:0007419]\tmetal ion binding [GO:0046872]; Ran GTPase binding [GO:0008536]; SUMO transferase activity [GO:0019789]\tGO:0005634; GO:0005642; GO:0005643; GO:0005737; GO:0006606; GO:0006607; GO:0007281; GO:0007419; GO:0008284; GO:0008536; GO:0010528; GO:0010628; GO:0019789; GO:0034587; GO:0035626; GO:0043547; GO:0046833; GO:0046872; GO:0051028; GO:0051292; GO:1900182; GO:1903827\tK12172;\tdme:Dmel_CG11856;\n",
      "A0A0B4K7J2\taugustus.g58601.t1\t2.30e-23\tRBP2_DROME\treviewed\tE3 SUMO-protein ligase RanBP2 (EC 2.3.2.-) (358 kDa nucleoporin) (Nuclear pore complex protein Nup358)\tNup358 RanBP2 CG11856\tDrosophila melanogaster (Fruit fly)\t2718\tgerm cell development [GO:0007281]; juvenile hormone mediated signaling pathway [GO:0035626]; mRNA transport [GO:0051028]; NLS-bearing protein import into nucleus [GO:0006607]; nuclear pore complex assembly [GO:0051292]; piRNA metabolic process [GO:0034587]; positive regulation of cell population proliferation [GO:0008284]; positive regulation of gene expression [GO:0010628]; positive regulation of GTPase activity [GO:0043547]; positive regulation of protein localization to nucleus [GO:1900182]; positive regulation of RNA export from nucleus [GO:0046833]; protein import into nucleus [GO:0006606]; regulation of cellular protein localization [GO:1903827]; regulation of transposition [GO:0010528]; ventral cord development [GO:0007419]\tannulate lamellae [GO:0005642]; cytoplasm [GO:0005737]; nuclear pore [GO:0005643]; nucleus [GO:0005634]\tannulate lamellae [GO:0005642]; cytoplasm [GO:0005737]; nuclear pore [GO:0005643]; nucleus [GO:0005634]; metal ion binding [GO:0046872]; Ran GTPase binding [GO:0008536]; SUMO transferase activity [GO:0019789]; germ cell development [GO:0007281]; juvenile hormone mediated signaling pathway [GO:0035626]; mRNA transport [GO:0051028]; NLS-bearing protein import into nucleus [GO:0006607]; nuclear pore complex assembly [GO:0051292]; piRNA metabolic process [GO:0034587]; positive regulation of cell population proliferation [GO:0008284]; positive regulation of gene expression [GO:0010628]; positive regulation of GTPase activity [GO:0043547]; positive regulation of protein localization to nucleus [GO:1900182]; positive regulation of RNA export from nucleus [GO:0046833]; protein import into nucleus [GO:0006606]; regulation of cellular protein localization [GO:1903827]; regulation of transposition [GO:0010528]; ventral cord development [GO:0007419]\tmetal ion binding [GO:0046872]; Ran GTPase binding [GO:0008536]; SUMO transferase activity [GO:0019789]\tGO:0005634; GO:0005642; GO:0005643; GO:0005737; GO:0006606; GO:0006607; GO:0007281; GO:0007419; GO:0008284; GO:0008536; GO:0010528; GO:0010628; GO:0019789; GO:0034587; GO:0035626; GO:0043547; GO:0046833; GO:0046872; GO:0051028; GO:0051292; GO:1900182; GO:1903827\tK12172;\tdme:Dmel_CG11856;\n",
      "A0A0B4K7J2\taugustus.g58601.t1\t2.30e-25\tRBP2_DROME\treviewed\tE3 SUMO-protein ligase RanBP2 (EC 2.3.2.-) (358 kDa nucleoporin) (Nuclear pore complex protein Nup358)\tNup358 RanBP2 CG11856\tDrosophila melanogaster (Fruit fly)\t2718\tgerm cell development [GO:0007281]; juvenile hormone mediated signaling pathway [GO:0035626]; mRNA transport [GO:0051028]; NLS-bearing protein import into nucleus [GO:0006607]; nuclear pore complex assembly [GO:0051292]; piRNA metabolic process [GO:0034587]; positive regulation of cell population proliferation [GO:0008284]; positive regulation of gene expression [GO:0010628]; positive regulation of GTPase activity [GO:0043547]; positive regulation of protein localization to nucleus [GO:1900182]; positive regulation of RNA export from nucleus [GO:0046833]; protein import into nucleus [GO:0006606]; regulation of cellular protein localization [GO:1903827]; regulation of transposition [GO:0010528]; ventral cord development [GO:0007419]\tannulate lamellae [GO:0005642]; cytoplasm [GO:0005737]; nuclear pore [GO:0005643]; nucleus [GO:0005634]\tannulate lamellae [GO:0005642]; cytoplasm [GO:0005737]; nuclear pore [GO:0005643]; nucleus [GO:0005634]; metal ion binding [GO:0046872]; Ran GTPase binding [GO:0008536]; SUMO transferase activity [GO:0019789]; germ cell development [GO:0007281]; juvenile hormone mediated signaling pathway [GO:0035626]; mRNA transport [GO:0051028]; NLS-bearing protein import into nucleus [GO:0006607]; nuclear pore complex assembly [GO:0051292]; piRNA metabolic process [GO:0034587]; positive regulation of cell population proliferation [GO:0008284]; positive regulation of gene expression [GO:0010628]; positive regulation of GTPase activity [GO:0043547]; positive regulation of protein localization to nucleus [GO:1900182]; positive regulation of RNA export from nucleus [GO:0046833]; protein import into nucleus [GO:0006606]; regulation of cellular protein localization [GO:1903827]; regulation of transposition [GO:0010528]; ventral cord development [GO:0007419]\tmetal ion binding [GO:0046872]; Ran GTPase binding [GO:0008536]; SUMO transferase activity [GO:0019789]\tGO:0005634; GO:0005642; GO:0005643; GO:0005737; GO:0006606; GO:0006607; GO:0007281; GO:0007419; GO:0008284; GO:0008536; GO:0010528; GO:0010628; GO:0019789; GO:0034587; GO:0035626; GO:0043547; GO:0046833; GO:0046872; GO:0051028; GO:0051292; GO:1900182; GO:1903827\tK12172;\tdme:Dmel_CG11856;\n",
      "A0A0B4K7J2\taugustus.g58601.t1\t2.49e-39\tRBP2_DROME\treviewed\tE3 SUMO-protein ligase RanBP2 (EC 2.3.2.-) (358 kDa nucleoporin) (Nuclear pore complex protein Nup358)\tNup358 RanBP2 CG11856\tDrosophila melanogaster (Fruit fly)\t2718\tgerm cell development [GO:0007281]; juvenile hormone mediated signaling pathway [GO:0035626]; mRNA transport [GO:0051028]; NLS-bearing protein import into nucleus [GO:0006607]; nuclear pore complex assembly [GO:0051292]; piRNA metabolic process [GO:0034587]; positive regulation of cell population proliferation [GO:0008284]; positive regulation of gene expression [GO:0010628]; positive regulation of GTPase activity [GO:0043547]; positive regulation of protein localization to nucleus [GO:1900182]; positive regulation of RNA export from nucleus [GO:0046833]; protein import into nucleus [GO:0006606]; regulation of cellular protein localization [GO:1903827]; regulation of transposition [GO:0010528]; ventral cord development [GO:0007419]\tannulate lamellae [GO:0005642]; cytoplasm [GO:0005737]; nuclear pore [GO:0005643]; nucleus [GO:0005634]\tannulate lamellae [GO:0005642]; cytoplasm [GO:0005737]; nuclear pore [GO:0005643]; nucleus [GO:0005634]; metal ion binding [GO:0046872]; Ran GTPase binding [GO:0008536]; SUMO transferase activity [GO:0019789]; germ cell development [GO:0007281]; juvenile hormone mediated signaling pathway [GO:0035626]; mRNA transport [GO:0051028]; NLS-bearing protein import into nucleus [GO:0006607]; nuclear pore complex assembly [GO:0051292]; piRNA metabolic process [GO:0034587]; positive regulation of cell population proliferation [GO:0008284]; positive regulation of gene expression [GO:0010628]; positive regulation of GTPase activity [GO:0043547]; positive regulation of protein localization to nucleus [GO:1900182]; positive regulation of RNA export from nucleus [GO:0046833]; protein import into nucleus [GO:0006606]; regulation of cellular protein localization [GO:1903827]; regulation of transposition [GO:0010528]; ventral cord development [GO:0007419]\tmetal ion binding [GO:0046872]; Ran GTPase binding [GO:0008536]; SUMO transferase activity [GO:0019789]\tGO:0005634; GO:0005642; GO:0005643; GO:0005737; GO:0006606; GO:0006607; GO:0007281; GO:0007419; GO:0008284; GO:0008536; GO:0010528; GO:0010628; GO:0019789; GO:0034587; GO:0035626; GO:0043547; GO:0046833; GO:0046872; GO:0051028; GO:0051292; GO:1900182; GO:1903827\tK12172;\tdme:Dmel_CG11856;\n",
      "A0A0B4K7J2\taugustus.g58601.t1\t2.89e-17\tRBP2_DROME\treviewed\tE3 SUMO-protein ligase RanBP2 (EC 2.3.2.-) (358 kDa nucleoporin) (Nuclear pore complex protein Nup358)\tNup358 RanBP2 CG11856\tDrosophila melanogaster (Fruit fly)\t2718\tgerm cell development [GO:0007281]; juvenile hormone mediated signaling pathway [GO:0035626]; mRNA transport [GO:0051028]; NLS-bearing protein import into nucleus [GO:0006607]; nuclear pore complex assembly [GO:0051292]; piRNA metabolic process [GO:0034587]; positive regulation of cell population proliferation [GO:0008284]; positive regulation of gene expression [GO:0010628]; positive regulation of GTPase activity [GO:0043547]; positive regulation of protein localization to nucleus [GO:1900182]; positive regulation of RNA export from nucleus [GO:0046833]; protein import into nucleus [GO:0006606]; regulation of cellular protein localization [GO:1903827]; regulation of transposition [GO:0010528]; ventral cord development [GO:0007419]\tannulate lamellae [GO:0005642]; cytoplasm [GO:0005737]; nuclear pore [GO:0005643]; nucleus [GO:0005634]\tannulate lamellae [GO:0005642]; cytoplasm [GO:0005737]; nuclear pore [GO:0005643]; nucleus [GO:0005634]; metal ion binding [GO:0046872]; Ran GTPase binding [GO:0008536]; SUMO transferase activity [GO:0019789]; germ cell development [GO:0007281]; juvenile hormone mediated signaling pathway [GO:0035626]; mRNA transport [GO:0051028]; NLS-bearing protein import into nucleus [GO:0006607]; nuclear pore complex assembly [GO:0051292]; piRNA metabolic process [GO:0034587]; positive regulation of cell population proliferation [GO:0008284]; positive regulation of gene expression [GO:0010628]; positive regulation of GTPase activity [GO:0043547]; positive regulation of protein localization to nucleus [GO:1900182]; positive regulation of RNA export from nucleus [GO:0046833]; protein import into nucleus [GO:0006606]; regulation of cellular protein localization [GO:1903827]; regulation of transposition [GO:0010528]; ventral cord development [GO:0007419]\tmetal ion binding [GO:0046872]; Ran GTPase binding [GO:0008536]; SUMO transferase activity [GO:0019789]\tGO:0005634; GO:0005642; GO:0005643; GO:0005737; GO:0006606; GO:0006607; GO:0007281; GO:0007419; GO:0008284; GO:0008536; GO:0010528; GO:0010628; GO:0019789; GO:0034587; GO:0035626; GO:0043547; GO:0046833; GO:0046872; GO:0051028; GO:0051292; GO:1900182; GO:1903827\tK12172;\tdme:Dmel_CG11856;\n",
      "join: stdout: Broken pipe\n"
     ]
    }
   ],
   "source": [
    "#joining files to ge\n",
    "!join -1 1 -2 1 -t $'\\t' \\\n",
    "analyses/Mcap_blastp_sp.sorted \\\n",
    "analyses/uniprot-yourlist%3AM_41ACM.sorted \\\n",
    "| head\n",
    "#| uniq | awk -F'\\t' -v OFS='\\t' '{print $3, $1, $5, $6}' \\\n",
    "#> Blastquery-GOslim.tab"
   ]
  },
  {
   "cell_type": "code",
   "execution_count": 19,
   "metadata": {},
   "outputs": [],
   "source": [
    "#joining files to ge\n",
    "!join -1 1 -2 1 -t $'\\t' \\\n",
    "analyses/Mcap_blastp_sp.sorted \\\n",
    "analyses/uniprot-yourlist%3AM_41ACM.sorted \\\n",
    "> analyses/Mcap-GO-KO-Kegg.tab"
   ]
  },
  {
   "cell_type": "code",
   "execution_count": null,
   "metadata": {},
   "outputs": [],
   "source": [
    "UniProt columns https://d.pr/i/WJH1o1"
   ]
  }
 ],
 "metadata": {
  "kernelspec": {
   "display_name": "Python 3",
   "language": "python",
   "name": "python3"
  },
  "language_info": {
   "codemirror_mode": {
    "name": "ipython",
    "version": 3
   },
   "file_extension": ".py",
   "mimetype": "text/x-python",
   "name": "python",
   "nbconvert_exporter": "python",
   "pygments_lexer": "ipython3",
   "version": "3.6.8"
  }
 },
 "nbformat": 4,
 "nbformat_minor": 2
}
