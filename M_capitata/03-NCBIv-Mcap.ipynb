{
 "cells": [
  {
   "cell_type": "code",
   "execution_count": 1,
   "metadata": {
    "ExecuteTime": {
     "end_time": "2020-03-06T16:57:22.116297Z",
     "start_time": "2020-03-06T16:57:21.801741Z"
    }
   },
   "outputs": [
    {
     "name": "stdout",
     "output_type": "stream",
     "text": [
      ">RDEB01000001.1 Montipora capitata isolate Colony #1 Sc0000000, whole genome shotgun sequence\r\n",
      "TACTGGCAGTCCAATCTGTCACCCTTGATTataatttcattcaaataatttctttttttatccaATGATCAACCAAATGC\r\n",
      "ATTGCTTGCATTAAAAACTCTTGTCAGCATTAAGTCCTCAGATATGGATCAACAACACAGTAAAACCATTTAATCACTaa\r\n",
      "actttaaaataataattattatattgaaGAATCTAAATCATCATttctttcacaggaacacacaagcccaacaaattgac\r\n",
      "ctgttcccaacagattggcttcatagctcagttggttctAGCAATTGCATTCATTTGGTATCACAGAGGtaatgggttca\r\n",
      "aatcccattggaGCTGCCTGAATTTTTTGGGTGTCTTTTAAAGTGACTCAATCAATTCTATCTTCTCCCTGAATGCAGCG\r\n",
      "TGTTAAGTATGCTTTTTTGAAACACAAGTTTGAGAATCCTGTACTGCAAACTAAATCCTTTAGTTTGCAGTgtatacaca\r\n",
      "cacacacacacatactgGAAAATTACGGGTAAGAAATGTCAATCTCTCCTCATTCCAGTTCTctccaaaataatgttgaa\r\n",
      "GTTGAGGTAATGGTGGACCACTGAATAGTGAAATTCCCCTGTTTTCATCCTTGTTATGTTTTACAATCACATGTCACATT\r\n",
      "GATTAATGGAAATATAATCCCCCTTTAGAACCAGATTGCAGACAGTCATTCTTTAACTTGTGTAATACATTTGTGGATAA\r\n"
     ]
    }
   ],
   "source": [
    "!head /Users/sr320/Dropbox/scratch/genome_assemblies/ncbi-genomes-2020-03-06/GCA_006542545.1_Mcap_UHH_1.1_genomic.fna"
   ]
  },
  {
   "cell_type": "code",
   "execution_count": 2,
   "metadata": {
    "ExecuteTime": {
     "end_time": "2020-03-06T16:57:40.731327Z",
     "start_time": "2020-03-06T16:57:37.414382Z"
    }
   },
   "outputs": [
    {
     "name": "stdout",
     "output_type": "stream",
     "text": [
      "27865\r\n"
     ]
    }
   ],
   "source": [
    "!fgrep -c \">\" /Users/sr320/Dropbox/scratch/genome_assemblies/ncbi-genomes-2020-03-06/GCA_006542545.1_Mcap_UHH_1.1_genomic.fna"
   ]
  },
  {
   "cell_type": "code",
   "execution_count": null,
   "metadata": {},
   "outputs": [],
   "source": []
  }
 ],
 "metadata": {
  "kernelspec": {
   "display_name": "Python 3",
   "language": "python",
   "name": "python3"
  },
  "language_info": {
   "codemirror_mode": {
    "name": "ipython",
    "version": 3
   },
   "file_extension": ".py",
   "mimetype": "text/x-python",
   "name": "python",
   "nbconvert_exporter": "python",
   "pygments_lexer": "ipython3",
   "version": "3.6.8"
  }
 },
 "nbformat": 4,
 "nbformat_minor": 2
}
