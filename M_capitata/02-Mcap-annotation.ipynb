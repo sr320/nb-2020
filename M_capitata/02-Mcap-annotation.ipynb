{
 "cells": [
  {
   "cell_type": "markdown",
   "metadata": {},
   "source": [
    "![pic](http://gannet.fish.washington.edu/seashell/snaps/Genome_analysis_of_the_rice_coral_Montipora_capitata_2020-03-06_08-09-04.png)"
   ]
  },
  {
   "cell_type": "code",
   "execution_count": 1,
   "metadata": {
    "ExecuteTime": {
     "end_time": "2020-03-06T16:30:49.079803Z",
     "start_time": "2020-03-06T16:30:48.825484Z"
    }
   },
   "outputs": [
    {
     "name": "stdout",
     "output_type": "stream",
     "text": [
      ">adi2mcaRNA10013_R0\r\n",
      "MQQGGVIMYDGKTRRPSRNDDLHTKMQRSGSETLLKTDLEQSKEAIKIEIRKQLKLKEGAENLKKVATDKKTLAQCNSIL\r\n",
      "KEATAKLQDLHDELQDLNARVSEDVPSENDDDTLSPDKTDGVSNGPGSSRIESLKKQIAVEMKVKQGAENMLAMYIASGS\r\n",
      "KKKDSKLTAEAQQMLEDSRRKIEIIRMALLREQQQGMPVGREDGVLMGGSSGKENDAPGLGLSPLELRVEDVRHHIEIES\r\n",
      "RVIQGAKNMIKFLSKSGQDKGLVEEAERRFHESTQKLDLLQCSLTRHIGELSPEQAALGIYKDYNTLPSYADRKSVGLGK\r\n",
      "QQYTAITKPAALTGELDVCITGADRLLAVVPNRDPRKTLSLAMVSPDGKIQGERTGSSKRKSGYNKWSLDESLSVEVCAV\r\n",
      "LKLDNSYVGQTSWKALGTECWKEQFHIELDKSRELEVGVYWRDHRSLCGVSFLRLEEFLDNQRHQIQVPLEPQGCLFAEV\r\n",
      "TFLNPMVTKKPRLQRQKKLFHIQKGENLGKNFLRAGQMNTNVATWARLLKRAAPPNCTTNDSTLSPNSTSHPFPSSSQRP\r\n",
      "QTQSPPRQPDFNSTTPGKNTKPSNNTGVPVGSTPKKSVNENEVQDALSAFGFLDSPSPQRSDLQPPPQKPAPPVRRKPPS\r\n",
      "PPTSIISHMNIDSFRCISVLGRGHFGKVILAEYRNTNELFAIKALKKGDIISREEVESLLSEKRIFLTANKMRHPFLVNL\r\n"
     ]
    }
   ],
   "source": [
    "!head /Volumes/web/tmp/Mcap.protein.fasta"
   ]
  },
  {
   "cell_type": "code",
   "execution_count": 4,
   "metadata": {
    "ExecuteTime": {
     "end_time": "2020-03-06T16:31:42.403784Z",
     "start_time": "2020-03-06T16:31:35.042441Z"
    }
   },
   "outputs": [],
   "source": [
    "%%bash\n",
    "awk '!/^>/ { printf \"%s\", $0; n = \"\\n\" } \n",
    "/^>/ { print n $0; n = \"\" }\n",
    "END { printf \"%s\", n }\n",
    "' /Volumes/web/tmp/Mcap.protein.fasta  > /Volumes/web/tmp/Mcap.protein.fa\n"
   ]
  },
  {
   "cell_type": "code",
   "execution_count": 5,
   "metadata": {
    "ExecuteTime": {
     "end_time": "2020-03-06T16:31:47.601619Z",
     "start_time": "2020-03-06T16:31:47.342571Z"
    }
   },
   "outputs": [
    {
     "name": "stdout",
     "output_type": "stream",
     "text": [
      ">adi2mcaRNA10013_R0\n",
      "MQQGGVIMYDGKTRRPSRNDDLHTKMQRSGSETLLKTDLEQSKEAIKIEIRKQLKLKEGAENLKKVATDKKTLAQCNSILKEATAKLQDLHDELQDLNARVSEDVPSENDDDTLSPDKTDGVSNGPGSSRIESLKKQIAVEMKVKQGAENMLAMYIASGSKKKDSKLTAEAQQMLEDSRRKIEIIRMALLREQQQGMPVGREDGVLMGGSSGKENDAPGLGLSPLELRVEDVRHHIEIESRVIQGAKNMIKFLSKSGQDKGLVEEAERRFHESTQKLDLLQCSLTRHIGELSPEQAALGIYKDYNTLPSYADRKSVGLGKQQYTAITKPAALTGELDVCITGADRLLAVVPNRDPRKTLSLAMVSPDGKIQGERTGSSKRKSGYNKWSLDESLSVEVCAVLKLDNSYVGQTSWKALGTECWKEQFHIELDKSRELEVGVYWRDHRSLCGVSFLRLEEFLDNQRHQIQVPLEPQGCLFAEVTFLNPMVTKKPRLQRQKKLFHIQKGENLGKNFLRAGQMNTNVATWARLLKRAAPPNCTTNDSTLSPNSTSHPFPSSSQRPQTQSPPRQPDFNSTTPGKNTKPSNNTGVPVGSTPKKSVNENEVQDALSAFGFLDSPSPQRSDLQPPPQKPAPPVRRKPPSPPTSIISHMNIDSFRCISVLGRGHFGKVILAEYRNTNELFAIKALKKGDIISREEVESLLSEKRIFLTANKMRHPFLVNLFACFQTEEEHVCFVMEYAPGGDLMMHIHADVFSEPRTVFYTSCVVLGLQYLHEHEIVYRDLKLDNLLLDSEGYVKIADFGLCKEGMGYGARTGTFCGTPEFLAPEVLTETSYTRAVDWWGLGVLIFEMLVGESPFPGDDEEEVFDSIVNDEVRYPRFLSTEAIAIMRRLLRRNPERRLGATEKDAEDVRKQPFFRDMNWDDLLARKVRPPFVPSVVSTTQLLIISVGEFFCHWFMAQTYSP*\n",
      ">adi2mcaRNA10016_R5\n",
      "LFQNILLTTARQHVEFSCSTAGDGIYRNPADCSKFIECHGGRAFHKSCSAKLLFNPTIKACSFSCLSVGDGIYPDPADCSKFVFCHGSRIFLHSCPPGLLFNPILKVCDWPQNVLYALI*\n",
      ">adi2mcaRNA10017_R1\n",
      "MAAFADLNVARLCNPHATEELLLRAAKLGFGTVAVCKTFHVKKQKKKGPETEKLTPINWDDFLGMKELKKTHAKLKLMSRLTVLLDDQSQVHQLSSDAVQSFDILAVQPATEKLFQQACTTLEIDIISLDLTHRLPFLLKFPTVNAAIERGVHFEIIYSPALRDPTCRKNLISTALDLVVFTKGKNIVISSGAENEMDFRGPYDIINLGLLFNLTEEQSKAAVTRTVELSVISGKALTRPSTEEEVAGAGNGDVREGDNNSNICVEDDDEPVKKKSKLKR*\n",
      ">adi2mcaRNA10018_R0\n",
      "MQYIGLSIAFSFMVLLDLVGNTLVILVFLLNKSMRTAMNRLVLNLAIADMVVAIFVAIQFVIGPLYEHIVGTTGKLLCKFITGGTLAWTAALVSVCTLVAISVERYHAVLQPLTSRSKLTKTKLKLIISGCWLAGCLWNIPLFVAVTFRDDLGTCGERWPVAILPIVYSLGWSAVAGIIPISIMSYLYSRVVYQLWFETTPARQSASVQKATISRKRATVTVIAVSVIYAFCWIPVLVMYLLAQSLPNQMVHSVDHKITILLAMFNSSINPVVYSFTSSRFRQHVAKLFRCKCSTMKFATRLKVPFKNGNPAGTFKASQDDSQASGGKGVF*\n",
      ">adi2mcaRNA10022_R0\n",
      "MFVILITLSVSVAAVVSTESSAQIFITAPNVFHLGVEETISVILHNVKNPVNVTIAALEYPGKQRNLATANGIFMSEEPGILKLKLDPDDFPMDGADQDDISTKRYAYLVANTNDTELTIDKEVKVLVSFSDGVVLLQTDKPIYTPQQSESLEYTRVLPKFSVSISGPRYVLPDAKAIAISIRARADFFFKIDDIKNVPDLAWFPEGRRFQVEVDVIEKTSGKKESAIDNGIYFVKSPFSIQHEPTAEYFKPALPFLVKVDVLYPDKKPARGIPLSISVKGTTFAGNEVDIGKNTLSQHVNINFEDTTNDQGRATFVIDSPGNMKKMKIKVETNKDDIPVEHNTFVDFEVNAYSSPSRTFLYLRAFREFGCPQKEIRKKRSTSTSEDLSKCCKLGFQPARASCIIRARYWFASFTPSCKKEFLRCCFNATGEKDPTETQARSRKVHQSESTIFEDEEVSQGQIRKYFPEAWLFTEANVGDDGIFHLPANLPDSITTWVIQAAGISNQTGLGVARPLYIRTFKKFFLSLRVPYSVQRGEQISVIATVFNYWELDLKIKISLVEGKEFCTNVPAGEKSAVMLLSVNSNDAASVSFPITPVKLGMLPITVKAVALLPDLSSIMNDVVSSDVVIRSILVVPEGVERRTTYSFVLDPQGVLRDEKPDTTNSSSPATGLKHDRVVHNDMQIDTVVLDVPSRAIPGSIAARMLLTGNLIGPAVTSLISGGLENLLRMPMGCGEQTMMFLAPNVYVLQYLLKTGQVTADIESRAYVLIQSYQRALNYRREDKSFSAFGESRPGSTWLTAFAARVFCAADKFDGIAMDETLVCDSVSWILENQRRDGAFPEIKDIIHKSMMGGVHGDVAMTAFVLVSLVECGCNRQNKSQRIQNAVEFLETELNGIHKVNILALSTYALALAGSSKGVSANRKLLMSQIYNRENATRHWDAGNKALTVETTAYALLAQMALGRLKFAGPIVTWLTSQRDPQGGFVSTIEVRHNIPSSKNETCQFSLEIKVREEVKPNVKDSIPIMGRSGGETGNDDQNDEGEEEEDDDDDDYDYIDDDERERKARKCRKNPKPKSCRKKKRKSKKHKRPKNEAKIPDALQLKVCARYLKDGKTGMTIMDIGVFSGFLPDKDSLTELMENVKPSVDRFEVSDRSVILYVKEISSDIEFCAKFTVNRMFDVGTVQPVPVKVFDYYKPDDSCTQFYSPDSKSALLAGICEEGYCRCAQDDCPSCIDRSFDPKELVDKVCHDSVDFAVIGEVVMIDEQDFRKQSWITYDVKLNEIIKKRKTNLRKGDLMQFKKRSGCVCPEPKERKEYLIMGREEGSFFVFDKTSFVIPWVRKRKSSNLDYIRARVGMDPRCTI*\n"
     ]
    }
   ],
   "source": [
    "!head /Volumes/web/tmp/Mcap.protein.fa"
   ]
  },
  {
   "cell_type": "markdown",
   "metadata": {},
   "source": [
    "off to mox for blastp \n",
    "```\n",
    "/gscratch/srlab/programs/ncbi-blast-2.6.0+/bin/blastp \\\n",
    "-query /gscratch/srlab/sr320/data/froger/Mcap/Mcap.protein.fa \\\n",
    "-db /gscratch/srlab/blastdbs/UniProtKB_20190109/uniprot_sprot.fasta \\\n",
    "-num_threads 28 \\\n",
    "-outfmt 6 \\\n",
    "-max_target_seqs 1 \\\n",
    "-evalue 1e-05 \\\n",
    "-out /gscratch/scrubbed/sr320/030620-Mcap-annotation/Mcap_blastp_sp.tab\n",
    "```"
   ]
  },
  {
   "cell_type": "code",
   "execution_count": 7,
   "metadata": {
    "ExecuteTime": {
     "end_time": "2020-03-06T22:52:22.669531Z",
     "start_time": "2020-03-06T22:52:22.449017Z"
    }
   },
   "outputs": [
    {
     "name": "stdout",
     "output_type": "stream",
     "text": [
      "/Users/sr320/Documents/GitHub/nb-2020/M_capitata\r\n"
     ]
    }
   ],
   "source": [
    "!pwd"
   ]
  },
  {
   "cell_type": "code",
   "execution_count": 8,
   "metadata": {
    "ExecuteTime": {
     "end_time": "2020-03-06T22:52:28.778548Z",
     "start_time": "2020-03-06T22:52:28.641358Z"
    }
   },
   "outputs": [
    {
     "name": "stdout",
     "output_type": "stream",
     "text": [
      "01-proteome.ipynb        03-NCBIv-Mcap.ipynb      \u001b[34mdata\u001b[m\u001b[m\r\n",
      "02-Mcap-annotation.ipynb \u001b[34manalyses\u001b[m\u001b[m\r\n"
     ]
    }
   ],
   "source": [
    "!ls"
   ]
  },
  {
   "cell_type": "code",
   "execution_count": 9,
   "metadata": {
    "ExecuteTime": {
     "end_time": "2020-03-06T22:52:38.423767Z",
     "start_time": "2020-03-06T22:52:38.245978Z"
    }
   },
   "outputs": [],
   "source": [
    "!cd data\n"
   ]
  },
  {
   "cell_type": "code",
   "execution_count": 10,
   "metadata": {
    "ExecuteTime": {
     "end_time": "2020-03-06T22:52:50.555872Z",
     "start_time": "2020-03-06T22:52:49.220896Z"
    }
   },
   "outputs": [
    {
     "name": "stdout",
     "output_type": "stream",
     "text": [
      "  % Total    % Received % Xferd  Average Speed   Time    Time     Time  Current\n",
      "                                 Dload  Upload   Total   Spent    Left  Speed\n",
      "100 3518k  100 3518k    0     0  3158k      0  0:00:01  0:00:01 --:--:-- 3158k\n"
     ]
    }
   ],
   "source": [
    "!curl -O  https://gannet.fish.washington.edu/seashell/bu-mox/scrubbed/sr320/030620-Mcap-annotation/Mcap_blastp_sp.tab\n"
   ]
  },
  {
   "cell_type": "code",
   "execution_count": 11,
   "metadata": {
    "ExecuteTime": {
     "end_time": "2020-03-06T22:52:58.318298Z",
     "start_time": "2020-03-06T22:52:58.185230Z"
    }
   },
   "outputs": [
    {
     "name": "stdout",
     "output_type": "stream",
     "text": [
      "01-proteome.ipynb         03-NCBIv-Mcap.ipynb       \u001b[34manalyses\u001b[m\u001b[m/\r\n",
      "02-Mcap-annotation.ipynb  Mcap_blastp_sp.tab        \u001b[34mdata\u001b[m\u001b[m/\r\n"
     ]
    }
   ],
   "source": [
    "ls"
   ]
  },
  {
   "cell_type": "code",
   "execution_count": 12,
   "metadata": {
    "ExecuteTime": {
     "end_time": "2020-03-06T22:53:23.286891Z",
     "start_time": "2020-03-06T22:53:23.146859Z"
    }
   },
   "outputs": [],
   "source": [
    "!mv Mcap_blastp_sp.tab data/Mcap_blastp_sp.tab"
   ]
  },
  {
   "cell_type": "code",
   "execution_count": 13,
   "metadata": {
    "ExecuteTime": {
     "end_time": "2020-03-06T22:53:25.989231Z",
     "start_time": "2020-03-06T22:53:25.854089Z"
    }
   },
   "outputs": [
    {
     "name": "stdout",
     "output_type": "stream",
     "text": [
      "01-proteome.ipynb         03-NCBIv-Mcap.ipynb       \u001b[34mdata\u001b[m\u001b[m/\r\n",
      "02-Mcap-annotation.ipynb  \u001b[34manalyses\u001b[m\u001b[m/\r\n"
     ]
    }
   ],
   "source": [
    "ls"
   ]
  },
  {
   "cell_type": "code",
   "execution_count": 14,
   "metadata": {
    "ExecuteTime": {
     "end_time": "2020-03-06T22:53:31.706526Z",
     "start_time": "2020-03-06T22:53:31.567886Z"
    }
   },
   "outputs": [
    {
     "name": "stdout",
     "output_type": "stream",
     "text": [
      "\u001b[31mM.cap_inner_B_blast2go_go_table.xlsx\u001b[m\u001b[m*\r\n",
      "\u001b[31mM.cap_inner_NB_blast2go_go_table.xlsx\u001b[m\u001b[m*\r\n",
      "\u001b[31mM.cap_outer_B_blast2go_go_table.xlsx\u001b[m\u001b[m*\r\n",
      "\u001b[31mM.cap_outer_NB_blast2go_go_table.xlsx\u001b[m\u001b[m*\r\n",
      "Mcap_blastp_sp.tab\r\n",
      "Montiporacapitata.contam3.fasta\r\n",
      "chart_693E2C8BFA191579134123331.txt\r\n",
      "combined-sig-proteins.txt\r\n",
      "~$M.cap_inner_B_blast2go_go_table.xlsx\r\n",
      "~$M.cap_outer_NB_blast2go_go_table.xlsx\r\n"
     ]
    }
   ],
   "source": [
    "ls data/"
   ]
  },
  {
   "cell_type": "code",
   "execution_count": 15,
   "metadata": {
    "ExecuteTime": {
     "end_time": "2020-03-06T22:53:59.003184Z",
     "start_time": "2020-03-06T22:53:58.865568Z"
    }
   },
   "outputs": [
    {
     "name": "stdout",
     "output_type": "stream",
     "text": [
      "adi2mcaRNA10013_R0\tsp|A7MBL8|PKN2_DANRE\t53.556\t928\t387\t15\t31\t937\t28\t932\t0.0\t920\r\n",
      "adi2mcaRNA10016_R5\tsp|O45599|CBD1_CAEEL\t36.283\t113\t55\t3\t18\t114\t1182\t1293\t4.35e-14\t70.5\r\n",
      "adi2mcaRNA10017_R1\tsp|Q3SZ21|RPP30_BOVIN\t39.286\t280\t152\t6\t1\t277\t1\t265\t1.92e-56\t185\r\n",
      "adi2mcaRNA10018_R0\tsp|P79218|NK2R_RABIT\t28.136\t295\t195\t8\t7\t291\t37\t324\t3.28e-28\t115\r\n",
      "adi2mcaRNA10022_R0\tsp|P01024|CO3_HUMAN\t29.592\t1078\t617\t42\t313\t1319\t600\t1606\t2.94e-108\t380\r\n",
      "adi2mcaRNA10025_R0\tsp|Q4VC17|ATS18_MOUSE\t38.976\t254\t102\t6\t124\t330\t392\t639\t2.07e-45\t177\r\n",
      "adi2mcaRNA10025_R0\tsp|Q4VC17|ATS18_MOUSE\t29.706\t340\t171\t8\t332\t609\t721\t1054\t2.19e-29\t128\r\n",
      "adi2mcaRNA10025_R0\tsp|Q4VC17|ATS18_MOUSE\t32.584\t178\t102\t6\t432\t598\t941\t1111\t1.07e-15\t84.7\r\n",
      "adi2mcaRNA10025_R0\tsp|Q4VC17|ATS18_MOUSE\t31.579\t190\t107\t7\t432\t608\t1001\t1180\t8.61e-13\t75.5\r\n",
      "adi2mcaRNA10043_R1\tsp|Q9SS04|GSOX1_ARATH\t28.610\t374\t229\t9\t8\t355\t13\t374\t4.34e-39\t149\r\n"
     ]
    }
   ],
   "source": [
    "!head data/Mcap_blastp_sp.tab"
   ]
  },
  {
   "cell_type": "code",
   "execution_count": 17,
   "metadata": {
    "ExecuteTime": {
     "end_time": "2020-03-06T23:13:50.545474Z",
     "start_time": "2020-03-06T23:13:49.867970Z"
    }
   },
   "outputs": [
    {
     "name": "stdout",
     "output_type": "stream",
     "text": [
      "A7MBL8\r\n",
      "O45599\r\n",
      "Q3SZ21\r\n",
      "P79218\r\n",
      "P01024\r\n",
      "Q4VC17\r\n",
      "Q4VC17\r\n",
      "Q4VC17\r\n",
      "Q4VC17\r\n",
      "Q9SS04\r\n"
     ]
    }
   ],
   "source": [
    "!tr '|' '\\t' < data/Mcap_blastp_sp.tab \\\n",
    "| cut -f3 | head"
   ]
  },
  {
   "cell_type": "code",
   "execution_count": 18,
   "metadata": {
    "ExecuteTime": {
     "end_time": "2020-03-06T23:14:08.202852Z",
     "start_time": "2020-03-06T23:14:07.642694Z"
    }
   },
   "outputs": [],
   "source": [
    "!tr '|' '\\t' < data/Mcap_blastp_sp.tab \\\n",
    "| cut -f3 | pbcopy"
   ]
  },
  {
   "cell_type": "code",
   "execution_count": null,
   "metadata": {},
   "outputs": [],
   "source": []
  }
 ],
 "metadata": {
  "kernelspec": {
   "display_name": "Python 3",
   "language": "python",
   "name": "python3"
  },
  "language_info": {
   "codemirror_mode": {
    "name": "ipython",
    "version": 3
   },
   "file_extension": ".py",
   "mimetype": "text/x-python",
   "name": "python",
   "nbconvert_exporter": "python",
   "pygments_lexer": "ipython3",
   "version": "3.6.8"
  }
 },
 "nbformat": 4,
 "nbformat_minor": 2
}
